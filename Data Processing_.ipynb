{
 "cells": [
  {
   "cell_type": "markdown",
   "metadata": {},
   "source": [
    "# Data Processing"
   ]
  },
  {
   "cell_type": "code",
   "execution_count": 1,
   "metadata": {
    "collapsed": false
   },
   "outputs": [],
   "source": [
    "import matplotlib.pyplot as plt\n",
    "%matplotlib inline\n",
    "import numpy as np\n",
    "import pandas as pd"
   ]
  },
  {
   "cell_type": "markdown",
   "metadata": {},
   "source": [
    "### Data Importing :\n",
    "The raw data is in a folder called rawdata.\n",
    "\n",
    "And the cleaned data is in another folder called cleaned data, which is cleaned by our \"TwitterDataCleaning.py\".\n"
   ]
  },
  {
   "cell_type": "code",
   "execution_count": 2,
   "metadata": {
    "collapsed": false
   },
   "outputs": [
    {
     "data": {
      "text/html": [
       "<div>\n",
       "<table border=\"1\" class=\"dataframe\">\n",
       "  <thead>\n",
       "    <tr style=\"text-align: right;\">\n",
       "      <th></th>\n",
       "      <th>hashtags</th>\n",
       "      <th>location</th>\n",
       "      <th>tweet</th>\n",
       "    </tr>\n",
       "  </thead>\n",
       "  <tbody>\n",
       "    <tr>\n",
       "      <th>0</th>\n",
       "      <td>kidquestionsforhillary</td>\n",
       "      <td>NaN</td>\n",
       "      <td>do favorit color</td>\n",
       "    </tr>\n",
       "    <tr>\n",
       "      <th>1</th>\n",
       "      <td>gli51</td>\n",
       "      <td>NaN</td>\n",
       "      <td>michigan tech win 32 ot brent baltus hero husk...</td>\n",
       "    </tr>\n",
       "    <tr>\n",
       "      <th>2</th>\n",
       "      <td>messageformycrush</td>\n",
       "      <td>NaN</td>\n",
       "      <td>love preeto</td>\n",
       "    </tr>\n",
       "    <tr>\n",
       "      <th>3</th>\n",
       "      <td>NaN</td>\n",
       "      <td>NaN</td>\n",
       "      <td>stop</td>\n",
       "    </tr>\n",
       "    <tr>\n",
       "      <th>4</th>\n",
       "      <td>messageformycrush</td>\n",
       "      <td>NaN</td>\n",
       "      <td>ive pick wed dress tux alreadi book date venu ...</td>\n",
       "    </tr>\n",
       "  </tbody>\n",
       "</table>\n",
       "</div>"
      ],
      "text/plain": [
       "                 hashtags location  \\\n",
       "0  kidquestionsforhillary      NaN   \n",
       "1                   gli51      NaN   \n",
       "2       messageformycrush      NaN   \n",
       "3                     NaN      NaN   \n",
       "4       messageformycrush      NaN   \n",
       "\n",
       "                                               tweet  \n",
       "0                                   do favorit color  \n",
       "1  michigan tech win 32 ot brent baltus hero husk...  \n",
       "2                                        love preeto  \n",
       "3                                               stop  \n",
       "4  ive pick wed dress tux alreadi book date venu ...  "
      ]
     },
     "execution_count": 2,
     "metadata": {},
     "output_type": "execute_result"
    }
   ],
   "source": [
    "NorthAmerica = pd.read_csv(\"predata/NorthAmerica_Trends_cleaned1230.csv\",sep = \",\", header = 0)\n",
    "TwitterData = NorthAmerica\n",
    "len(TwitterData)\n",
    "TwitterData.head()"
   ]
  },
  {
   "cell_type": "markdown",
   "metadata": {},
   "source": [
    "## Target Hastags :\n",
    "\n",
    "we will build a data frame for the target hashtags.\n",
    "\n",
    "It could be counted directly or set up by the top trends data from the twitter api.\n",
    "\n",
    "### Counting."
   ]
  },
  {
   "cell_type": "code",
   "execution_count": 3,
   "metadata": {
    "collapsed": false
   },
   "outputs": [],
   "source": [
    "ListHashtags = TwitterData.hashtags.values\n",
    "listwords = []\n",
    "for tag in ListHashtags:\n",
    "    if type(tag) == str:\n",
    "        listwords +=tag.split(\" \")"
   ]
  },
  {
   "cell_type": "code",
   "execution_count": 4,
   "metadata": {
    "collapsed": false
   },
   "outputs": [],
   "source": [
    "#d = {x:lista.count(x) for x in lista}\n",
    "from collections import Counter\n",
    "tags_count=Counter(listwords)"
   ]
  },
  {
   "cell_type": "code",
   "execution_count": 5,
   "metadata": {
    "collapsed": false
   },
   "outputs": [
    {
     "name": "stdout",
     "output_type": "stream",
     "text": [
      "[5494, 5249, 4665, 3248, 3125, 3058, 2558, 1389, 1314, 1310]\n"
     ]
    },
    {
     "data": {
      "text/html": [
       "<div>\n",
       "<table border=\"1\" class=\"dataframe\">\n",
       "  <thead>\n",
       "    <tr style=\"text-align: right;\">\n",
       "      <th></th>\n",
       "      <th>hashtag</th>\n",
       "      <th>number</th>\n",
       "    </tr>\n",
       "  </thead>\n",
       "  <tbody>\n",
       "    <tr>\n",
       "      <th>0</th>\n",
       "      <td></td>\n",
       "      <td>1030</td>\n",
       "    </tr>\n",
       "    <tr>\n",
       "      <th>1</th>\n",
       "      <td>goodfood</td>\n",
       "      <td>1</td>\n",
       "    </tr>\n",
       "    <tr>\n",
       "      <th>2</th>\n",
       "      <td>foul</td>\n",
       "      <td>2</td>\n",
       "    </tr>\n",
       "    <tr>\n",
       "      <th>3</th>\n",
       "      <td>four</td>\n",
       "      <td>1</td>\n",
       "    </tr>\n",
       "    <tr>\n",
       "      <th>4</th>\n",
       "      <td>socialistdemocrats</td>\n",
       "      <td>1</td>\n",
       "    </tr>\n",
       "  </tbody>\n",
       "</table>\n",
       "</div>"
      ],
      "text/plain": [
       "              hashtag  number\n",
       "0                        1030\n",
       "1            goodfood       1\n",
       "2                foul       2\n",
       "3                four       1\n",
       "4  socialistdemocrats       1"
      ]
     },
     "execution_count": 5,
     "metadata": {},
     "output_type": "execute_result"
    }
   ],
   "source": [
    "import heapq\n",
    "N = 10 # N is the number of most used hashtags.\n",
    "index_tag = heapq.nlargest(N, tags_count.values())\n",
    "print index_tag\n",
    "tags_dataframe = pd.DataFrame({'hashtag':tags_count.keys(),'number': np.array(tags_count.values())   })\n",
    "tags_dataframe.head()"
   ]
  },
  {
   "cell_type": "code",
   "execution_count": 6,
   "metadata": {
    "collapsed": false
   },
   "outputs": [],
   "source": [
    "TargetHashtags = tags_dataframe.iloc[np.where(tags_dataframe.number.values >=index_tag[-1])]\n",
    "TargetHashtags\n",
    "ListTargetHashtags = list(TargetHashtags['hashtag'])"
   ]
  },
  {
   "cell_type": "markdown",
   "metadata": {
    "collapsed": false
   },
   "source": [
    "## Top trends importing.\n",
    "\n",
    "Here we import the top trends obtained from the api of twitter.\n",
    "\n",
    "One for hashtags, and the other for keywords."
   ]
  },
  {
   "cell_type": "code",
   "execution_count": 7,
   "metadata": {
    "collapsed": false
   },
   "outputs": [],
   "source": [
    "HashtagsTop = pd.read_csv('predata/Hashtags_cleaned1230.csv', header = 0)\n",
    "KeywordsTop = pd.read_csv('predata/Keywords_cleaned1230.csv', header = 0)"
   ]
  },
  {
   "cell_type": "code",
   "execution_count": 8,
   "metadata": {
    "collapsed": false
   },
   "outputs": [],
   "source": [
    "#tags_dataframe.loc[tags_dataframe['hashtag'].isin(HashtagsTop['hashtag'])]"
   ]
  },
  {
   "cell_type": "markdown",
   "metadata": {
    "collapsed": false
   },
   "source": [
    "## Build up the train set.\n",
    "\n",
    "We extract the tweet associated with the hashtags we want to study.\n",
    "\n",
    "Fistly, we extract the tweets by the ListTargetHashtags"
   ]
  },
  {
   "cell_type": "code",
   "execution_count": 9,
   "metadata": {
    "collapsed": false
   },
   "outputs": [
    {
     "name": "stdout",
     "output_type": "stream",
     "text": [
      "['videomtv2015', 'stormfrank', 'oldwestpickuplines', 'messageformycrush', 'lcfc', 'tamirrice', 'nyeonspringst', 'kidquestionsforhillary']\n"
     ]
    }
   ],
   "source": [
    "#ListTargetHashtags = ListTargetHashtags.remove(\"aldubrendezvous\")\n",
    "ListTargetHashtags = [ListTargetHashtags[i] for i in [0,2,4,5,6,7,8,9]]\n",
    "print ListTargetHashtags"
   ]
  },
  {
   "cell_type": "code",
   "execution_count": 10,
   "metadata": {
    "collapsed": false
   },
   "outputs": [],
   "source": [
    "def tweets_extract(twitterdata,hashtag_list):\n",
    "    targetdata = twitterdata.loc[twitterdata['hashtags'].isin(hashtag_list)]\n",
    "    return targetdata"
   ]
  },
  {
   "cell_type": "code",
   "execution_count": 11,
   "metadata": {
    "collapsed": false
   },
   "outputs": [
    {
     "data": {
      "text/html": [
       "<div>\n",
       "<table border=\"1\" class=\"dataframe\">\n",
       "  <thead>\n",
       "    <tr style=\"text-align: right;\">\n",
       "      <th></th>\n",
       "      <th>hashtags</th>\n",
       "      <th>tweet</th>\n",
       "    </tr>\n",
       "  </thead>\n",
       "  <tbody>\n",
       "    <tr>\n",
       "      <th>0</th>\n",
       "      <td>kidquestionsforhillary</td>\n",
       "      <td>do favorit color</td>\n",
       "    </tr>\n",
       "    <tr>\n",
       "      <th>2</th>\n",
       "      <td>messageformycrush</td>\n",
       "      <td>love preeto</td>\n",
       "    </tr>\n",
       "    <tr>\n",
       "      <th>4</th>\n",
       "      <td>messageformycrush</td>\n",
       "      <td>ive pick wed dress tux alreadi book date venu ...</td>\n",
       "    </tr>\n",
       "    <tr>\n",
       "      <th>11</th>\n",
       "      <td>messageformycrush</td>\n",
       "      <td>dis</td>\n",
       "    </tr>\n",
       "    <tr>\n",
       "      <th>12</th>\n",
       "      <td>kidquestionsforhillary</td>\n",
       "      <td>how mani time forgiven</td>\n",
       "    </tr>\n",
       "  </tbody>\n",
       "</table>\n",
       "</div>"
      ],
      "text/plain": [
       "                  hashtags                                              tweet\n",
       "0   kidquestionsforhillary                                   do favorit color\n",
       "2        messageformycrush                                        love preeto\n",
       "4        messageformycrush  ive pick wed dress tux alreadi book date venu ...\n",
       "11       messageformycrush                                                dis\n",
       "12  kidquestionsforhillary                             how mani time forgiven"
      ]
     },
     "execution_count": 11,
     "metadata": {},
     "output_type": "execute_result"
    }
   ],
   "source": [
    "TargetData = tweets_extract(TwitterData,ListTargetHashtags)\n",
    "TargetData = TargetData.drop('location',1)\n",
    "TargetData = TargetData.loc[TargetData['tweet'].notnull()]\n",
    "TargetData.head()"
   ]
  },
  {
   "cell_type": "code",
   "execution_count": 12,
   "metadata": {
    "collapsed": false
   },
   "outputs": [
    {
     "data": {
      "text/plain": [
       "14677"
      ]
     },
     "execution_count": 12,
     "metadata": {},
     "output_type": "execute_result"
    }
   ],
   "source": [
    "len(TargetData)"
   ]
  },
  {
   "cell_type": "markdown",
   "metadata": {},
   "source": [
    "## Bag of words"
   ]
  },
  {
   "cell_type": "code",
   "execution_count": 13,
   "metadata": {
    "collapsed": true
   },
   "outputs": [],
   "source": [
    "from sklearn.feature_extraction.text import CountVectorizer,TfidfVectorizer\n",
    "Token=r'(^https?:\\/\\/.*[\\r\\n]*)|(@[A-Za-z0-9]+)|(#[A-Za-z0-9]+)|(\\n)|([^\\w])|(RT)'\n",
    "vectorizer_c = CountVectorizer(analyzer = \"word\",   \\\n",
    "                             lowercase=True,\n",
    "                             tokenizer = None,    \\\n",
    "#                              token_pattern = Token,  \\\n",
    "                             preprocessor = None, \\\n",
    "                             stop_words = None,   \\\n",
    "                             max_features = 5000) \n",
    "vectorizer_t = TfidfVectorizer(analyzer = \"word\",   \\\n",
    "                             lowercase=True, \n",
    "                             tokenizer = None,    \\\n",
    "#                              token_pattern = Token, \\\n",
    "                             preprocessor = None, \\\n",
    "                             stop_words = None,   \\\n",
    "                             max_features = 5000)"
   ]
  },
  {
   "cell_type": "code",
   "execution_count": 14,
   "metadata": {
    "collapsed": false
   },
   "outputs": [],
   "source": [
    "data_features = vectorizer_c.fit_transform(TargetData.tweet.values).toarray()\n"
   ]
  },
  {
   "cell_type": "code",
   "execution_count": 15,
   "metadata": {
    "collapsed": false
   },
   "outputs": [
    {
     "name": "stdout",
     "output_type": "stream",
     "text": [
      "(14677, 5000)\n"
     ]
    }
   ],
   "source": [
    "print data_features.shape\n",
    "lable = TargetData.hashtags.values"
   ]
  },
  {
   "cell_type": "markdown",
   "metadata": {},
   "source": [
    "### Features Selection"
   ]
  },
  {
   "cell_type": "code",
   "execution_count": 16,
   "metadata": {
    "collapsed": false
   },
   "outputs": [],
   "source": [
    "from sklearn.feature_selection import SelectKBest,f_classif,chi2\n",
    "num_feature = 500\n",
    "Selec = SelectKBest(f_classif, k = num_feature )\n",
    "train_data_features = Selec.fit_transform(data_features, lable)\n",
    "#shape(train_data_features)"
   ]
  },
  {
   "cell_type": "code",
   "execution_count": 17,
   "metadata": {
    "collapsed": false
   },
   "outputs": [],
   "source": [
    "from random import sample\n",
    "factor_sep = 1.0/3\n",
    "sample_test = sample(xrange(len(lable)), int(len(lable)*factor_sep))\n",
    "train_set= [i for i in range(len(lable)) if i not in sample_test]\n",
    "test_set=[i for i in sample_test]"
   ]
  },
  {
   "cell_type": "markdown",
   "metadata": {},
   "source": [
    "### Gaussian NB"
   ]
  },
  {
   "cell_type": "code",
   "execution_count": 18,
   "metadata": {
    "collapsed": false
   },
   "outputs": [
    {
     "name": "stdout",
     "output_type": "stream",
     "text": [
      "0.648814390842\n"
     ]
    }
   ],
   "source": [
    "from sklearn.naive_bayes import GaussianNB \n",
    "\n",
    "gnb = GaussianNB()\n",
    "# gnb.fit([train_data_features[i] for i in range(len(lable)) if i not in sample_test], [lable[i] for i in range(len(lable)) if i not in sample_test])\n",
    "# print gnb.score([train_data_features[i] for i in sample_test], [lable[i] for i in sample_test])\n",
    "# feat_pred_gnb = gnb.predict([train_data_features[i] for i in sample_test])\n",
    "gnb.fit(train_data_features[train_set] , lable[train_set])\n",
    "print gnb.score(train_data_features[test_set] , lable[test_set])\n",
    "feat_pred_gnb = gnb.predict(train_data_features[test_set])"
   ]
  },
  {
   "cell_type": "code",
   "execution_count": 19,
   "metadata": {
    "collapsed": false,
    "scrolled": false
   },
   "outputs": [
    {
     "data": {
      "text/plain": [
       "array([[ 312,    1,    7,    0,    3,    3,    6,   49],\n",
       "       [  10,   88,    5,    0,    0,    4,    0,    7],\n",
       "       [ 479,    6,  618,    0,   21,   19,   17,  299],\n",
       "       [   0,    0,    0, 1070,    0,    0,    0,    0],\n",
       "       [ 229,    6,   96,    0,  283,    9,    6,   96],\n",
       "       [  49,    3,   25,    0,    8,  316,    7,   67],\n",
       "       [ 115,    2,    9,    0,    7,   16,  303,   27],\n",
       "       [   0,    0,    3,    0,    0,    2,    0,  184]])"
      ]
     },
     "execution_count": 19,
     "metadata": {},
     "output_type": "execute_result"
    },
    {
     "data": {
      "image/png": "[encoded data removed]",
      "text/plain": [
       "<matplotlib.figure.Figure at 0x10ab53750>"
      ]
     },
     "metadata": {},
     "output_type": "display_data"
    }
   ],
   "source": [
    "from sklearn.metrics import confusion_matrix\n",
    "cm = confusion_matrix(lable[test_set],feat_pred_gnb)\n",
    "cm_normalized = cm.astype('float') / cm.sum(axis=1)[:, np.newaxis]\n",
    "plt.imshow(cm_normalized, interpolation='nearest',cmap = 'Blues')\n",
    "plt.colorbar()\n",
    "cm"
   ]
  },
  {
   "cell_type": "code",
   "execution_count": 20,
   "metadata": {
    "collapsed": false
   },
   "outputs": [
    {
     "name": "stdout",
     "output_type": "stream",
     "text": [
      "             precision    recall  f1-score   support\n",
      "\n",
      "kidquestionsforhillary       0.26      0.82      0.40       381\n",
      "       lcfc       0.83      0.77      0.80       114\n",
      "messageformycrush       0.81      0.42      0.56      1459\n",
      "nyeonspringst       1.00      1.00      1.00      1070\n",
      "oldwestpickuplines       0.88      0.39      0.54       725\n",
      " stormfrank       0.86      0.67      0.75       475\n",
      "  tamirrice       0.89      0.63      0.74       479\n",
      "videomtv2015       0.25      0.97      0.40       189\n",
      "\n",
      "avg / total       0.81      0.65      0.67      4892\n",
      "\n"
     ]
    }
   ],
   "source": [
    "from sklearn import metrics\n",
    "print metrics.classification_report(lable[test_set], feat_pred_gnb)"
   ]
  },
  {
   "cell_type": "markdown",
   "metadata": {},
   "source": [
    "### KNN\n",
    "\n",
    "We set the n_neighbors = 4."
   ]
  },
  {
   "cell_type": "code",
   "execution_count": 21,
   "metadata": {
    "collapsed": false
   },
   "outputs": [
    {
     "name": "stdout",
     "output_type": "stream",
     "text": [
      "0.720359771055\n"
     ]
    }
   ],
   "source": [
    "from sklearn import neighbors\n",
    "nn = neighbors.KNeighborsClassifier(n_neighbors = 4, weights=\"uniform\")\n",
    "nn.fit(train_data_features[train_set] , lable[train_set])\n",
    "print nn.score(train_data_features[test_set] , lable[test_set])\n",
    "feat_pred_nn = nn.predict(train_data_features[test_set])"
   ]
  },
  {
   "cell_type": "code",
   "execution_count": 22,
   "metadata": {
    "collapsed": false,
    "scrolled": false
   },
   "outputs": [
    {
     "data": {
      "text/plain": [
       "array([[ 166,    1,  130,    0,   80,    1,    3,    0],\n",
       "       [   8,   51,   41,    0,   12,    1,    1,    0],\n",
       "       [  27,    0, 1212,    0,  199,   11,    2,    8],\n",
       "       [   0,    0,    0, 1070,    0,    0,    0,    0],\n",
       "       [  23,    4,  297,    0,  397,    2,    2,    0],\n",
       "       [  15,    3,  147,    0,   43,  265,    2,    0],\n",
       "       [  30,    1,  174,    0,   73,   23,  178,    0],\n",
       "       [   0,    0,    4,    0,    0,    0,    0,  185]])"
      ]
     },
     "execution_count": 22,
     "metadata": {},
     "output_type": "execute_result"
    },
    {
     "data": {
      "image/png": "[encoded data removed]",
      "text/plain": [
       "<matplotlib.figure.Figure at 0x10cd67bd0>"
      ]
     },
     "metadata": {},
     "output_type": "display_data"
    }
   ],
   "source": [
    "cm = confusion_matrix(lable[test_set],feat_pred_nn)\n",
    "cm_normalized = cm.astype('float') / cm.sum(axis=1)[:, np.newaxis]\n",
    "plt.imshow(cm_normalized, interpolation='nearest',cmap = 'Blues')\n",
    "plt.colorbar()\n",
    "cm"
   ]
  },
  {
   "cell_type": "code",
   "execution_count": 23,
   "metadata": {
    "collapsed": false
   },
   "outputs": [
    {
     "name": "stdout",
     "output_type": "stream",
     "text": [
      "             precision    recall  f1-score   support\n",
      "\n",
      "kidquestionsforhillary       0.62      0.44      0.51       381\n",
      "       lcfc       0.85      0.45      0.59       114\n",
      "messageformycrush       0.60      0.83      0.70      1459\n",
      "nyeonspringst       1.00      1.00      1.00      1070\n",
      "oldwestpickuplines       0.49      0.55      0.52       725\n",
      " stormfrank       0.87      0.56      0.68       475\n",
      "  tamirrice       0.95      0.37      0.53       479\n",
      "videomtv2015       0.96      0.98      0.97       189\n",
      "\n",
      "avg / total       0.75      0.72      0.71      4892\n",
      "\n"
     ]
    }
   ],
   "source": [
    "print metrics.classification_report(lable[test_set], feat_pred_nn)"
   ]
  },
  {
   "cell_type": "markdown",
   "metadata": {},
   "source": [
    "### SVM\n",
    "\n",
    "We select the kernel linear."
   ]
  },
  {
   "cell_type": "code",
   "execution_count": 24,
   "metadata": {
    "collapsed": false
   },
   "outputs": [
    {
     "name": "stdout",
     "output_type": "stream",
     "text": [
      "0.809076042518\n"
     ]
    }
   ],
   "source": [
    "from sklearn import svm\n",
    "svm = svm.SVC(kernel='linear')#‘linear!!!’ or 'poly'\n",
    "factor_sep = 1.0/3\n",
    "#sample_test = sample(xrange(len(lable)), int(len(lable)*factor_sep))\n",
    "svm.fit(train_data_features[train_set] , lable[train_set])\n",
    "print svm.score(train_data_features[test_set] , lable[test_set])\n",
    "feat_pred_svm = svm.predict(train_data_features[test_set])"
   ]
  },
  {
   "cell_type": "code",
   "execution_count": 25,
   "metadata": {
    "collapsed": false
   },
   "outputs": [
    {
     "data": {
      "text/plain": [
       "array([[ 222,    0,   95,    0,   42,    5,   16,    1],\n",
       "       [   1,   77,   26,    0,    5,    3,    2,    0],\n",
       "       [  33,    0, 1318,    0,   85,   11,    5,    7],\n",
       "       [   0,    0,    0, 1070,    0,    0,    0,    0],\n",
       "       [  24,    6,  264,    0,  417,    7,    7,    0],\n",
       "       [   8,    1,  120,    0,   23,  312,   10,    1],\n",
       "       [  16,    1,   75,    0,   22,    8,  356,    1],\n",
       "       [   0,    1,    0,    0,    0,    2,    0,  186]])"
      ]
     },
     "execution_count": 25,
     "metadata": {},
     "output_type": "execute_result"
    },
    {
     "data": {
      "image/png": "[encoded data removed]",
      "text/plain": [
       "<matplotlib.figure.Figure at 0x1384b5e50>"
      ]
     },
     "metadata": {},
     "output_type": "display_data"
    }
   ],
   "source": [
    "from sklearn.metrics import confusion_matrix\n",
    "cm = confusion_matrix(lable[test_set],feat_pred_svm)\n",
    "cm_normalized = cm.astype('float') / cm.sum(axis=1)[:, np.newaxis]\n",
    "plt.imshow(cm_normalized, interpolation='nearest',cmap = 'Blues')\n",
    "plt.colorbar()\n",
    "cm"
   ]
  },
  {
   "cell_type": "code",
   "execution_count": 26,
   "metadata": {
    "collapsed": false,
    "scrolled": true
   },
   "outputs": [
    {
     "name": "stdout",
     "output_type": "stream",
     "text": [
      "             precision    recall  f1-score   support\n",
      "\n",
      "kidquestionsforhillary       0.73      0.58      0.65       381\n",
      "       lcfc       0.90      0.68      0.77       114\n",
      "messageformycrush       0.69      0.90      0.79      1459\n",
      "nyeonspringst       1.00      1.00      1.00      1070\n",
      "oldwestpickuplines       0.70      0.58      0.63       725\n",
      " stormfrank       0.90      0.66      0.76       475\n",
      "  tamirrice       0.90      0.74      0.81       479\n",
      "videomtv2015       0.95      0.98      0.97       189\n",
      "\n",
      "avg / total       0.82      0.81      0.81      4892\n",
      "\n"
     ]
    }
   ],
   "source": [
    "print metrics.classification_report(lable[test_set], feat_pred_svm)"
   ]
  },
  {
   "cell_type": "markdown",
   "metadata": {},
   "source": [
    "### Random Forest\n",
    "\n",
    "We set the n_estimetors = 100."
   ]
  },
  {
   "cell_type": "code",
   "execution_count": 27,
   "metadata": {
    "collapsed": false
   },
   "outputs": [
    {
     "name": "stdout",
     "output_type": "stream",
     "text": [
      "0.811529026983\n"
     ]
    }
   ],
   "source": [
    "from sklearn.ensemble import RandomForestClassifier\n",
    "RF = RandomForestClassifier(n_estimators=500)\n",
    "factor_sep = 1.0/3\n",
    "#sample_test = sample(xrange(len(lable)), int(len(lable)*factor_sep))\n",
    "RF.fit(train_data_features[train_set] , lable[train_set])\n",
    "print RF.score(train_data_features[test_set] , lable[test_set])\n",
    "feat_pred_rf = RF.predict(train_data_features[test_set])"
   ]
  },
  {
   "cell_type": "code",
   "execution_count": 28,
   "metadata": {
    "collapsed": false
   },
   "outputs": [
    {
     "data": {
      "text/plain": [
       "array([[ 232,    0,   91,    0,   29,    5,   23,    1],\n",
       "       [   2,   69,   25,    0,   10,    5,    3,    0],\n",
       "       [  28,    1, 1267,    0,  119,   22,   13,    9],\n",
       "       [   0,    0,    0, 1070,    0,    0,    0,    0],\n",
       "       [  28,    3,  226,    0,  445,   14,    9,    0],\n",
       "       [   6,    0,  109,    0,   20,  328,   11,    1],\n",
       "       [   8,    2,   69,    0,   19,    7,  374,    0],\n",
       "       [   0,    0,    2,    0,    0,    2,    0,  185]])"
      ]
     },
     "execution_count": 28,
     "metadata": {},
     "output_type": "execute_result"
    },
    {
     "data": {
      "image/png": "[encoded data removed]",
      "text/plain": [
       "<matplotlib.figure.Figure at 0x1380d8950>"
      ]
     },
     "metadata": {},
     "output_type": "display_data"
    }
   ],
   "source": [
    "from sklearn.metrics import confusion_matrix\n",
    "cm = confusion_matrix(lable[test_set],feat_pred_rf)\n",
    "cm_normalized = cm.astype('float') / cm.sum(axis=1)[:, np.newaxis]\n",
    "plt.imshow(cm_normalized, interpolation='nearest',cmap = 'Blues')\n",
    "plt.colorbar()\n",
    "cm"
   ]
  },
  {
   "cell_type": "code",
   "execution_count": 29,
   "metadata": {
    "collapsed": false
   },
   "outputs": [
    {
     "name": "stdout",
     "output_type": "stream",
     "text": [
      "             precision    recall  f1-score   support\n",
      "\n",
      "kidquestionsforhillary       0.76      0.61      0.68       381\n",
      "       lcfc       0.92      0.61      0.73       114\n",
      "messageformycrush       0.71      0.87      0.78      1459\n",
      "nyeonspringst       1.00      1.00      1.00      1070\n",
      "oldwestpickuplines       0.69      0.61      0.65       725\n",
      " stormfrank       0.86      0.69      0.76       475\n",
      "  tamirrice       0.86      0.78      0.82       479\n",
      "videomtv2015       0.94      0.98      0.96       189\n",
      "\n",
      "avg / total       0.82      0.81      0.81      4892\n",
      "\n"
     ]
    }
   ],
   "source": [
    "print metrics.classification_report(lable[test_set], feat_pred_rf)"
   ]
  },
  {
   "cell_type": "code",
   "execution_count": 30,
   "metadata": {
    "collapsed": true
   },
   "outputs": [],
   "source": [
    "def PlotCM(lable,pred,title,ax):\n",
    "    'Plot confusion matrix for supervised classification'\n",
    "    cm = confusion_matrix(lable,pred)\n",
    "    cm_normalized = cm.astype('float') / cm.sum(axis=1)[:, np.newaxis]\n",
    "    ax.imshow(cm_normalized, interpolation='nearest',cmap = 'Blues')\n",
    "    ax.set_title('Confusion Matrix for '+ title)\n",
    "    #ax.colorbar()\n",
    "    for y in range(len(ListTargetHashtags)):\n",
    "        for x in range(len(ListTargetHashtags)):\n",
    "            ax.text(x, y , '%.0f' % cm[y,x],\n",
    "                     horizontalalignment='center',\n",
    "                     verticalalignment='center',\n",
    "                     )"
   ]
  },
  {
   "cell_type": "code",
   "execution_count": 31,
   "metadata": {
    "collapsed": false
   },
   "outputs": [
    {
     "data": {
      "image/png": "[encoded data removed]",
      "text/plain": [
       "<matplotlib.figure.Figure at 0x1384e02d0>"
      ]
     },
     "metadata": {},
     "output_type": "display_data"
    }
   ],
   "source": [
    "fig, ((ax1, ax2), (ax3, ax4)) = plt.subplots(2, 2, sharex='col', sharey='row')\n",
    "fig.set_size_inches(15, 15)\n",
    "PlotCM(lable[test_set],feat_pred_gnb,\"GNB\",ax1)\n",
    "PlotCM(lable[test_set],feat_pred_nn,\"KNN\",ax2)\n",
    "PlotCM(lable[test_set],feat_pred_svm,\"SVM\",ax3)\n",
    "PlotCM(lable[test_set],feat_pred_rf,\"RF\",ax4)"
   ]
  },
  {
   "cell_type": "markdown",
   "metadata": {},
   "source": [
    "### Cross Validation for Gaussien NB"
   ]
  },
  {
   "cell_type": "code",
   "execution_count": 32,
   "metadata": {
    "collapsed": false
   },
   "outputs": [
    {
     "name": "stdout",
     "output_type": "stream",
     "text": [
      "[ 0.66258503  0.66462585  0.67006803  0.632403    0.63512594  0.6253406\n",
      "  0.6691678   0.65893588  0.65665529  0.64685792]\n",
      "0.652176533936\n"
     ]
    }
   ],
   "source": [
    "from sklearn import cross_validation\n",
    "scores  = cross_validation.cross_val_score(gnb, train_data_features, lable, cv=10)\n",
    "print(scores)\n",
    "print(np.mean(scores))"
   ]
  },
  {
   "cell_type": "markdown",
   "metadata": {},
   "source": [
    "### Cross Validation for KNN"
   ]
  },
  {
   "cell_type": "code",
   "execution_count": 33,
   "metadata": {
    "collapsed": false
   },
   "outputs": [
    {
     "name": "stdout",
     "output_type": "stream",
     "text": [
      "[ 0.68027211  0.73673469  0.69319728  0.69026549  0.74132063  0.73024523\n",
      "  0.72237381  0.71896317  0.71672355  0.71448087]\n",
      "0.71445768214\n"
     ]
    }
   ],
   "source": [
    "scores  = cross_validation.cross_val_score(nn, train_data_features, lable, cv=10)\n",
    "print(scores)\n",
    "print(np.mean(scores))"
   ]
  },
  {
   "cell_type": "markdown",
   "metadata": {},
   "source": [
    "### Cross Validation for SVM"
   ]
  },
  {
   "cell_type": "code",
   "execution_count": 34,
   "metadata": {
    "collapsed": false
   },
   "outputs": [
    {
     "name": "stdout",
     "output_type": "stream",
     "text": [
      "[ 0.79591837  0.82176871  0.81632653  0.80735194  0.81688223  0.80585831\n",
      "  0.81718963  0.80695771  0.81023891  0.80122951]\n",
      "0.809972184472\n"
     ]
    }
   ],
   "source": [
    "scores  = cross_validation.cross_val_score(svm, train_data_features, lable, cv=10)\n",
    "print(scores)\n",
    "print(np.mean(scores))"
   ]
  },
  {
   "cell_type": "markdown",
   "metadata": {},
   "source": [
    "### Cross Validation for RF"
   ]
  },
  {
   "cell_type": "code",
   "execution_count": 35,
   "metadata": {
    "collapsed": false
   },
   "outputs": [
    {
     "ename": "KeyboardInterrupt",
     "evalue": "",
     "output_type": "error",
     "traceback": [
      "\u001b[0;31m---------------------------------------------------------------------------\u001b[0m",
      "\u001b[0;31mKeyboardInterrupt\u001b[0m                         Traceback (most recent call last)",
      "\u001b[0;32m<ipython-input-35-eceeda584ab4>\u001b[0m in \u001b[0;36m<module>\u001b[0;34m()\u001b[0m\n\u001b[0;32m----> 1\u001b[0;31m \u001b[0mscores\u001b[0m  \u001b[0;34m=\u001b[0m \u001b[0mcross_validation\u001b[0m\u001b[0;34m.\u001b[0m\u001b[0mcross_val_score\u001b[0m\u001b[0;34m(\u001b[0m\u001b[0mRF\u001b[0m\u001b[0;34m,\u001b[0m \u001b[0mtrain_data_features\u001b[0m\u001b[0;34m,\u001b[0m \u001b[0mlable\u001b[0m\u001b[0;34m,\u001b[0m \u001b[0mcv\u001b[0m\u001b[0;34m=\u001b[0m\u001b[0;36m10\u001b[0m\u001b[0;34m)\u001b[0m\u001b[0;34m\u001b[0m\u001b[0m\n\u001b[0m\u001b[1;32m      2\u001b[0m \u001b[0;32mprint\u001b[0m\u001b[0;34m(\u001b[0m\u001b[0mscores\u001b[0m\u001b[0;34m)\u001b[0m\u001b[0;34m\u001b[0m\u001b[0m\n\u001b[1;32m      3\u001b[0m \u001b[0;32mprint\u001b[0m\u001b[0;34m(\u001b[0m\u001b[0mnp\u001b[0m\u001b[0;34m.\u001b[0m\u001b[0mmean\u001b[0m\u001b[0;34m(\u001b[0m\u001b[0mscores\u001b[0m\u001b[0;34m)\u001b[0m\u001b[0;34m)\u001b[0m\u001b[0;34m\u001b[0m\u001b[0m\n",
      "\u001b[0;32m/Users/mimi/anaconda/lib/python2.7/site-packages/sklearn/cross_validation.pyc\u001b[0m in \u001b[0;36mcross_val_score\u001b[0;34m(estimator, X, y, scoring, cv, n_jobs, verbose, fit_params, pre_dispatch)\u001b[0m\n\u001b[1;32m   1359\u001b[0m                                               \u001b[0mtrain\u001b[0m\u001b[0;34m,\u001b[0m \u001b[0mtest\u001b[0m\u001b[0;34m,\u001b[0m \u001b[0mverbose\u001b[0m\u001b[0;34m,\u001b[0m \u001b[0mNone\u001b[0m\u001b[0;34m,\u001b[0m\u001b[0;34m\u001b[0m\u001b[0m\n\u001b[1;32m   1360\u001b[0m                                               fit_params)\n\u001b[0;32m-> 1361\u001b[0;31m                       for train, test in cv)\n\u001b[0m\u001b[1;32m   1362\u001b[0m     \u001b[0;32mreturn\u001b[0m \u001b[0mnp\u001b[0m\u001b[0;34m.\u001b[0m\u001b[0marray\u001b[0m\u001b[0;34m(\u001b[0m\u001b[0mscores\u001b[0m\u001b[0;34m)\u001b[0m\u001b[0;34m[\u001b[0m\u001b[0;34m:\u001b[0m\u001b[0;34m,\u001b[0m \u001b[0;36m0\u001b[0m\u001b[0;34m]\u001b[0m\u001b[0;34m\u001b[0m\u001b[0m\n\u001b[1;32m   1363\u001b[0m \u001b[0;34m\u001b[0m\u001b[0m\n",
      "\u001b[0;32m/Users/mimi/anaconda/lib/python2.7/site-packages/sklearn/externals/joblib/parallel.pyc\u001b[0m in \u001b[0;36m__call__\u001b[0;34m(self, iterable)\u001b[0m\n\u001b[1;32m    657\u001b[0m             \u001b[0mself\u001b[0m\u001b[0;34m.\u001b[0m\u001b[0m_iterating\u001b[0m \u001b[0;34m=\u001b[0m \u001b[0mTrue\u001b[0m\u001b[0;34m\u001b[0m\u001b[0m\n\u001b[1;32m    658\u001b[0m             \u001b[0;32mfor\u001b[0m \u001b[0mfunction\u001b[0m\u001b[0;34m,\u001b[0m \u001b[0margs\u001b[0m\u001b[0;34m,\u001b[0m \u001b[0mkwargs\u001b[0m \u001b[0;32min\u001b[0m \u001b[0miterable\u001b[0m\u001b[0;34m:\u001b[0m\u001b[0;34m\u001b[0m\u001b[0m\n\u001b[0;32m--> 659\u001b[0;31m                 \u001b[0mself\u001b[0m\u001b[0;34m.\u001b[0m\u001b[0mdispatch\u001b[0m\u001b[0;34m(\u001b[0m\u001b[0mfunction\u001b[0m\u001b[0;34m,\u001b[0m \u001b[0margs\u001b[0m\u001b[0;34m,\u001b[0m \u001b[0mkwargs\u001b[0m\u001b[0;34m)\u001b[0m\u001b[0;34m\u001b[0m\u001b[0m\n\u001b[0m\u001b[1;32m    660\u001b[0m \u001b[0;34m\u001b[0m\u001b[0m\n\u001b[1;32m    661\u001b[0m             \u001b[0;32mif\u001b[0m \u001b[0mpre_dispatch\u001b[0m \u001b[0;34m==\u001b[0m \u001b[0;34m\"all\"\u001b[0m \u001b[0;32mor\u001b[0m \u001b[0mn_jobs\u001b[0m \u001b[0;34m==\u001b[0m \u001b[0;36m1\u001b[0m\u001b[0;34m:\u001b[0m\u001b[0;34m\u001b[0m\u001b[0m\n",
      "\u001b[0;32m/Users/mimi/anaconda/lib/python2.7/site-packages/sklearn/externals/joblib/parallel.pyc\u001b[0m in \u001b[0;36mdispatch\u001b[0;34m(self, func, args, kwargs)\u001b[0m\n\u001b[1;32m    404\u001b[0m         \"\"\"\n\u001b[1;32m    405\u001b[0m         \u001b[0;32mif\u001b[0m \u001b[0mself\u001b[0m\u001b[0;34m.\u001b[0m\u001b[0m_pool\u001b[0m \u001b[0;32mis\u001b[0m \u001b[0mNone\u001b[0m\u001b[0;34m:\u001b[0m\u001b[0;34m\u001b[0m\u001b[0m\n\u001b[0;32m--> 406\u001b[0;31m             \u001b[0mjob\u001b[0m \u001b[0;34m=\u001b[0m \u001b[0mImmediateApply\u001b[0m\u001b[0;34m(\u001b[0m\u001b[0mfunc\u001b[0m\u001b[0;34m,\u001b[0m \u001b[0margs\u001b[0m\u001b[0;34m,\u001b[0m \u001b[0mkwargs\u001b[0m\u001b[0;34m)\u001b[0m\u001b[0;34m\u001b[0m\u001b[0m\n\u001b[0m\u001b[1;32m    407\u001b[0m             \u001b[0mindex\u001b[0m \u001b[0;34m=\u001b[0m \u001b[0mlen\u001b[0m\u001b[0;34m(\u001b[0m\u001b[0mself\u001b[0m\u001b[0;34m.\u001b[0m\u001b[0m_jobs\u001b[0m\u001b[0;34m)\u001b[0m\u001b[0;34m\u001b[0m\u001b[0m\n\u001b[1;32m    408\u001b[0m             \u001b[0;32mif\u001b[0m \u001b[0;32mnot\u001b[0m \u001b[0m_verbosity_filter\u001b[0m\u001b[0;34m(\u001b[0m\u001b[0mindex\u001b[0m\u001b[0;34m,\u001b[0m \u001b[0mself\u001b[0m\u001b[0;34m.\u001b[0m\u001b[0mverbose\u001b[0m\u001b[0;34m)\u001b[0m\u001b[0;34m:\u001b[0m\u001b[0;34m\u001b[0m\u001b[0m\n",
      "\u001b[0;32m/Users/mimi/anaconda/lib/python2.7/site-packages/sklearn/externals/joblib/parallel.pyc\u001b[0m in \u001b[0;36m__init__\u001b[0;34m(self, func, args, kwargs)\u001b[0m\n\u001b[1;32m    138\u001b[0m         \u001b[0;31m# Don't delay the application, to avoid keeping the input\u001b[0m\u001b[0;34m\u001b[0m\u001b[0;34m\u001b[0m\u001b[0m\n\u001b[1;32m    139\u001b[0m         \u001b[0;31m# arguments in memory\u001b[0m\u001b[0;34m\u001b[0m\u001b[0;34m\u001b[0m\u001b[0m\n\u001b[0;32m--> 140\u001b[0;31m         \u001b[0mself\u001b[0m\u001b[0;34m.\u001b[0m\u001b[0mresults\u001b[0m \u001b[0;34m=\u001b[0m \u001b[0mfunc\u001b[0m\u001b[0;34m(\u001b[0m\u001b[0;34m*\u001b[0m\u001b[0margs\u001b[0m\u001b[0;34m,\u001b[0m \u001b[0;34m**\u001b[0m\u001b[0mkwargs\u001b[0m\u001b[0;34m)\u001b[0m\u001b[0;34m\u001b[0m\u001b[0m\n\u001b[0m\u001b[1;32m    141\u001b[0m \u001b[0;34m\u001b[0m\u001b[0m\n\u001b[1;32m    142\u001b[0m     \u001b[0;32mdef\u001b[0m \u001b[0mget\u001b[0m\u001b[0;34m(\u001b[0m\u001b[0mself\u001b[0m\u001b[0;34m)\u001b[0m\u001b[0;34m:\u001b[0m\u001b[0;34m\u001b[0m\u001b[0m\n",
      "\u001b[0;32m/Users/mimi/anaconda/lib/python2.7/site-packages/sklearn/cross_validation.pyc\u001b[0m in \u001b[0;36m_fit_and_score\u001b[0;34m(estimator, X, y, scorer, train, test, verbose, parameters, fit_params, return_train_score, return_parameters, error_score)\u001b[0m\n\u001b[1;32m   1457\u001b[0m             \u001b[0mestimator\u001b[0m\u001b[0;34m.\u001b[0m\u001b[0mfit\u001b[0m\u001b[0;34m(\u001b[0m\u001b[0mX_train\u001b[0m\u001b[0;34m,\u001b[0m \u001b[0;34m**\u001b[0m\u001b[0mfit_params\u001b[0m\u001b[0;34m)\u001b[0m\u001b[0;34m\u001b[0m\u001b[0m\n\u001b[1;32m   1458\u001b[0m         \u001b[0;32melse\u001b[0m\u001b[0;34m:\u001b[0m\u001b[0;34m\u001b[0m\u001b[0m\n\u001b[0;32m-> 1459\u001b[0;31m             \u001b[0mestimator\u001b[0m\u001b[0;34m.\u001b[0m\u001b[0mfit\u001b[0m\u001b[0;34m(\u001b[0m\u001b[0mX_train\u001b[0m\u001b[0;34m,\u001b[0m \u001b[0my_train\u001b[0m\u001b[0;34m,\u001b[0m \u001b[0;34m**\u001b[0m\u001b[0mfit_params\u001b[0m\u001b[0;34m)\u001b[0m\u001b[0;34m\u001b[0m\u001b[0m\n\u001b[0m\u001b[1;32m   1460\u001b[0m \u001b[0;34m\u001b[0m\u001b[0m\n\u001b[1;32m   1461\u001b[0m     \u001b[0;32mexcept\u001b[0m \u001b[0mException\u001b[0m \u001b[0;32mas\u001b[0m \u001b[0me\u001b[0m\u001b[0;34m:\u001b[0m\u001b[0;34m\u001b[0m\u001b[0m\n",
      "\u001b[0;32m/Users/mimi/anaconda/lib/python2.7/site-packages/sklearn/ensemble/forest.pyc\u001b[0m in \u001b[0;36mfit\u001b[0;34m(self, X, y, sample_weight)\u001b[0m\n\u001b[1;32m    271\u001b[0m                     \u001b[0mt\u001b[0m\u001b[0;34m,\u001b[0m \u001b[0mself\u001b[0m\u001b[0;34m,\u001b[0m \u001b[0mX\u001b[0m\u001b[0;34m,\u001b[0m \u001b[0my\u001b[0m\u001b[0;34m,\u001b[0m \u001b[0msample_weight\u001b[0m\u001b[0;34m,\u001b[0m \u001b[0mi\u001b[0m\u001b[0;34m,\u001b[0m \u001b[0mlen\u001b[0m\u001b[0;34m(\u001b[0m\u001b[0mtrees\u001b[0m\u001b[0;34m)\u001b[0m\u001b[0;34m,\u001b[0m\u001b[0;34m\u001b[0m\u001b[0m\n\u001b[1;32m    272\u001b[0m                     verbose=self.verbose, class_weight=self.class_weight)\n\u001b[0;32m--> 273\u001b[0;31m                 for i, t in enumerate(trees))\n\u001b[0m\u001b[1;32m    274\u001b[0m \u001b[0;34m\u001b[0m\u001b[0m\n\u001b[1;32m    275\u001b[0m             \u001b[0;31m# Collect newly grown trees\u001b[0m\u001b[0;34m\u001b[0m\u001b[0;34m\u001b[0m\u001b[0m\n",
      "\u001b[0;32m/Users/mimi/anaconda/lib/python2.7/site-packages/sklearn/externals/joblib/parallel.pyc\u001b[0m in \u001b[0;36m__call__\u001b[0;34m(self, iterable)\u001b[0m\n\u001b[1;32m    657\u001b[0m             \u001b[0mself\u001b[0m\u001b[0;34m.\u001b[0m\u001b[0m_iterating\u001b[0m \u001b[0;34m=\u001b[0m \u001b[0mTrue\u001b[0m\u001b[0;34m\u001b[0m\u001b[0m\n\u001b[1;32m    658\u001b[0m             \u001b[0;32mfor\u001b[0m \u001b[0mfunction\u001b[0m\u001b[0;34m,\u001b[0m \u001b[0margs\u001b[0m\u001b[0;34m,\u001b[0m \u001b[0mkwargs\u001b[0m \u001b[0;32min\u001b[0m \u001b[0miterable\u001b[0m\u001b[0;34m:\u001b[0m\u001b[0;34m\u001b[0m\u001b[0m\n\u001b[0;32m--> 659\u001b[0;31m                 \u001b[0mself\u001b[0m\u001b[0;34m.\u001b[0m\u001b[0mdispatch\u001b[0m\u001b[0;34m(\u001b[0m\u001b[0mfunction\u001b[0m\u001b[0;34m,\u001b[0m \u001b[0margs\u001b[0m\u001b[0;34m,\u001b[0m \u001b[0mkwargs\u001b[0m\u001b[0;34m)\u001b[0m\u001b[0;34m\u001b[0m\u001b[0m\n\u001b[0m\u001b[1;32m    660\u001b[0m \u001b[0;34m\u001b[0m\u001b[0m\n\u001b[1;32m    661\u001b[0m             \u001b[0;32mif\u001b[0m \u001b[0mpre_dispatch\u001b[0m \u001b[0;34m==\u001b[0m \u001b[0;34m\"all\"\u001b[0m \u001b[0;32mor\u001b[0m \u001b[0mn_jobs\u001b[0m \u001b[0;34m==\u001b[0m \u001b[0;36m1\u001b[0m\u001b[0;34m:\u001b[0m\u001b[0;34m\u001b[0m\u001b[0m\n",
      "\u001b[0;32m/Users/mimi/anaconda/lib/python2.7/site-packages/sklearn/externals/joblib/parallel.pyc\u001b[0m in \u001b[0;36mdispatch\u001b[0;34m(self, func, args, kwargs)\u001b[0m\n\u001b[1;32m    404\u001b[0m         \"\"\"\n\u001b[1;32m    405\u001b[0m         \u001b[0;32mif\u001b[0m \u001b[0mself\u001b[0m\u001b[0;34m.\u001b[0m\u001b[0m_pool\u001b[0m \u001b[0;32mis\u001b[0m \u001b[0mNone\u001b[0m\u001b[0;34m:\u001b[0m\u001b[0;34m\u001b[0m\u001b[0m\n\u001b[0;32m--> 406\u001b[0;31m             \u001b[0mjob\u001b[0m \u001b[0;34m=\u001b[0m \u001b[0mImmediateApply\u001b[0m\u001b[0;34m(\u001b[0m\u001b[0mfunc\u001b[0m\u001b[0;34m,\u001b[0m \u001b[0margs\u001b[0m\u001b[0;34m,\u001b[0m \u001b[0mkwargs\u001b[0m\u001b[0;34m)\u001b[0m\u001b[0;34m\u001b[0m\u001b[0m\n\u001b[0m\u001b[1;32m    407\u001b[0m             \u001b[0mindex\u001b[0m \u001b[0;34m=\u001b[0m \u001b[0mlen\u001b[0m\u001b[0;34m(\u001b[0m\u001b[0mself\u001b[0m\u001b[0;34m.\u001b[0m\u001b[0m_jobs\u001b[0m\u001b[0;34m)\u001b[0m\u001b[0;34m\u001b[0m\u001b[0m\n\u001b[1;32m    408\u001b[0m             \u001b[0;32mif\u001b[0m \u001b[0;32mnot\u001b[0m \u001b[0m_verbosity_filter\u001b[0m\u001b[0;34m(\u001b[0m\u001b[0mindex\u001b[0m\u001b[0;34m,\u001b[0m \u001b[0mself\u001b[0m\u001b[0;34m.\u001b[0m\u001b[0mverbose\u001b[0m\u001b[0;34m)\u001b[0m\u001b[0;34m:\u001b[0m\u001b[0;34m\u001b[0m\u001b[0m\n",
      "\u001b[0;32m/Users/mimi/anaconda/lib/python2.7/site-packages/sklearn/externals/joblib/parallel.pyc\u001b[0m in \u001b[0;36m__init__\u001b[0;34m(self, func, args, kwargs)\u001b[0m\n\u001b[1;32m    138\u001b[0m         \u001b[0;31m# Don't delay the application, to avoid keeping the input\u001b[0m\u001b[0;34m\u001b[0m\u001b[0;34m\u001b[0m\u001b[0m\n\u001b[1;32m    139\u001b[0m         \u001b[0;31m# arguments in memory\u001b[0m\u001b[0;34m\u001b[0m\u001b[0;34m\u001b[0m\u001b[0m\n\u001b[0;32m--> 140\u001b[0;31m         \u001b[0mself\u001b[0m\u001b[0;34m.\u001b[0m\u001b[0mresults\u001b[0m \u001b[0;34m=\u001b[0m \u001b[0mfunc\u001b[0m\u001b[0;34m(\u001b[0m\u001b[0;34m*\u001b[0m\u001b[0margs\u001b[0m\u001b[0;34m,\u001b[0m \u001b[0;34m**\u001b[0m\u001b[0mkwargs\u001b[0m\u001b[0;34m)\u001b[0m\u001b[0;34m\u001b[0m\u001b[0m\n\u001b[0m\u001b[1;32m    141\u001b[0m \u001b[0;34m\u001b[0m\u001b[0m\n\u001b[1;32m    142\u001b[0m     \u001b[0;32mdef\u001b[0m \u001b[0mget\u001b[0m\u001b[0;34m(\u001b[0m\u001b[0mself\u001b[0m\u001b[0;34m)\u001b[0m\u001b[0;34m:\u001b[0m\u001b[0;34m\u001b[0m\u001b[0m\n",
      "\u001b[0;32m/Users/mimi/anaconda/lib/python2.7/site-packages/sklearn/ensemble/forest.pyc\u001b[0m in \u001b[0;36m_parallel_build_trees\u001b[0;34m(tree, forest, X, y, sample_weight, tree_idx, n_trees, verbose, class_weight)\u001b[0m\n\u001b[1;32m     92\u001b[0m             \u001b[0mcurr_sample_weight\u001b[0m \u001b[0;34m*=\u001b[0m \u001b[0mcompute_sample_weight\u001b[0m\u001b[0;34m(\u001b[0m\u001b[0;34m'auto'\u001b[0m\u001b[0;34m,\u001b[0m \u001b[0my\u001b[0m\u001b[0;34m,\u001b[0m \u001b[0mindices\u001b[0m\u001b[0;34m)\u001b[0m\u001b[0;34m\u001b[0m\u001b[0m\n\u001b[1;32m     93\u001b[0m \u001b[0;34m\u001b[0m\u001b[0m\n\u001b[0;32m---> 94\u001b[0;31m         \u001b[0mtree\u001b[0m\u001b[0;34m.\u001b[0m\u001b[0mfit\u001b[0m\u001b[0;34m(\u001b[0m\u001b[0mX\u001b[0m\u001b[0;34m,\u001b[0m \u001b[0my\u001b[0m\u001b[0;34m,\u001b[0m \u001b[0msample_weight\u001b[0m\u001b[0;34m=\u001b[0m\u001b[0mcurr_sample_weight\u001b[0m\u001b[0;34m,\u001b[0m \u001b[0mcheck_input\u001b[0m\u001b[0;34m=\u001b[0m\u001b[0mFalse\u001b[0m\u001b[0;34m)\u001b[0m\u001b[0;34m\u001b[0m\u001b[0m\n\u001b[0m\u001b[1;32m     95\u001b[0m \u001b[0;34m\u001b[0m\u001b[0m\n\u001b[1;32m     96\u001b[0m         \u001b[0mtree\u001b[0m\u001b[0;34m.\u001b[0m\u001b[0mindices_\u001b[0m \u001b[0;34m=\u001b[0m \u001b[0msample_counts\u001b[0m \u001b[0;34m>\u001b[0m \u001b[0;36m0.\u001b[0m\u001b[0;34m\u001b[0m\u001b[0m\n",
      "\u001b[0;32m/Users/mimi/anaconda/lib/python2.7/site-packages/sklearn/tree/tree.pyc\u001b[0m in \u001b[0;36mfit\u001b[0;34m(self, X, y, sample_weight, check_input)\u001b[0m\n\u001b[1;32m    302\u001b[0m                                            max_leaf_nodes)\n\u001b[1;32m    303\u001b[0m \u001b[0;34m\u001b[0m\u001b[0m\n\u001b[0;32m--> 304\u001b[0;31m         \u001b[0mbuilder\u001b[0m\u001b[0;34m.\u001b[0m\u001b[0mbuild\u001b[0m\u001b[0;34m(\u001b[0m\u001b[0mself\u001b[0m\u001b[0;34m.\u001b[0m\u001b[0mtree_\u001b[0m\u001b[0;34m,\u001b[0m \u001b[0mX\u001b[0m\u001b[0;34m,\u001b[0m \u001b[0my\u001b[0m\u001b[0;34m,\u001b[0m \u001b[0msample_weight\u001b[0m\u001b[0;34m)\u001b[0m\u001b[0;34m\u001b[0m\u001b[0m\n\u001b[0m\u001b[1;32m    305\u001b[0m \u001b[0;34m\u001b[0m\u001b[0m\n\u001b[1;32m    306\u001b[0m         \u001b[0;32mif\u001b[0m \u001b[0mself\u001b[0m\u001b[0;34m.\u001b[0m\u001b[0mn_outputs_\u001b[0m \u001b[0;34m==\u001b[0m \u001b[0;36m1\u001b[0m\u001b[0;34m:\u001b[0m\u001b[0;34m\u001b[0m\u001b[0m\n",
      "\u001b[0;31mKeyboardInterrupt\u001b[0m: "
     ]
    }
   ],
   "source": [
    "scores  = cross_validation.cross_val_score(RF, train_data_features, lable, cv=10)\n",
    "print(scores)\n",
    "print(np.mean(scores))"
   ]
  },
  {
   "cell_type": "code",
   "execution_count": 48,
   "metadata": {
    "collapsed": false
   },
   "outputs": [],
   "source": [
    "k_gnb = []\n",
    "k_nn = []\n",
    "k_svm = []\n",
    "k_rf = []\n",
    "\n",
    "for num_feature in range(100,2000,100):\n",
    "    Selec = SelectKBest(f_classif, k = num_feature )\n",
    "    train_data_features = Selec.fit_transform(data_features, lable)\n",
    "    \n",
    "    #GNB\n",
    "    gnb.fit(train_data_features[train_set], lable[train_set])\n",
    "    k_gnb.append(gnb.score(train_data_features[test_set], lable[test_set]))\n",
    "    \n",
    "    #KNN\n",
    "    nn.fit(train_data_features[train_set], lable[train_set])\n",
    "    k_nn.append(nn.score(train_data_features[test_set], lable[test_set]))\n",
    "    \n",
    "    #SVM  \n",
    "    svm.fit(train_data_features[train_set], lable[train_set])\n",
    "    k_svm.append(svm.score(train_data_features[test_set], lable[test_set]))\n",
    "    \n",
    "    #RF\n",
    "    RF.fit(train_data_features[train_set], lable[train_set])\n",
    "    k_rf.append(RF.score(train_data_features[test_set], lable[test_set]))\n"
   ]
  },
  {
   "cell_type": "code",
   "execution_count": 50,
   "metadata": {
    "collapsed": false
   },
   "outputs": [
    {
     "data": {
      "text/plain": [
       "[<matplotlib.lines.Line2D at 0x13183f710>]"
      ]
     },
     "execution_count": 50,
     "metadata": {},
     "output_type": "execute_result"
    },
    {
     "data": {
      "image/png": "[encoded data removed]",
      "text/plain": [
       "<matplotlib.figure.Figure at 0x1332b4690>"
      ]
     },
     "metadata": {},
     "output_type": "display_data"
    }
   ],
   "source": [
    "import seaborn as sns\n",
    "sns.set_style(\"darkgrid\")\n",
    "sns.plt.plot(k_gnb)"
   ]
  },
  {
   "cell_type": "code",
   "execution_count": 51,
   "metadata": {
    "collapsed": false
   },
   "outputs": [
    {
     "data": {
      "text/plain": [
       "[<matplotlib.lines.Line2D at 0x13186fb10>]"
      ]
     },
     "execution_count": 51,
     "metadata": {},
     "output_type": "execute_result"
    },
    {
     "data": {
      "image/png": "[encoded data removed]",
      "text/plain": [
       "<matplotlib.figure.Figure at 0x130d2fe10>"
      ]
     },
     "metadata": {},
     "output_type": "display_data"
    }
   ],
   "source": [
    "sns.plt.plot(k_nn)"
   ]
  },
  {
   "cell_type": "code",
   "execution_count": 52,
   "metadata": {
    "collapsed": false
   },
   "outputs": [
    {
     "data": {
      "text/plain": [
       "[<matplotlib.lines.Line2D at 0x1337d91d0>]"
      ]
     },
     "execution_count": 52,
     "metadata": {},
     "output_type": "execute_result"
    },
    {
     "data": {
      "image/png": "[encoded data removed]",
      "text/plain": [
       "<matplotlib.figure.Figure at 0x13c8a3e90>"
      ]
     },
     "metadata": {},
     "output_type": "display_data"
    }
   ],
   "source": [
    "sns.plt.plot(k_svm)"
   ]
  },
  {
   "cell_type": "code",
   "execution_count": 55,
   "metadata": {
    "collapsed": false
   },
   "outputs": [
    {
     "data": {
      "text/html": [
       "<div>\n",
       "<table border=\"1\" class=\"dataframe\">\n",
       "  <thead>\n",
       "    <tr style=\"text-align: right;\">\n",
       "      <th></th>\n",
       "      <th>GNB</th>\n",
       "      <th>KNN</th>\n",
       "      <th>RF</th>\n",
       "      <th>SVM</th>\n",
       "    </tr>\n",
       "  </thead>\n",
       "  <tbody>\n",
       "    <tr>\n",
       "      <th>k = 100</th>\n",
       "      <td>0.509403</td>\n",
       "      <td>0.700123</td>\n",
       "      <td>0.735895</td>\n",
       "      <td>0.729967</td>\n",
       "    </tr>\n",
       "    <tr>\n",
       "      <th>k = 200</th>\n",
       "      <td>0.583606</td>\n",
       "      <td>0.710752</td>\n",
       "      <td>0.778823</td>\n",
       "      <td>0.778209</td>\n",
       "    </tr>\n",
       "    <tr>\n",
       "      <th>k = 300</th>\n",
       "      <td>0.628168</td>\n",
       "      <td>0.719542</td>\n",
       "      <td>0.795789</td>\n",
       "      <td>0.795789</td>\n",
       "    </tr>\n",
       "    <tr>\n",
       "      <th>k = 400</th>\n",
       "      <td>0.640842</td>\n",
       "      <td>0.721791</td>\n",
       "      <td>0.801922</td>\n",
       "      <td>0.804579</td>\n",
       "    </tr>\n",
       "    <tr>\n",
       "      <th>k = 500</th>\n",
       "      <td>0.648814</td>\n",
       "      <td>0.720360</td>\n",
       "      <td>0.812347</td>\n",
       "      <td>0.809076</td>\n",
       "    </tr>\n",
       "    <tr>\n",
       "      <th>k = 600</th>\n",
       "      <td>0.688880</td>\n",
       "      <td>0.729354</td>\n",
       "      <td>0.815822</td>\n",
       "      <td>0.818070</td>\n",
       "    </tr>\n",
       "    <tr>\n",
       "      <th>k = 700</th>\n",
       "      <td>0.696648</td>\n",
       "      <td>0.721995</td>\n",
       "      <td>0.816435</td>\n",
       "      <td>0.823590</td>\n",
       "    </tr>\n",
       "    <tr>\n",
       "      <th>k = 800</th>\n",
       "      <td>0.721586</td>\n",
       "      <td>0.716476</td>\n",
       "      <td>0.820728</td>\n",
       "      <td>0.831562</td>\n",
       "    </tr>\n",
       "    <tr>\n",
       "      <th>k = 900</th>\n",
       "      <td>0.745503</td>\n",
       "      <td>0.720360</td>\n",
       "      <td>0.827269</td>\n",
       "      <td>0.838512</td>\n",
       "    </tr>\n",
       "    <tr>\n",
       "      <th>k = 1000</th>\n",
       "      <td>0.741006</td>\n",
       "      <td>0.713818</td>\n",
       "      <td>0.828087</td>\n",
       "      <td>0.839330</td>\n",
       "    </tr>\n",
       "    <tr>\n",
       "      <th>k = 1100</th>\n",
       "      <td>0.768806</td>\n",
       "      <td>0.717294</td>\n",
       "      <td>0.831971</td>\n",
       "      <td>0.841169</td>\n",
       "    </tr>\n",
       "    <tr>\n",
       "      <th>k = 1200</th>\n",
       "      <td>0.766966</td>\n",
       "      <td>0.716271</td>\n",
       "      <td>0.830948</td>\n",
       "      <td>0.843827</td>\n",
       "    </tr>\n",
       "    <tr>\n",
       "      <th>k = 1300</th>\n",
       "      <td>0.805192</td>\n",
       "      <td>0.713001</td>\n",
       "      <td>0.833401</td>\n",
       "      <td>0.845462</td>\n",
       "    </tr>\n",
       "    <tr>\n",
       "      <th>k = 1400</th>\n",
       "      <td>0.806214</td>\n",
       "      <td>0.714636</td>\n",
       "      <td>0.831153</td>\n",
       "      <td>0.847711</td>\n",
       "    </tr>\n",
       "    <tr>\n",
       "      <th>k = 1500</th>\n",
       "      <td>0.802126</td>\n",
       "      <td>0.717907</td>\n",
       "      <td>0.833401</td>\n",
       "      <td>0.846280</td>\n",
       "    </tr>\n",
       "    <tr>\n",
       "      <th>k = 1600</th>\n",
       "      <td>0.761652</td>\n",
       "      <td>0.711365</td>\n",
       "      <td>0.833197</td>\n",
       "      <td>0.848733</td>\n",
       "    </tr>\n",
       "    <tr>\n",
       "      <th>k = 1700</th>\n",
       "      <td>0.757768</td>\n",
       "      <td>0.713410</td>\n",
       "      <td>0.832788</td>\n",
       "      <td>0.850164</td>\n",
       "    </tr>\n",
       "    <tr>\n",
       "      <th>k = 1800</th>\n",
       "      <td>0.753066</td>\n",
       "      <td>0.711570</td>\n",
       "      <td>0.832584</td>\n",
       "      <td>0.850572</td>\n",
       "    </tr>\n",
       "    <tr>\n",
       "      <th>k = 1900</th>\n",
       "      <td>0.761243</td>\n",
       "      <td>0.709730</td>\n",
       "      <td>0.833810</td>\n",
       "      <td>0.854865</td>\n",
       "    </tr>\n",
       "  </tbody>\n",
       "</table>\n",
       "</div>"
      ],
      "text/plain": [
       "               GNB       KNN        RF       SVM\n",
       "k = 100   0.509403  0.700123  0.735895  0.729967\n",
       "k = 200   0.583606  0.710752  0.778823  0.778209\n",
       "k = 300   0.628168  0.719542  0.795789  0.795789\n",
       "k = 400   0.640842  0.721791  0.801922  0.804579\n",
       "k = 500   0.648814  0.720360  0.812347  0.809076\n",
       "k = 600   0.688880  0.729354  0.815822  0.818070\n",
       "k = 700   0.696648  0.721995  0.816435  0.823590\n",
       "k = 800   0.721586  0.716476  0.820728  0.831562\n",
       "k = 900   0.745503  0.720360  0.827269  0.838512\n",
       "k = 1000  0.741006  0.713818  0.828087  0.839330\n",
       "k = 1100  0.768806  0.717294  0.831971  0.841169\n",
       "k = 1200  0.766966  0.716271  0.830948  0.843827\n",
       "k = 1300  0.805192  0.713001  0.833401  0.845462\n",
       "k = 1400  0.806214  0.714636  0.831153  0.847711\n",
       "k = 1500  0.802126  0.717907  0.833401  0.846280\n",
       "k = 1600  0.761652  0.711365  0.833197  0.848733\n",
       "k = 1700  0.757768  0.713410  0.832788  0.850164\n",
       "k = 1800  0.753066  0.711570  0.832584  0.850572\n",
       "k = 1900  0.761243  0.709730  0.833810  0.854865"
      ]
     },
     "execution_count": 55,
     "metadata": {},
     "output_type": "execute_result"
    }
   ],
   "source": [
    "BenchMark = pd.DataFrame({\"GNB\":k_gnb,'KNN':k_nn,\"SVM\":k_svm,'RF':k_rf})\n",
    "BenchMark.index = [\"k = \"+ str(i) for i in range(100,2000,100)]\n",
    "BenchMark"
   ]
  },
  {
   "cell_type": "code",
   "execution_count": 60,
   "metadata": {
    "collapsed": false
   },
   "outputs": [
    {
     "data": {
      "text/plain": [
       "<matplotlib.text.Text at 0x15573e490>"
      ]
     },
     "execution_count": 60,
     "metadata": {},
     "output_type": "execute_result"
    },
    {
     "data": {
      "image/png": "[encoded data removed]",
      "text/plain": [
       "<matplotlib.figure.Figure at 0x1332109d0>"
      ]
     },
     "metadata": {},
     "output_type": "display_data"
    }
   ],
   "source": [
    "sns.plt.figure(figsize = (10,7))\n",
    "sns.plt.plot(BenchMark[\"GNB\"].values)\n",
    "sns.plt.plot(BenchMark[\"KNN\"].values)\n",
    "sns.plt.plot(BenchMark[\"SVM\"].values)\n",
    "sns.plt.plot(BenchMark[\"RF\"].values)\n",
    "sns.plt.xticks(range(0,19),range(100,2000,100))\n",
    "#sns.plt.legend(['GNB','KNN','SVM','RF'])\n",
    "plt.legend(['GNB','KNN','SVM','RF'],bbox_to_anchor=(1.05, 1), loc=2, borderaxespad=0.)\n",
    "\n",
    "sns.plt.xlabel(\"Number of Features K\")\n",
    "sns.plt.ylabel(\"Accuaracy rate 2:1 train-test split\")\n",
    "sns.plt.title(\"Benchmark for differents classifiers against number of features (K)\")"
   ]
  },
  {
   "cell_type": "code",
   "execution_count": null,
   "metadata": {
    "collapsed": true
   },
   "outputs": [],
   "source": []
  }
 ],
 "metadata": {
  "kernelspec": {
   "display_name": "Python 2",
   "language": "python",
   "name": "python2"
  },
  "language_info": {
   "codemirror_mode": {
    "name": "ipython",
    "version": 2
   },
   "file_extension": ".py",
   "mimetype": "text/x-python",
   "name": "python",
   "nbconvert_exporter": "python",
   "pygments_lexer": "ipython2",
   "version": "2.7.11"
  }
 },
 "nbformat": 4,
 "nbformat_minor": 0
}
