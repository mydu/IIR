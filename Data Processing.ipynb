{
 "cells": [
  {
   "cell_type": "markdown",
   "metadata": {},
   "source": [
    "# Data Processing"
   ]
  },
  {
   "cell_type": "code",
   "execution_count": 2,
   "metadata": {
    "collapsed": false
   },
   "outputs": [],
   "source": [
    "import matplotlib.pyplot as plt\n",
    "%matplotlib inline\n",
    "import numpy as np\n",
    "import pandas as pd"
   ]
  },
  {
   "cell_type": "markdown",
   "metadata": {},
   "source": [
    "### Data Importing :\n",
    "The raw data is in a folder called rawdata.\n",
    "\n",
    "And the cleaned data is in another folder called cleaned data, which is cleaned by our \"TwitterDataCleaning.py\".\n"
   ]
  },
  {
   "cell_type": "code",
   "execution_count": 4,
   "metadata": {
    "collapsed": false
   },
   "outputs": [
    {
     "data": {
      "text/html": [
       "<div>\n",
       "<table border=\"1\" class=\"dataframe\">\n",
       "  <thead>\n",
       "    <tr style=\"text-align: right;\">\n",
       "      <th></th>\n",
       "      <th>hashtags</th>\n",
       "      <th>location</th>\n",
       "      <th>tweet</th>\n",
       "    </tr>\n",
       "  </thead>\n",
       "  <tbody>\n",
       "    <tr>\n",
       "      <th>0</th>\n",
       "      <td>NaN</td>\n",
       "      <td>NaN</td>\n",
       "      <td>actor morgan freeman unhurt plane forc land</td>\n",
       "    </tr>\n",
       "    <tr>\n",
       "      <th>1</th>\n",
       "      <td>youaintnomuslimbruv</td>\n",
       "      <td>NaN</td>\n",
       "      <td>london pride</td>\n",
       "    </tr>\n",
       "    <tr>\n",
       "      <th>2</th>\n",
       "      <td>youcandoitliam playliste1 cabasm</td>\n",
       "      <td>NaN</td>\n",
       "      <td>break newsth second messag the suprem leadersa...</td>\n",
       "    </tr>\n",
       "    <tr>\n",
       "      <th>3</th>\n",
       "      <td>mtvstars</td>\n",
       "      <td>NaN</td>\n",
       "      <td>one direct</td>\n",
       "    </tr>\n",
       "    <tr>\n",
       "      <th>4</th>\n",
       "      <td>indvssa</td>\n",
       "      <td>NaN</td>\n",
       "      <td>fascin watch amp even thoughenough variat bowler</td>\n",
       "    </tr>\n",
       "  </tbody>\n",
       "</table>\n",
       "</div>"
      ],
      "text/plain": [
       "                           hashtags  location  \\\n",
       "0                               NaN       NaN   \n",
       "1               youaintnomuslimbruv       NaN   \n",
       "2  youcandoitliam playliste1 cabasm       NaN   \n",
       "3                          mtvstars       NaN   \n",
       "4                           indvssa       NaN   \n",
       "\n",
       "                                               tweet  \n",
       "0        actor morgan freeman unhurt plane forc land  \n",
       "1                                       london pride  \n",
       "2  break newsth second messag the suprem leadersa...  \n",
       "3                                         one direct  \n",
       "4   fascin watch amp even thoughenough variat bowler  "
      ]
     },
     "execution_count": 4,
     "metadata": {},
     "output_type": "execute_result"
    }
   ],
   "source": [
    "NorthAmerica = pd.read_csv(\"predata/NorthAmerica_Trends_cleaned1206.csv\",sep = \",\", header = 0)\n",
    "TwitterData = NorthAmerica\n",
    "len(TwitterData)\n",
    "TwitterData.head()"
   ]
  },
  {
   "cell_type": "markdown",
   "metadata": {},
   "source": [
    "## Target Hastags :\n",
    "\n",
    "we will build a data frame for the target hashtags.\n",
    "\n",
    "It could be counted directly or set up by the top trends data from the twitter api.\n",
    "\n",
    "### Counting."
   ]
  },
  {
   "cell_type": "code",
   "execution_count": 5,
   "metadata": {
    "collapsed": false
   },
   "outputs": [],
   "source": [
    "ListHashtags = TwitterData.hashtags.values\n",
    "listwords = []\n",
    "for tag in ListHashtags:\n",
    "    if type(tag) == str:\n",
    "        listwords +=tag.split(\" \")\n",
    "     "
   ]
  },
  {
   "cell_type": "code",
   "execution_count": 6,
   "metadata": {
    "collapsed": false
   },
   "outputs": [],
   "source": [
    "#d = {x:lista.count(x) for x in lista}\n",
    "from collections import Counter\n",
    "tags_count=Counter(listwords)"
   ]
  },
  {
   "cell_type": "code",
   "execution_count": 7,
   "metadata": {
    "collapsed": false
   },
   "outputs": [
    {
     "name": "stdout",
     "output_type": "stream",
     "text": [
      "[2915, 2560, 2058, 1535, 438, 356, 182, 173, 172, 134]\n"
     ]
    },
    {
     "data": {
      "text/html": [
       "<div>\n",
       "<table border=\"1\" class=\"dataframe\">\n",
       "  <thead>\n",
       "    <tr style=\"text-align: right;\">\n",
       "      <th></th>\n",
       "      <th>hashtag</th>\n",
       "      <th>number</th>\n",
       "    </tr>\n",
       "  </thead>\n",
       "  <tbody>\n",
       "    <tr>\n",
       "      <th>0</th>\n",
       "      <td></td>\n",
       "      <td>47</td>\n",
       "    </tr>\n",
       "    <tr>\n",
       "      <th>1</th>\n",
       "      <td>whoops</td>\n",
       "      <td>1</td>\n",
       "    </tr>\n",
       "    <tr>\n",
       "      <th>2</th>\n",
       "      <td>skynews</td>\n",
       "      <td>1</td>\n",
       "    </tr>\n",
       "    <tr>\n",
       "      <th>3</th>\n",
       "      <td>jihad</td>\n",
       "      <td>3</td>\n",
       "    </tr>\n",
       "    <tr>\n",
       "      <th>4</th>\n",
       "      <td>verybritishproblems</td>\n",
       "      <td>1</td>\n",
       "    </tr>\n",
       "  </tbody>\n",
       "</table>\n",
       "</div>"
      ],
      "text/plain": [
       "               hashtag  number\n",
       "0                           47\n",
       "1               whoops       1\n",
       "2              skynews       1\n",
       "3                jihad       3\n",
       "4  verybritishproblems       1"
      ]
     },
     "execution_count": 7,
     "metadata": {},
     "output_type": "execute_result"
    }
   ],
   "source": [
    "import heapq\n",
    "N = 10 # N is the number of most used hashtags.\n",
    "index_tag = heapq.nlargest(N, tags_count.values())\n",
    "print index_tag\n",
    "tags_dataframe = pd.DataFrame({'hashtag':tags_count.keys(),'number': np.array(tags_count.values())   })\n",
    "tags_dataframe.head()"
   ]
  },
  {
   "cell_type": "code",
   "execution_count": 8,
   "metadata": {
    "collapsed": false
   },
   "outputs": [],
   "source": [
    "TargetHashtags = tags_dataframe.iloc[np.where(tags_dataframe.number.values >=index_tag[-1])]\n",
    "TargetHashtags\n",
    "ListTargetHashtags = list(TargetHashtags['hashtag'])"
   ]
  },
  {
   "cell_type": "markdown",
   "metadata": {
    "collapsed": false
   },
   "source": [
    "## Top trends importing.\n",
    "\n",
    "Here we import the top trends obtained from the api of twitter.\n",
    "\n",
    "One for hashtags, and the other for keywords."
   ]
  },
  {
   "cell_type": "code",
   "execution_count": 9,
   "metadata": {
    "collapsed": false
   },
   "outputs": [],
   "source": [
    "HashtagsTop = pd.read_csv('predata/Hashtags_cleaned1206.csv', header = 0)\n",
    "KeywordsTop = pd.read_csv('predata/Keywords_cleaned1206.csv', header = 0)"
   ]
  },
  {
   "cell_type": "code",
   "execution_count": 10,
   "metadata": {
    "collapsed": false
   },
   "outputs": [],
   "source": [
    "#tags_dataframe.loc[tags_dataframe['hashtag'].isin(HashtagsTop['hashtag'])]"
   ]
  },
  {
   "cell_type": "markdown",
   "metadata": {
    "collapsed": false
   },
   "source": [
    "## Build up the train set.\n",
    "\n",
    "We extract the tweet associated with the hashtags we want to study.\n",
    "\n",
    "Fistly, we extract the tweets by the ListTargetHashtags"
   ]
  },
  {
   "cell_type": "code",
   "execution_count": 11,
   "metadata": {
    "collapsed": false
   },
   "outputs": [
    {
     "data": {
      "text/plain": [
       "['hackdisrupt',\n",
       " 'zaynsstill1daf',\n",
       " 'mtvstars',\n",
       " 'youcandoitliam',\n",
       " 'msuvsiowa',\n",
       " 'indvssa',\n",
       " 'clemson',\n",
       " 'wetmusic',\n",
       " 'thingsishouldntadmit',\n",
       " 'youaintnomuslimbruv']"
      ]
     },
     "execution_count": 11,
     "metadata": {},
     "output_type": "execute_result"
    }
   ],
   "source": [
    "#ListTargetHashtags = ListTargetHashtags.remove(\"aldubrendezvous\")\n",
    "ListTargetHashtags"
   ]
  },
  {
   "cell_type": "code",
   "execution_count": 12,
   "metadata": {
    "collapsed": false
   },
   "outputs": [],
   "source": [
    "def tweets_extract(twitterdata,hashtag_list):\n",
    "    targetdata = twitterdata.loc[twitterdata['hashtags'].isin(hashtag_list)]\n",
    "    return targetdata"
   ]
  },
  {
   "cell_type": "code",
   "execution_count": 13,
   "metadata": {
    "collapsed": false
   },
   "outputs": [
    {
     "data": {
      "text/html": [
       "<div>\n",
       "<table border=\"1\" class=\"dataframe\">\n",
       "  <thead>\n",
       "    <tr style=\"text-align: right;\">\n",
       "      <th></th>\n",
       "      <th>hashtags</th>\n",
       "      <th>tweet</th>\n",
       "    </tr>\n",
       "  </thead>\n",
       "  <tbody>\n",
       "    <tr>\n",
       "      <th>1</th>\n",
       "      <td>youaintnomuslimbruv</td>\n",
       "      <td>london pride</td>\n",
       "    </tr>\n",
       "    <tr>\n",
       "      <th>3</th>\n",
       "      <td>mtvstars</td>\n",
       "      <td>one direct</td>\n",
       "    </tr>\n",
       "    <tr>\n",
       "      <th>4</th>\n",
       "      <td>indvssa</td>\n",
       "      <td>fascin watch amp even thoughenough variat bowler</td>\n",
       "    </tr>\n",
       "    <tr>\n",
       "      <th>5</th>\n",
       "      <td>zaynsstill1daf</td>\n",
       "      <td>i got warm feel zayn rt</td>\n",
       "    </tr>\n",
       "    <tr>\n",
       "      <th>8</th>\n",
       "      <td>youcandoitliam</td>\n",
       "      <td>_liam_payn well know easi youin good time bad ...</td>\n",
       "    </tr>\n",
       "  </tbody>\n",
       "</table>\n",
       "</div>"
      ],
      "text/plain": [
       "              hashtags                                              tweet\n",
       "1  youaintnomuslimbruv                                       london pride\n",
       "3             mtvstars                                         one direct\n",
       "4              indvssa   fascin watch amp even thoughenough variat bowler\n",
       "5       zaynsstill1daf                            i got warm feel zayn rt\n",
       "8       youcandoitliam  _liam_payn well know easi youin good time bad ..."
      ]
     },
     "execution_count": 13,
     "metadata": {},
     "output_type": "execute_result"
    }
   ],
   "source": [
    "TargetData = tweets_extract(TwitterData,ListTargetHashtags)\n",
    "TargetData = TargetData.drop('location',1)\n",
    "TargetData = TargetData.loc[TargetData['tweet'].notnull()]\n",
    "TargetData.head()"
   ]
  },
  {
   "cell_type": "code",
   "execution_count": 14,
   "metadata": {
    "collapsed": false
   },
   "outputs": [
    {
     "data": {
      "text/plain": [
       "6604"
      ]
     },
     "execution_count": 14,
     "metadata": {},
     "output_type": "execute_result"
    }
   ],
   "source": [
    "len(TargetData)"
   ]
  },
  {
   "cell_type": "markdown",
   "metadata": {},
   "source": [
    "## Bag of words"
   ]
  },
  {
   "cell_type": "code",
   "execution_count": 15,
   "metadata": {
    "collapsed": true
   },
   "outputs": [],
   "source": [
    "from sklearn.feature_extraction.text import CountVectorizer\n",
    "vectorizer = CountVectorizer(analyzer = \"word\",   \\\n",
    "                             tokenizer = None,    \\\n",
    "                             preprocessor = None, \\\n",
    "                             stop_words = None,   \\\n",
    "                             max_features = 5000) \n"
   ]
  },
  {
   "cell_type": "code",
   "execution_count": 16,
   "metadata": {
    "collapsed": false
   },
   "outputs": [],
   "source": [
    "train_data_features = vectorizer.fit_transform(TargetData.tweet.values).toarray()\n"
   ]
  },
  {
   "cell_type": "code",
   "execution_count": 17,
   "metadata": {
    "collapsed": false
   },
   "outputs": [],
   "source": [
    "train_data_features[0]\n",
    "lable = TargetData.hashtags.values"
   ]
  },
  {
   "cell_type": "markdown",
   "metadata": {},
   "source": [
    "### Features Selection"
   ]
  },
  {
   "cell_type": "code",
   "execution_count": 18,
   "metadata": {
    "collapsed": false
   },
   "outputs": [],
   "source": [
    "from sklearn.feature_selection import SelectKBest,f_classif,chi2\n",
    "Selec = SelectKBest(chi2, k = 1000 )\n",
    "train_data_features = Selec.fit_transform(train_data_features, lable)\n",
    "#shape(train_data_features)"
   ]
  },
  {
   "cell_type": "markdown",
   "metadata": {},
   "source": [
    "### Gaussian NB"
   ]
  },
  {
   "cell_type": "code",
   "execution_count": 19,
   "metadata": {
    "collapsed": false
   },
   "outputs": [
    {
     "name": "stdout",
     "output_type": "stream",
     "text": [
      "0.727974568574\n"
     ]
    }
   ],
   "source": [
    "from sklearn.naive_bayes import GaussianNB \n",
    "\n",
    "N_sep = len(lable)*2/3\n",
    "\n",
    "gnb = GaussianNB()\n",
    "gnb.fit(train_data_features[0:N_sep], lable[0:N_sep])\n",
    "print gnb.score(train_data_features[N_sep:], lable[N_sep:])\n",
    "feat_pred_gnb = gnb.predict(train_data_features[N_sep:])"
   ]
  },
  {
   "cell_type": "code",
   "execution_count": 20,
   "metadata": {
    "collapsed": false
   },
   "outputs": [
    {
     "data": {
      "text/plain": [
       "array([[ 15,   0,   0,   2,   0,   0,   0,   0,   0,   0],\n",
       "       [  0,  34,   1,   0,   1,   0,   0,   1,   0,   1],\n",
       "       [  1,   2,  77,   2,   1,   1,   1,   1,   0,   1],\n",
       "       [  1,   0,   0,   9,   0,   1,   1,   2,   2,   2],\n",
       "       [  0,   0,   0,   1, 170,   0,   0,   0,   0,   2],\n",
       "       [  0,   1,   0,   1,   4,   5,   4,   7,   4,   4],\n",
       "       [  2,   2,   2,  14,   7,   1,  36,   0,   1,   2],\n",
       "       [ 19,  24,   5,  30,  29,  17,  30, 525,  19,  74],\n",
       "       [  7,   4,   1,  12,  33,   4,  18,   3, 448,  49],\n",
       "       [  8,   5,   0,  28,  53,   9,  21,   4,   9, 284]])"
      ]
     },
     "execution_count": 20,
     "metadata": {},
     "output_type": "execute_result"
    },
    {
     "name": "stderr",
     "output_type": "stream",
     "text": [
      "/Users/duqiming2004/anaconda/lib/python2.7/site-packages/matplotlib/collections.py:590: FutureWarning: elementwise comparison failed; returning scalar instead, but in the future will perform elementwise comparison\n",
      "  if self._edgecolors == str('face'):\n"
     ]
    },
    {
     "data": {
      "image/png": "[encoded data removed]",
      "text/plain": [
       "<matplotlib.figure.Figure at 0x102fa8890>"
      ]
     },
     "metadata": {},
     "output_type": "display_data"
    }
   ],
   "source": [
    "from sklearn.metrics import confusion_matrix\n",
    "cm = confusion_matrix(lable[N_sep:],feat_pred_gnb)\n",
    "cm_normalized = cm.astype('float') / cm.sum(axis=1)[:, np.newaxis]\n",
    "plt.imshow(cm_normalized, interpolation='nearest',cmap = 'Blues')\n",
    "plt.colorbar()\n",
    "cm"
   ]
  },
  {
   "cell_type": "markdown",
   "metadata": {},
   "source": [
    "### KNN\n",
    "\n",
    "We set the n_neighbors = 4."
   ]
  },
  {
   "cell_type": "code",
   "execution_count": 21,
   "metadata": {
    "collapsed": false
   },
   "outputs": [
    {
     "name": "stdout",
     "output_type": "stream",
     "text": [
      "0.760672116258\n"
     ]
    }
   ],
   "source": [
    "from sklearn import neighbors\n",
    "nn = neighbors.KNeighborsClassifier(n_neighbors = 4, weights=\"uniform\")\n",
    "nn.fit(train_data_features[0:N_sep], lable[0:N_sep])\n",
    "print nn.score(train_data_features[N_sep:], lable[N_sep:])\n",
    "feat_pred_nn = nn.predict(train_data_features[N_sep:])"
   ]
  },
  {
   "cell_type": "code",
   "execution_count": 22,
   "metadata": {
    "collapsed": false
   },
   "outputs": [
    {
     "data": {
      "text/plain": [
       "array([[  5,   0,   0,   0,   0,   0,   0,   4,   6,   2],\n",
       "       [  0,  30,   1,   0,   0,   0,   0,   4,   1,   2],\n",
       "       [  0,   0,  42,   0,   0,   1,   7,  18,   8,  11],\n",
       "       [  0,   0,   0,   3,   0,   1,   5,   6,   1,   2],\n",
       "       [  0,   0,   0,   0, 172,   0,   0,   0,   0,   1],\n",
       "       [  0,   0,   0,   0,   1,   0,   1,   8,  10,  10],\n",
       "       [  0,   0,   0,   0,   0,   0,  12,  45,   7,   3],\n",
       "       [  0,   0,   3,   0,   1,   4,  13, 649,  47,  55],\n",
       "       [  0,   0,   2,   0,   2,   0,  13,  43, 488,  31],\n",
       "       [  0,   0,   1,   0,   6,   0,  11,  86,  43, 274]])"
      ]
     },
     "execution_count": 22,
     "metadata": {},
     "output_type": "execute_result"
    },
    {
     "data": {
      "image/png": "[encoded data removed]",
      "text/plain": [
       "<matplotlib.figure.Figure at 0x1080afb10>"
      ]
     },
     "metadata": {},
     "output_type": "display_data"
    }
   ],
   "source": [
    "cm = confusion_matrix(lable[N_sep:],feat_pred_nn)\n",
    "cm_normalized = cm.astype('float') / cm.sum(axis=1)[:, np.newaxis]\n",
    "plt.imshow(cm_normalized, interpolation='nearest',cmap = 'Blues')\n",
    "plt.colorbar()\n",
    "cm"
   ]
  },
  {
   "cell_type": "markdown",
   "metadata": {},
   "source": [
    "### SVM\n",
    "\n",
    "We select the kernel linear."
   ]
  },
  {
   "cell_type": "code",
   "execution_count": 23,
   "metadata": {
    "collapsed": false
   },
   "outputs": [
    {
     "name": "stdout",
     "output_type": "stream",
     "text": [
      "0.856494096276\n"
     ]
    }
   ],
   "source": [
    "from sklearn import svm\n",
    "svm = svm.SVC(kernel='linear')#‘linear!!!’ or 'poly'\n",
    "svm.fit(train_data_features[0:N_sep], lable[0:N_sep])\n",
    "print svm.score(train_data_features[N_sep:], lable[N_sep:])\n",
    "feat_pred_svm = svm.predict(train_data_features[N_sep:])"
   ]
  },
  {
   "cell_type": "code",
   "execution_count": 24,
   "metadata": {
    "collapsed": false
   },
   "outputs": [
    {
     "data": {
      "text/plain": [
       "array([[ 15,   0,   0,   2,   0,   0,   0,   0,   0,   0],\n",
       "       [  0,  34,   1,   0,   1,   0,   0,   1,   0,   1],\n",
       "       [  1,   2,  77,   2,   1,   1,   1,   1,   0,   1],\n",
       "       [  1,   0,   0,   9,   0,   1,   1,   2,   2,   2],\n",
       "       [  0,   0,   0,   1, 170,   0,   0,   0,   0,   2],\n",
       "       [  0,   1,   0,   1,   4,   5,   4,   7,   4,   4],\n",
       "       [  2,   2,   2,  14,   7,   1,  36,   0,   1,   2],\n",
       "       [ 19,  24,   5,  30,  29,  17,  30, 525,  19,  74],\n",
       "       [  7,   4,   1,  12,  33,   4,  18,   3, 448,  49],\n",
       "       [  8,   5,   0,  28,  53,   9,  21,   4,   9, 284]])"
      ]
     },
     "execution_count": 24,
     "metadata": {},
     "output_type": "execute_result"
    },
    {
     "data": {
      "image/png": "[encoded data removed]",
      "text/plain": [
       "<matplotlib.figure.Figure at 0x10832cf90>"
      ]
     },
     "metadata": {},
     "output_type": "display_data"
    }
   ],
   "source": [
    "cm = confusion_matrix(lable[N_sep:],feat_pred_gnb)\n",
    "cm_normalized = cm.astype('float') / cm.sum(axis=1)[:, np.newaxis]\n",
    "plt.imshow(cm_normalized, interpolation='nearest',cmap = 'Blues')\n",
    "plt.colorbar()\n",
    "cm"
   ]
  },
  {
   "cell_type": "markdown",
   "metadata": {},
   "source": [
    "### Random Forest\n",
    "\n",
    "We set the n_estimetors = 100."
   ]
  },
  {
   "cell_type": "code",
   "execution_count": 25,
   "metadata": {
    "collapsed": false
   },
   "outputs": [
    {
     "name": "stdout",
     "output_type": "stream",
     "text": [
      "0.837874659401\n"
     ]
    }
   ],
   "source": [
    "from sklearn.ensemble import RandomForestClassifier\n",
    "RF = RandomForestClassifier(n_estimators=100)\n",
    "RF.fit(train_data_features[0:N_sep], lable[0:N_sep])\n",
    "print RF.score(train_data_features[N_sep:], lable[N_sep:])\n",
    "feat_pred_RF = RF.predict(train_data_features[N_sep:])\n"
   ]
  },
  {
   "cell_type": "code",
   "execution_count": 26,
   "metadata": {
    "collapsed": false
   },
   "outputs": [
    {
     "data": {
      "text/plain": [
       "array([[ 10,   0,   0,   0,   0,   0,   1,   5,   1,   0],\n",
       "       [  0,  31,   1,   0,   1,   0,   0,   3,   1,   1],\n",
       "       [  0,   0,  70,   0,   0,   0,   2,  10,   5,   0],\n",
       "       [  0,   0,   0,   3,   0,   0,   4,   6,   5,   0],\n",
       "       [  0,   0,   0,   0, 172,   0,   0,   0,   0,   1],\n",
       "       [  0,   0,   0,   0,   2,   1,   4,   7,  10,   6],\n",
       "       [  0,   0,   0,   0,   0,   0,  30,  22,  13,   2],\n",
       "       [  0,   0,   1,   0,   1,   1,   7, 694,  38,  30],\n",
       "       [  0,   0,   0,   0,   2,   1,   1,  28, 522,  25],\n",
       "       [  0,   0,   1,   0,   2,   0,   8,  67,  31, 312]])"
      ]
     },
     "execution_count": 26,
     "metadata": {},
     "output_type": "execute_result"
    },
    {
     "data": {
      "image/png": "[encoded data removed]",
      "text/plain": [
       "<matplotlib.figure.Figure at 0x102dd9590>"
      ]
     },
     "metadata": {},
     "output_type": "display_data"
    }
   ],
   "source": [
    "cm = confusion_matrix(lable[N_sep:],feat_pred_RF)\n",
    "cm_normalized = cm.astype('float') / cm.sum(axis=1)[:, np.newaxis]\n",
    "plt.imshow(cm_normalized, interpolation='nearest',cmap = 'Blues')\n",
    "plt.colorbar()\n",
    "cm"
   ]
  },
  {
   "cell_type": "markdown",
   "metadata": {},
   "source": [
    "### Cross Validation for Gaussien NB"
   ]
  },
  {
   "cell_type": "code",
   "execution_count": null,
   "metadata": {
    "collapsed": true
   },
   "outputs": [],
   "source": [
    "from sklearn import cross_validation\n",
    "scores  = cross_validation.cross_val_score(gnb, train_data_features, lable, cv=10)\n",
    "print(scores)\n",
    "print(np.mean(scores))"
   ]
  },
  {
   "cell_type": "markdown",
   "metadata": {},
   "source": [
    "### Cross Validation for KNN"
   ]
  },
  {
   "cell_type": "code",
   "execution_count": null,
   "metadata": {
    "collapsed": true
   },
   "outputs": [],
   "source": [
    "scores  = cross_validation.cross_val_score(nn, train_data_features, lable, cv=10)\n",
    "print(scores)\n",
    "print(np.mean(scores))"
   ]
  },
  {
   "cell_type": "markdown",
   "metadata": {},
   "source": [
    "### Cross Validation for SVM"
   ]
  },
  {
   "cell_type": "code",
   "execution_count": null,
   "metadata": {
    "collapsed": true
   },
   "outputs": [],
   "source": [
    "scores  = cross_validation.cross_val_score(svm, train_data_features, lable, cv=10)\n",
    "print(scores)\n",
    "print(np.mean(scores))"
   ]
  },
  {
   "cell_type": "markdown",
   "metadata": {},
   "source": [
    "### Cross Validation for RF"
   ]
  },
  {
   "cell_type": "code",
   "execution_count": 25,
   "metadata": {
    "collapsed": false
   },
   "outputs": [
    {
     "name": "stdout",
     "output_type": "stream",
     "text": [
      "[ 0.83157895  0.84487952  0.83987915  0.8489426   0.81570997  0.85930408\n",
      "  0.86494689  0.86474164  0.86280488  0.85496183]\n",
      "0.848774951289\n"
     ]
    }
   ],
   "source": [
    "scores  = cross_validation.cross_val_score(RF, train_data_features, lable, cv=10)\n",
    "print(scores)\n",
    "print(np.mean(scores))"
   ]
  },
  {
   "cell_type": "code",
   "execution_count": null,
   "metadata": {
    "collapsed": false
   },
   "outputs": [],
   "source": []
  },
  {
   "cell_type": "code",
   "execution_count": null,
   "metadata": {
    "collapsed": false
   },
   "outputs": [],
   "source": []
  },
  {
   "cell_type": "code",
   "execution_count": 26,
   "metadata": {
    "collapsed": false
   },
   "outputs": [],
   "source": [
    "# k_correction = []\n",
    "# for n in range(100,1500,100):\n",
    "#     Selec = SelectKBest(f_classif, k =1000 )\n",
    "#     train_data_features = Selec.fit_transform(train_data_features, lable)\n",
    "#     RF.fit(train_data_features[0:N_sep], lable[0:N_sep])\n",
    "#     k_correction.append(RF.score(train_data_features[N_sep:], lable[N_sep:]))\n"
   ]
  },
  {
   "cell_type": "code",
   "execution_count": 27,
   "metadata": {
    "collapsed": false
   },
   "outputs": [],
   "source": [
    "# plt.plot(k_correction)"
   ]
  },
  {
   "cell_type": "code",
   "execution_count": null,
   "metadata": {
    "collapsed": true
   },
   "outputs": [],
   "source": []
  }
 ],
 "metadata": {
  "kernelspec": {
   "display_name": "Python 2",
   "language": "python",
   "name": "python2"
  },
  "language_info": {
   "codemirror_mode": {
    "name": "ipython",
    "version": 2
   },
   "file_extension": ".py",
   "mimetype": "text/x-python",
   "name": "python",
   "nbconvert_exporter": "python",
   "pygments_lexer": "ipython2",
   "version": "2.7.10"
  }
 },
 "nbformat": 4,
 "nbformat_minor": 0
}
