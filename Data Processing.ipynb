{
 "cells": [
  {
   "cell_type": "markdown",
   "metadata": {},
   "source": [
    "# Data Processing"
   ]
  },
  {
   "cell_type": "code",
   "execution_count": 3,
   "metadata": {
    "collapsed": false
   },
   "outputs": [],
   "source": [
    "import matplotlib.pyplot as plt\n",
    "%matplotlib inline\n",
    "import numpy as np\n",
    "import pandas as pd"
   ]
  },
  {
   "cell_type": "markdown",
   "metadata": {},
   "source": [
    "### Data Importing :\n",
    "The raw data is in a folder called rawdata.\n",
    "\n",
    "And the cleaned data is in another folder called cleaned data, which is cleaned by our \"TwitterDataCleaning.py\".\n"
   ]
  },
  {
   "cell_type": "code",
   "execution_count": 4,
   "metadata": {
    "collapsed": false
   },
   "outputs": [
    {
     "data": {
      "text/html": [
       "<div>\n",
       "<table border=\"1\" class=\"dataframe\">\n",
       "  <thead>\n",
       "    <tr style=\"text-align: right;\">\n",
       "      <th></th>\n",
       "      <th>hashtags</th>\n",
       "      <th>location</th>\n",
       "      <th>tweet</th>\n",
       "    </tr>\n",
       "  </thead>\n",
       "  <tbody>\n",
       "    <tr>\n",
       "      <th>0</th>\n",
       "      <td>kidquestionsforhillary</td>\n",
       "      <td>NaN</td>\n",
       "      <td>do favorit color</td>\n",
       "    </tr>\n",
       "    <tr>\n",
       "      <th>1</th>\n",
       "      <td>gli51</td>\n",
       "      <td>NaN</td>\n",
       "      <td>michigan tech win 32 ot brent baltus hero husk...</td>\n",
       "    </tr>\n",
       "    <tr>\n",
       "      <th>2</th>\n",
       "      <td>messageformycrush</td>\n",
       "      <td>NaN</td>\n",
       "      <td>love preeto</td>\n",
       "    </tr>\n",
       "    <tr>\n",
       "      <th>3</th>\n",
       "      <td>NaN</td>\n",
       "      <td>NaN</td>\n",
       "      <td>stop</td>\n",
       "    </tr>\n",
       "    <tr>\n",
       "      <th>4</th>\n",
       "      <td>messageformycrush</td>\n",
       "      <td>NaN</td>\n",
       "      <td>ive pick wed dress tux alreadi book date venu ...</td>\n",
       "    </tr>\n",
       "  </tbody>\n",
       "</table>\n",
       "</div>"
      ],
      "text/plain": [
       "                 hashtags location  \\\n",
       "0  kidquestionsforhillary      NaN   \n",
       "1                   gli51      NaN   \n",
       "2       messageformycrush      NaN   \n",
       "3                     NaN      NaN   \n",
       "4       messageformycrush      NaN   \n",
       "\n",
       "                                               tweet  \n",
       "0                                   do favorit color  \n",
       "1  michigan tech win 32 ot brent baltus hero husk...  \n",
       "2                                        love preeto  \n",
       "3                                               stop  \n",
       "4  ive pick wed dress tux alreadi book date venu ...  "
      ]
     },
     "execution_count": 4,
     "metadata": {},
     "output_type": "execute_result"
    }
   ],
   "source": [
    "NorthAmerica = pd.read_csv(\"predata/NorthAmerica_Trends_cleaned1230.csv\",sep = \",\", header = 0)\n",
    "TwitterData = NorthAmerica\n",
    "len(TwitterData)\n",
    "TwitterData.head()"
   ]
  },
  {
   "cell_type": "markdown",
   "metadata": {},
   "source": [
    "## Target Hastags :\n",
    "\n",
    "we will build a data frame for the target hashtags.\n",
    "\n",
    "It could be counted directly or set up by the top trends data from the twitter api.\n",
    "\n",
    "### Counting."
   ]
  },
  {
   "cell_type": "code",
   "execution_count": 5,
   "metadata": {
    "collapsed": false
   },
   "outputs": [],
   "source": [
    "ListHashtags = TwitterData.hashtags.values\n",
    "listwords = []\n",
    "for tag in ListHashtags:\n",
    "    if type(tag) == str:\n",
    "        listwords +=tag.split(\" \")"
   ]
  },
  {
   "cell_type": "code",
   "execution_count": 6,
   "metadata": {
    "collapsed": false
   },
   "outputs": [],
   "source": [
    "#d = {x:lista.count(x) for x in lista}\n",
    "from collections import Counter\n",
    "tags_count=Counter(listwords)"
   ]
  },
  {
   "cell_type": "code",
   "execution_count": 7,
   "metadata": {
    "collapsed": false
   },
   "outputs": [
    {
     "name": "stdout",
     "output_type": "stream",
     "text": [
      "[5494, 5249, 4665, 3248, 3125, 3058, 2558, 1389, 1314, 1310]\n"
     ]
    },
    {
     "data": {
      "text/html": [
       "<div>\n",
       "<table border=\"1\" class=\"dataframe\">\n",
       "  <thead>\n",
       "    <tr style=\"text-align: right;\">\n",
       "      <th></th>\n",
       "      <th>hashtag</th>\n",
       "      <th>number</th>\n",
       "    </tr>\n",
       "  </thead>\n",
       "  <tbody>\n",
       "    <tr>\n",
       "      <th>0</th>\n",
       "      <td></td>\n",
       "      <td>1030</td>\n",
       "    </tr>\n",
       "    <tr>\n",
       "      <th>1</th>\n",
       "      <td>goodfood</td>\n",
       "      <td>1</td>\n",
       "    </tr>\n",
       "    <tr>\n",
       "      <th>2</th>\n",
       "      <td>foul</td>\n",
       "      <td>2</td>\n",
       "    </tr>\n",
       "    <tr>\n",
       "      <th>3</th>\n",
       "      <td>four</td>\n",
       "      <td>1</td>\n",
       "    </tr>\n",
       "    <tr>\n",
       "      <th>4</th>\n",
       "      <td>socialistdemocrats</td>\n",
       "      <td>1</td>\n",
       "    </tr>\n",
       "  </tbody>\n",
       "</table>\n",
       "</div>"
      ],
      "text/plain": [
       "              hashtag  number\n",
       "0                        1030\n",
       "1            goodfood       1\n",
       "2                foul       2\n",
       "3                four       1\n",
       "4  socialistdemocrats       1"
      ]
     },
     "execution_count": 7,
     "metadata": {},
     "output_type": "execute_result"
    }
   ],
   "source": [
    "import heapq\n",
    "N = 10 # N is the number of most used hashtags.\n",
    "index_tag = heapq.nlargest(N, tags_count.values())\n",
    "print index_tag\n",
    "tags_dataframe = pd.DataFrame({'hashtag':tags_count.keys(),'number': np.array(tags_count.values())   })\n",
    "tags_dataframe.head()"
   ]
  },
  {
   "cell_type": "code",
   "execution_count": 8,
   "metadata": {
    "collapsed": false
   },
   "outputs": [],
   "source": [
    "TargetHashtags = tags_dataframe.iloc[np.where(tags_dataframe.number.values >=index_tag[-1])]\n",
    "TargetHashtags\n",
    "ListTargetHashtags = list(TargetHashtags['hashtag'])"
   ]
  },
  {
   "cell_type": "markdown",
   "metadata": {
    "collapsed": false
   },
   "source": [
    "## Top trends importing.\n",
    "\n",
    "Here we import the top trends obtained from the api of twitter.\n",
    "\n",
    "One for hashtags, and the other for keywords."
   ]
  },
  {
   "cell_type": "code",
   "execution_count": 9,
   "metadata": {
    "collapsed": false
   },
   "outputs": [],
   "source": [
    "HashtagsTop = pd.read_csv('predata/Hashtags_cleaned1230.csv', header = 0)\n",
    "KeywordsTop = pd.read_csv('predata/Keywords_cleaned1230.csv', header = 0)"
   ]
  },
  {
   "cell_type": "code",
   "execution_count": 10,
   "metadata": {
    "collapsed": false
   },
   "outputs": [],
   "source": [
    "#tags_dataframe.loc[tags_dataframe['hashtag'].isin(HashtagsTop['hashtag'])]"
   ]
  },
  {
   "cell_type": "markdown",
   "metadata": {
    "collapsed": false
   },
   "source": [
    "## Build up the train set.\n",
    "\n",
    "We extract the tweet associated with the hashtags we want to study.\n",
    "\n",
    "Fistly, we extract the tweets by the ListTargetHashtags"
   ]
  },
  {
   "cell_type": "code",
   "execution_count": 11,
   "metadata": {
    "collapsed": false
   },
   "outputs": [
    {
     "name": "stdout",
     "output_type": "stream",
     "text": [
      "['videomtv2015', 'happyvday2015', 'stormfrank', 'thanks1dforanamazing2015', 'oldwestpickuplines', 'messageformycrush', 'lcfc', 'tamirrice', 'nyeonspringst', 'kidquestionsforhillary']\n"
     ]
    }
   ],
   "source": [
    "#ListTargetHashtags = ListTargetHashtags.remove(\"aldubrendezvous\")\n",
    "# ListTargetHashtags = [ListTargetHashtags[i] for i in [0,2,4,5,6,7,8,9]]\n",
    "print ListTargetHashtags"
   ]
  },
  {
   "cell_type": "code",
   "execution_count": 12,
   "metadata": {
    "collapsed": false
   },
   "outputs": [],
   "source": [
    "def tweets_extract(twitterdata,hashtag_list):\n",
    "    targetdata = twitterdata.loc[twitterdata['hashtags'].isin(hashtag_list)]\n",
    "    return targetdata"
   ]
  },
  {
   "cell_type": "code",
   "execution_count": 13,
   "metadata": {
    "collapsed": false
   },
   "outputs": [
    {
     "data": {
      "text/html": [
       "<div>\n",
       "<table border=\"1\" class=\"dataframe\">\n",
       "  <thead>\n",
       "    <tr style=\"text-align: right;\">\n",
       "      <th></th>\n",
       "      <th>hashtags</th>\n",
       "      <th>tweet</th>\n",
       "    </tr>\n",
       "  </thead>\n",
       "  <tbody>\n",
       "    <tr>\n",
       "      <th>0</th>\n",
       "      <td>kidquestionsforhillary</td>\n",
       "      <td>do favorit color</td>\n",
       "    </tr>\n",
       "    <tr>\n",
       "      <th>2</th>\n",
       "      <td>messageformycrush</td>\n",
       "      <td>love preeto</td>\n",
       "    </tr>\n",
       "    <tr>\n",
       "      <th>4</th>\n",
       "      <td>messageformycrush</td>\n",
       "      <td>ive pick wed dress tux alreadi book date venu ...</td>\n",
       "    </tr>\n",
       "    <tr>\n",
       "      <th>8</th>\n",
       "      <td>happyvday2015</td>\n",
       "      <td>gorgeous just fuck gorgeous</td>\n",
       "    </tr>\n",
       "    <tr>\n",
       "      <th>11</th>\n",
       "      <td>messageformycrush</td>\n",
       "      <td>dis</td>\n",
       "    </tr>\n",
       "  </tbody>\n",
       "</table>\n",
       "</div>"
      ],
      "text/plain": [
       "                  hashtags                                              tweet\n",
       "0   kidquestionsforhillary                                   do favorit color\n",
       "2        messageformycrush                                        love preeto\n",
       "4        messageformycrush  ive pick wed dress tux alreadi book date venu ...\n",
       "8            happyvday2015                        gorgeous just fuck gorgeous\n",
       "11       messageformycrush                                                dis"
      ]
     },
     "execution_count": 13,
     "metadata": {},
     "output_type": "execute_result"
    }
   ],
   "source": [
    "TargetData = tweets_extract(TwitterData,ListTargetHashtags)\n",
    "TargetData = TargetData.drop('location',1)\n",
    "TargetData = TargetData.loc[TargetData['tweet'].notnull()]\n",
    "TargetData.head()"
   ]
  },
  {
   "cell_type": "code",
   "execution_count": 14,
   "metadata": {
    "collapsed": false
   },
   "outputs": [
    {
     "data": {
      "text/plain": [
       "21335"
      ]
     },
     "execution_count": 14,
     "metadata": {},
     "output_type": "execute_result"
    }
   ],
   "source": [
    "len(TargetData)"
   ]
  },
  {
   "cell_type": "markdown",
   "metadata": {},
   "source": [
    "## Bag of words"
   ]
  },
  {
   "cell_type": "code",
   "execution_count": 56,
   "metadata": {
    "collapsed": true
   },
   "outputs": [],
   "source": [
    "from sklearn.feature_extraction.text import CountVectorizer,TfidfVectorizer\n",
    "Token=r'(^https?:\\/\\/.*[\\r\\n]*)|(@[A-Za-z0-9]+)|(#[A-Za-z0-9]+)|(\\n)|([^\\w])|(RT)'\n",
    "vectorizer_c = CountVectorizer(analyzer = \"word\",   \\\n",
    "                             lowercase=True,\n",
    "                             tokenizer = None,    \\\n",
    "#                              token_pattern = Token,  \\\n",
    "                             preprocessor = None, \\\n",
    "                             stop_words = None,   \\\n",
    "                             max_features = 10000) \n",
    "vectorizer_t = TfidfVectorizer(analyzer = \"word\",   \\\n",
    "                             lowercase=True, \n",
    "                             tokenizer = None,    \\\n",
    "#                              token_pattern = Token, \\\n",
    "                             preprocessor = None, \\\n",
    "                             stop_words = None,   \\\n",
    "                             max_features = 1000)"
   ]
  },
  {
   "cell_type": "code",
   "execution_count": 57,
   "metadata": {
    "collapsed": false
   },
   "outputs": [],
   "source": [
    "data_features = vectorizer_c.fit_transform(TargetData.tweet.values).toarray()\n"
   ]
  },
  {
   "cell_type": "code",
   "execution_count": 58,
   "metadata": {
    "collapsed": false
   },
   "outputs": [
    {
     "name": "stdout",
     "output_type": "stream",
     "text": [
      "(21335, 10000)\n"
     ]
    }
   ],
   "source": [
    "print data_features.shape\n",
    "lable = TargetData.hashtags.values"
   ]
  },
  {
   "cell_type": "markdown",
   "metadata": {},
   "source": [
    "### Features Selection"
   ]
  },
  {
   "cell_type": "code",
   "execution_count": 59,
   "metadata": {
    "collapsed": false
   },
   "outputs": [],
   "source": [
    "from sklearn.feature_selection import SelectKBest,f_classif,chi2\n",
    "num_feature = 10000\n",
    "Selec = SelectKBest(f_classif, k = num_feature )\n",
    "train_data_features = Selec.fit_transform(data_features, lable)\n",
    "#shape(train_data_features)"
   ]
  },
  {
   "cell_type": "code",
   "execution_count": 60,
   "metadata": {
    "collapsed": false
   },
   "outputs": [],
   "source": [
    "from random import sample\n",
    "factor_sep = 1.0/3\n",
    "sample_test = sample(xrange(len(lable)), int(len(lable)*factor_sep))\n",
    "train_set= [i for i in range(len(lable)) if i not in sample_test]\n",
    "test_set=[i for i in sample_test]"
   ]
  },
  {
   "cell_type": "markdown",
   "metadata": {},
   "source": [
    "### Gaussian NB"
   ]
  },
  {
   "cell_type": "code",
   "execution_count": 20,
   "metadata": {
    "collapsed": false
   },
   "outputs": [
    {
     "name": "stdout",
     "output_type": "stream",
     "text": [
      "0.474616790887\n"
     ]
    }
   ],
   "source": [
    "from sklearn.naive_bayes import GaussianNB \n",
    "\n",
    "gnb = GaussianNB()\n",
    "# gnb.fit([train_data_features[i] for i in range(len(lable)) if i not in sample_test], [lable[i] for i in range(len(lable)) if i not in sample_test])\n",
    "# print gnb.score([train_data_features[i] for i in sample_test], [lable[i] for i in sample_test])\n",
    "# feat_pred_gnb = gnb.predict([train_data_features[i] for i in sample_test])\n",
    "gnb.fit(train_data_features[train_set] , lable[train_set])\n",
    "print gnb.score(train_data_features[test_set] , lable[test_set])\n",
    "feat_pred_gnb = gnb.predict(train_data_features[test_set])"
   ]
  },
  {
   "cell_type": "code",
   "execution_count": 21,
   "metadata": {
    "collapsed": false,
    "scrolled": false
   },
   "outputs": [
    {
     "data": {
      "text/plain": [
       "array([[ 575,   55,    0,    6,    0,    2,    4,    2,   42,  233],\n",
       "       [   2,  135,    1,    1,    0,    6,    0,    6,    1,  199],\n",
       "       [   1,    2,   75,    0,    0,    0,    1,    0,    5,   32],\n",
       "       [  25,  276,    2,  161,    0,   79,    5,    5,  101,  835],\n",
       "       [   0,    0,    0,    0, 1023,    0,    0,    0,    0,    0],\n",
       "       [   1,  179,    2,    1,    0,  132,    5,    4,   17,  416],\n",
       "       [   1,   17,    4,    1,    0,    0,  230,    1,   18,  185],\n",
       "       [   1,   61,    6,    1,    0,    2,    9,  279,    7,  139],\n",
       "       [  19,  135,    1,    3,    0,   14,   19,    0,  562,  538],\n",
       "       [   0,    0,    0,    0,    0,    0,    0,    0,    0,  203]])"
      ]
     },
     "execution_count": 21,
     "metadata": {},
     "output_type": "execute_result"
    },
    {
     "data": {
      "image/png": "[encoded data removed]",
      "text/plain": [
       "<matplotlib.figure.Figure at 0x10d75ed90>"
      ]
     },
     "metadata": {},
     "output_type": "display_data"
    }
   ],
   "source": [
    "from sklearn.metrics import confusion_matrix\n",
    "cm = confusion_matrix(lable[test_set],feat_pred_gnb)\n",
    "cm_normalized = cm.astype('float') / cm.sum(axis=1)[:, np.newaxis]\n",
    "plt.imshow(cm_normalized, interpolation='nearest',cmap = 'Blues')\n",
    "plt.colorbar()\n",
    "cm"
   ]
  },
  {
   "cell_type": "code",
   "execution_count": 22,
   "metadata": {
    "collapsed": false
   },
   "outputs": [
    {
     "name": "stdout",
     "output_type": "stream",
     "text": [
      "             precision    recall  f1-score   support\n",
      "\n",
      "happyvday2015       0.92      0.63      0.74       919\n",
      "kidquestionsforhillary       0.16      0.38      0.22       351\n",
      "       lcfc       0.82      0.65      0.72       116\n",
      "messageformycrush       0.93      0.11      0.19      1489\n",
      "nyeonspringst       1.00      1.00      1.00      1023\n",
      "oldwestpickuplines       0.56      0.17      0.27       757\n",
      " stormfrank       0.84      0.50      0.63       457\n",
      "  tamirrice       0.94      0.55      0.70       505\n",
      "thanks1dforanamazing2015       0.75      0.44      0.55      1291\n",
      "videomtv2015       0.07      1.00      0.14       203\n",
      "\n",
      "avg / total       0.80      0.47      0.53      7111\n",
      "\n"
     ]
    }
   ],
   "source": [
    "from sklearn import metrics\n",
    "print metrics.classification_report(lable[test_set], feat_pred_gnb)"
   ]
  },
  {
   "cell_type": "markdown",
   "metadata": {},
   "source": [
    "### KNN\n",
    "\n",
    "We set the n_neighbors = 4."
   ]
  },
  {
   "cell_type": "code",
   "execution_count": 23,
   "metadata": {
    "collapsed": false
   },
   "outputs": [
    {
     "name": "stdout",
     "output_type": "stream",
     "text": [
      "0.580790324849\n"
     ]
    }
   ],
   "source": [
    "from sklearn import neighbors\n",
    "nn = neighbors.KNeighborsClassifier(n_neighbors = 4, weights=\"uniform\")\n",
    "nn.fit(train_data_features[train_set] , lable[train_set])\n",
    "print nn.score(train_data_features[test_set] , lable[test_set])\n",
    "feat_pred_nn = nn.predict(train_data_features[test_set])"
   ]
  },
  {
   "cell_type": "code",
   "execution_count": 24,
   "metadata": {
    "collapsed": false,
    "scrolled": false
   },
   "outputs": [
    {
     "data": {
      "text/plain": [
       "array([[ 588,   11,    0,  259,    0,   43,    1,    0,   17,    0],\n",
       "       [  23,   86,    0,  220,    0,   17,    0,    3,    2,    0],\n",
       "       [   4,    4,   64,   38,    0,    1,    0,    0,    5,    0],\n",
       "       [ 187,   15,    1, 1210,    0,   52,    0,    0,   19,    5],\n",
       "       [   0,    0,    0,    0, 1023,    0,    0,    0,    0,    0],\n",
       "       [  64,   13,    2,  528,    0,  144,    0,    1,    5,    0],\n",
       "       [  29,    6,    2,  194,    0,   16,  202,    4,    4,    0],\n",
       "       [  18,   16,    4,  182,    0,   45,    3,  223,   14,    0],\n",
       "       [  95,   29,    1,  710,    0,   59,    1,    0,  388,    8],\n",
       "       [   0,    0,    0,    1,    0,    0,    0,    0,    0,  202]])"
      ]
     },
     "execution_count": 24,
     "metadata": {},
     "output_type": "execute_result"
    },
    {
     "data": {
      "image/png": "[encoded data removed]",
      "text/plain": [
       "<matplotlib.figure.Figure at 0x10cf30ed0>"
      ]
     },
     "metadata": {},
     "output_type": "display_data"
    }
   ],
   "source": [
    "cm = confusion_matrix(lable[test_set],feat_pred_nn)\n",
    "cm_normalized = cm.astype('float') / cm.sum(axis=1)[:, np.newaxis]\n",
    "plt.imshow(cm_normalized, interpolation='nearest',cmap = 'Blues')\n",
    "plt.colorbar()\n",
    "cm"
   ]
  },
  {
   "cell_type": "code",
   "execution_count": 25,
   "metadata": {
    "collapsed": false
   },
   "outputs": [
    {
     "name": "stdout",
     "output_type": "stream",
     "text": [
      "             precision    recall  f1-score   support\n",
      "\n",
      "happyvday2015       0.58      0.64      0.61       919\n",
      "kidquestionsforhillary       0.48      0.25      0.32       351\n",
      "       lcfc       0.86      0.55      0.67       116\n",
      "messageformycrush       0.36      0.81      0.50      1489\n",
      "nyeonspringst       1.00      1.00      1.00      1023\n",
      "oldwestpickuplines       0.38      0.19      0.25       757\n",
      " stormfrank       0.98      0.44      0.61       457\n",
      "  tamirrice       0.97      0.44      0.61       505\n",
      "thanks1dforanamazing2015       0.85      0.30      0.44      1291\n",
      "videomtv2015       0.94      1.00      0.97       203\n",
      "\n",
      "avg / total       0.69      0.58      0.57      7111\n",
      "\n"
     ]
    }
   ],
   "source": [
    "print metrics.classification_report(lable[test_set], feat_pred_nn)"
   ]
  },
  {
   "cell_type": "markdown",
   "metadata": {},
   "source": [
    "### SVM\n",
    "\n",
    "We select the kernel linear."
   ]
  },
  {
   "cell_type": "code",
   "execution_count": 26,
   "metadata": {
    "collapsed": false
   },
   "outputs": [
    {
     "name": "stdout",
     "output_type": "stream",
     "text": [
      "0.652228941077\n"
     ]
    }
   ],
   "source": [
    "from sklearn import svm\n",
    "svm = svm.SVC(kernel='linear')#‘linear!!!’ or 'poly'\n",
    "factor_sep = 1.0/3\n",
    "#sample_test = sample(xrange(len(lable)), int(len(lable)*factor_sep))\n",
    "svm.fit(train_data_features[train_set] , lable[train_set])\n",
    "print svm.score(train_data_features[test_set] , lable[test_set])\n",
    "feat_pred_svm = svm.predict(train_data_features[test_set])"
   ]
  },
  {
   "cell_type": "code",
   "execution_count": 27,
   "metadata": {
    "collapsed": false
   },
   "outputs": [
    {
     "data": {
      "text/plain": [
       "array([[ 574,    5,    1,  274,    0,    2,    6,    2,   55,    0],\n",
       "       [   2,   93,    0,  232,    0,    3,    0,   10,   10,    1],\n",
       "       [   1,    0,   72,   32,    0,    2,    2,    0,    7,    0],\n",
       "       [  17,   10,    2, 1298,    0,   18,    6,    7,  125,    6],\n",
       "       [   0,    0,    0,    0, 1023,    0,    0,    0,    0,    0],\n",
       "       [   1,   10,    1,  578,    0,  116,    2,    6,   43,    0],\n",
       "       [   1,    3,    2,  180,    0,    1,  235,    5,   29,    1],\n",
       "       [   4,    7,    2,  143,    0,   12,    5,  305,   27,    0],\n",
       "       [  13,    2,    1,  535,    0,    3,    3,    2,  720,   12],\n",
       "       [   0,    0,    0,    1,    0,    0,    0,    0,    0,  202]])"
      ]
     },
     "execution_count": 27,
     "metadata": {},
     "output_type": "execute_result"
    },
    {
     "data": {
      "image/png": "[encoded data removed]",
      "text/plain": [
       "<matplotlib.figure.Figure at 0x10cf30ad0>"
      ]
     },
     "metadata": {},
     "output_type": "display_data"
    }
   ],
   "source": [
    "from sklearn.metrics import confusion_matrix\n",
    "cm = confusion_matrix(lable[test_set],feat_pred_svm)\n",
    "cm_normalized = cm.astype('float') / cm.sum(axis=1)[:, np.newaxis]\n",
    "plt.imshow(cm_normalized, interpolation='nearest',cmap = 'Blues')\n",
    "plt.colorbar()\n",
    "cm"
   ]
  },
  {
   "cell_type": "code",
   "execution_count": 28,
   "metadata": {
    "collapsed": false,
    "scrolled": true
   },
   "outputs": [
    {
     "name": "stdout",
     "output_type": "stream",
     "text": [
      "             precision    recall  f1-score   support\n",
      "\n",
      "happyvday2015       0.94      0.62      0.75       919\n",
      "kidquestionsforhillary       0.72      0.26      0.39       351\n",
      "       lcfc       0.89      0.62      0.73       116\n",
      "messageformycrush       0.40      0.87      0.55      1489\n",
      "nyeonspringst       1.00      1.00      1.00      1023\n",
      "oldwestpickuplines       0.74      0.15      0.25       757\n",
      " stormfrank       0.91      0.51      0.66       457\n",
      "  tamirrice       0.91      0.60      0.72       505\n",
      "thanks1dforanamazing2015       0.71      0.56      0.62      1291\n",
      "videomtv2015       0.91      1.00      0.95       203\n",
      "\n",
      "avg / total       0.75      0.65      0.65      7111\n",
      "\n"
     ]
    }
   ],
   "source": [
    "print metrics.classification_report(lable[test_set], feat_pred_svm)"
   ]
  },
  {
   "cell_type": "markdown",
   "metadata": {},
   "source": [
    "### Random Forest\n",
    "\n",
    "We set the n_estimetors = 100."
   ]
  },
  {
   "cell_type": "code",
   "execution_count": 29,
   "metadata": {
    "collapsed": false
   },
   "outputs": [
    {
     "name": "stdout",
     "output_type": "stream",
     "text": [
      "0.655463366615\n"
     ]
    }
   ],
   "source": [
    "from sklearn.ensemble import RandomForestClassifier\n",
    "RF = RandomForestClassifier(n_estimators=500)\n",
    "factor_sep = 1.0/3\n",
    "#sample_test = sample(xrange(len(lable)), int(len(lable)*factor_sep))\n",
    "RF.fit(train_data_features[train_set] , lable[train_set])\n",
    "print RF.score(train_data_features[test_set] , lable[test_set])\n",
    "feat_pred_rf = RF.predict(train_data_features[test_set])"
   ]
  },
  {
   "cell_type": "code",
   "execution_count": 30,
   "metadata": {
    "collapsed": false
   },
   "outputs": [
    {
     "data": {
      "text/plain": [
       "array([[ 580,    5,    0,  272,    0,    1,    7,    2,   52,    0],\n",
       "       [   2,   88,    0,  230,    0,    4,    1,   12,   14,    0],\n",
       "       [   2,    0,   68,   35,    0,    1,    2,    1,    7,    0],\n",
       "       [  18,    8,    2, 1310,    0,   27,    5,    8,  106,    5],\n",
       "       [   0,    0,    0,    0, 1023,    0,    0,    0,    0,    0],\n",
       "       [   5,   11,    1,  566,    0,  134,    4,    4,   32,    0],\n",
       "       [   1,    3,    1,  180,    0,    1,  236,    6,   29,    0],\n",
       "       [   3,    6,    0,  142,    0,    7,    3,  309,   35,    0],\n",
       "       [  21,    3,    0,  541,    0,    4,    4,    1,  711,    6],\n",
       "       [   0,    0,    0,    1,    0,    0,    0,    0,    0,  202]])"
      ]
     },
     "execution_count": 30,
     "metadata": {},
     "output_type": "execute_result"
    },
    {
     "data": {
      "image/png": "[encoded data removed]",
      "text/plain": [
       "<matplotlib.figure.Figure at 0x146651cd0>"
      ]
     },
     "metadata": {},
     "output_type": "display_data"
    }
   ],
   "source": [
    "from sklearn.metrics import confusion_matrix\n",
    "cm = confusion_matrix(lable[test_set],feat_pred_rf)\n",
    "cm_normalized = cm.astype('float') / cm.sum(axis=1)[:, np.newaxis]\n",
    "plt.imshow(cm_normalized, interpolation='nearest',cmap = 'Blues')\n",
    "plt.colorbar()\n",
    "cm"
   ]
  },
  {
   "cell_type": "code",
   "execution_count": 31,
   "metadata": {
    "collapsed": false
   },
   "outputs": [
    {
     "name": "stdout",
     "output_type": "stream",
     "text": [
      "             precision    recall  f1-score   support\n",
      "\n",
      "happyvday2015       0.92      0.63      0.75       919\n",
      "kidquestionsforhillary       0.71      0.25      0.37       351\n",
      "       lcfc       0.94      0.59      0.72       116\n",
      "messageformycrush       0.40      0.88      0.55      1489\n",
      "nyeonspringst       1.00      1.00      1.00      1023\n",
      "oldwestpickuplines       0.75      0.18      0.29       757\n",
      " stormfrank       0.90      0.52      0.66       457\n",
      "  tamirrice       0.90      0.61      0.73       505\n",
      "thanks1dforanamazing2015       0.72      0.55      0.62      1291\n",
      "videomtv2015       0.95      1.00      0.97       203\n",
      "\n",
      "avg / total       0.76      0.66      0.65      7111\n",
      "\n"
     ]
    }
   ],
   "source": [
    "print metrics.classification_report(lable[test_set], feat_pred_rf)"
   ]
  },
  {
   "cell_type": "code",
   "execution_count": 30,
   "metadata": {
    "collapsed": true
   },
   "outputs": [],
   "source": [
    "def PlotCM(lable,pred,title,ax):\n",
    "    'Plot confusion matrix for supervised classification'\n",
    "    cm = confusion_matrix(lable,pred)\n",
    "    cm_normalized = cm.astype('float') / cm.sum(axis=1)[:, np.newaxis]\n",
    "    ax.imshow(cm_normalized, interpolation='nearest',cmap = 'Blues')\n",
    "    ax.set_title('Confusion Matrix for '+ title)\n",
    "    #ax.colorbar()\n",
    "    for y in range(len(ListTargetHashtags)):\n",
    "        for x in range(len(ListTargetHashtags)):\n",
    "            ax.text(x, y , '%.0f' % cm[y,x],\n",
    "                     horizontalalignment='center',\n",
    "                     verticalalignment='center',\n",
    "                     )"
   ]
  },
  {
   "cell_type": "code",
   "execution_count": 31,
   "metadata": {
    "collapsed": false
   },
   "outputs": [
    {
     "data": {
      "image/png": "[encoded data removed]",
      "text/plain": [
       "<matplotlib.figure.Figure at 0x141244a90>"
      ]
     },
     "metadata": {},
     "output_type": "display_data"
    }
   ],
   "source": [
    "fig, ((ax1, ax2), (ax3, ax4)) = plt.subplots(2, 2, sharex='col', sharey='row')\n",
    "fig.set_size_inches(15, 15)\n",
    "PlotCM(lable[test_set],feat_pred_gnb,\"GNB\",ax1)\n",
    "PlotCM(lable[test_set],feat_pred_nn,\"KNN\",ax2)\n",
    "PlotCM(lable[test_set],feat_pred_svm,\"SVM\",ax3)\n",
    "PlotCM(lable[test_set],feat_pred_rf,\"RF\",ax4)"
   ]
  },
  {
   "cell_type": "markdown",
   "metadata": {},
   "source": [
    "### Cross Validation for Gaussien NB"
   ]
  },
  {
   "cell_type": "code",
   "execution_count": 32,
   "metadata": {
    "collapsed": false
   },
   "outputs": [
    {
     "name": "stdout",
     "output_type": "stream",
     "text": [
      "[ 0.48525971  0.47824052  0.4810482   0.45995316  0.43840749  0.46835443\n",
      "  0.48099484  0.47724073  0.46713615  0.47674965]\n",
      "0.471338488661\n"
     ]
    }
   ],
   "source": [
    "from sklearn import cross_validation\n",
    "scores  = cross_validation.cross_val_score(gnb, train_data_features, lable, cv=10)\n",
    "print(scores)\n",
    "print(np.mean(scores))"
   ]
  },
  {
   "cell_type": "markdown",
   "metadata": {},
   "source": [
    "### Cross Validation for KNN"
   ]
  },
  {
   "cell_type": "code",
   "execution_count": null,
   "metadata": {
    "collapsed": false
   },
   "outputs": [
    {
     "name": "stdout",
     "output_type": "stream",
     "text": [
      "[ 0.55404773  0.51848386  0.58680393  0.59156909  0.57985948  0.52273793\n",
      "  0.60581886  0.54012201  0.51643192  0.59417567]\n",
      "0.561005048335\n"
     ]
    }
   ],
   "source": [
    "scores  = cross_validation.cross_val_score(nn, train_data_features, lable, cv=10)\n",
    "print(scores)\n",
    "print(np.mean(scores))"
   ]
  },
  {
   "cell_type": "markdown",
   "metadata": {},
   "source": [
    "### Cross Validation for SVM"
   ]
  },
  {
   "cell_type": "code",
   "execution_count": null,
   "metadata": {
    "collapsed": false
   },
   "outputs": [],
   "source": [
    "scores  = cross_validation.cross_val_score(svm, train_data_features, lable, cv=10)\n",
    "print(scores)\n",
    "print(np.mean(scores))"
   ]
  },
  {
   "cell_type": "markdown",
   "metadata": {},
   "source": [
    "### Cross Validation for RF"
   ]
  },
  {
   "cell_type": "code",
   "execution_count": null,
   "metadata": {
    "collapsed": false
   },
   "outputs": [],
   "source": [
    "scores  = cross_validation.cross_val_score(RF, train_data_features, lable, cv=10)\n",
    "print(scores)\n",
    "print(np.mean(scores))"
   ]
  },
  {
   "cell_type": "code",
   "execution_count": 32,
   "metadata": {
    "collapsed": false
   },
   "outputs": [],
   "source": [
    "k_gnb = []\n",
    "k_nn = []\n",
    "k_svm = []\n",
    "k_rf = []\n",
    "k_mlp = []\n",
    "\n",
    "for num_feature in range(500,5000,500):\n",
    "    Selec = SelectKBest(f_classif, k = num_feature )\n",
    "    train_data_features = Selec.fit_transform(data_features, lable)\n",
    "    \n",
    "    #GNB\n",
    "    gnb.fit(train_data_features[train_set], lable[train_set])\n",
    "    k_gnb.append(gnb.score(train_data_features[test_set], lable[test_set]))\n",
    "    \n",
    "    #KNN\n",
    "    nn.fit(train_data_features[train_set], lable[train_set])\n",
    "    k_nn.append(nn.score(train_data_features[test_set], lable[test_set]))\n",
    "    \n",
    "    #SVM  \n",
    "    svm.fit(train_data_features[train_set], lable[train_set])\n",
    "    k_svm.append(svm.score(train_data_features[test_set], lable[test_set]))\n",
    "    \n",
    "    #RF\n",
    "    RF.fit(train_data_features[train_set], lable[train_set])\n",
    "    k_rf.append(RF.score(train_data_features[test_set], lable[test_set]))\n",
    "    \n",
    "    #MLP\n",
    "    \n"
   ]
  },
  {
   "cell_type": "code",
   "execution_count": 33,
   "metadata": {
    "collapsed": false
   },
   "outputs": [
    {
     "name": "stderr",
     "output_type": "stream",
     "text": [
      "/Users/mimi/anaconda/lib/python2.7/site-packages/matplotlib/__init__.py:872: UserWarning: axes.color_cycle is deprecated and replaced with axes.prop_cycle; please use the latter.\n",
      "  warnings.warn(self.msg_depr % (key, alt_key))\n"
     ]
    },
    {
     "data": {
      "text/plain": [
       "[<matplotlib.lines.Line2D at 0x10c9200d0>]"
      ]
     },
     "execution_count": 33,
     "metadata": {},
     "output_type": "execute_result"
    },
    {
     "data": {
      "image/png": "[encoded data removed]",
      "text/plain": [
       "<matplotlib.figure.Figure at 0x14667a590>"
      ]
     },
     "metadata": {},
     "output_type": "display_data"
    }
   ],
   "source": [
    "import seaborn as sns\n",
    "sns.set_style(\"darkgrid\")\n",
    "sns.plt.plot(k_gnb)"
   ]
  },
  {
   "cell_type": "code",
   "execution_count": 34,
   "metadata": {
    "collapsed": false
   },
   "outputs": [
    {
     "data": {
      "text/plain": [
       "[<matplotlib.lines.Line2D at 0x10c050ad0>]"
      ]
     },
     "execution_count": 34,
     "metadata": {},
     "output_type": "execute_result"
    },
    {
     "data": {
      "image/png": "[encoded data removed]",
      "text/plain": [
       "<matplotlib.figure.Figure at 0x10c936f10>"
      ]
     },
     "metadata": {},
     "output_type": "display_data"
    }
   ],
   "source": [
    "sns.plt.plot(k_nn)"
   ]
  },
  {
   "cell_type": "code",
   "execution_count": 35,
   "metadata": {
    "collapsed": false
   },
   "outputs": [
    {
     "data": {
      "text/plain": [
       "[<matplotlib.lines.Line2D at 0x147701a90>]"
      ]
     },
     "execution_count": 35,
     "metadata": {},
     "output_type": "execute_result"
    },
    {
     "data": {
      "image/png": "[encoded data removed]",
      "text/plain": [
       "<matplotlib.figure.Figure at 0x10c834810>"
      ]
     },
     "metadata": {},
     "output_type": "display_data"
    }
   ],
   "source": [
    "sns.plt.plot(k_svm)"
   ]
  },
  {
   "cell_type": "code",
   "execution_count": 41,
   "metadata": {
    "collapsed": false
   },
   "outputs": [
    {
     "data": {
      "text/html": [
       "<div>\n",
       "<table border=\"1\" class=\"dataframe\">\n",
       "  <thead>\n",
       "    <tr style=\"text-align: right;\">\n",
       "      <th></th>\n",
       "      <th>GNB</th>\n",
       "      <th>KNN</th>\n",
       "      <th>RF</th>\n",
       "      <th>SVM</th>\n",
       "    </tr>\n",
       "  </thead>\n",
       "  <tbody>\n",
       "    <tr>\n",
       "      <th>k = 500</th>\n",
       "      <td>0.595837</td>\n",
       "      <td>0.640276</td>\n",
       "      <td>0.767262</td>\n",
       "      <td>0.763887</td>\n",
       "    </tr>\n",
       "    <tr>\n",
       "      <th>k = 1000</th>\n",
       "      <td>0.643651</td>\n",
       "      <td>0.646885</td>\n",
       "      <td>0.791169</td>\n",
       "      <td>0.793137</td>\n",
       "    </tr>\n",
       "    <tr>\n",
       "      <th>k = 1500</th>\n",
       "      <td>0.667839</td>\n",
       "      <td>0.662213</td>\n",
       "      <td>0.798059</td>\n",
       "      <td>0.808044</td>\n",
       "    </tr>\n",
       "    <tr>\n",
       "      <th>k = 2000</th>\n",
       "      <td>0.698636</td>\n",
       "      <td>0.660667</td>\n",
       "      <td>0.798903</td>\n",
       "      <td>0.810013</td>\n",
       "    </tr>\n",
       "    <tr>\n",
       "      <th>k = 2500</th>\n",
       "      <td>0.693151</td>\n",
       "      <td>0.653073</td>\n",
       "      <td>0.798200</td>\n",
       "      <td>0.811981</td>\n",
       "    </tr>\n",
       "    <tr>\n",
       "      <th>k = 3000</th>\n",
       "      <td>0.693714</td>\n",
       "      <td>0.644635</td>\n",
       "      <td>0.800450</td>\n",
       "      <td>0.816482</td>\n",
       "    </tr>\n",
       "    <tr>\n",
       "      <th>k = 3500</th>\n",
       "      <td>0.699761</td>\n",
       "      <td>0.641401</td>\n",
       "      <td>0.802841</td>\n",
       "      <td>0.821122</td>\n",
       "    </tr>\n",
       "    <tr>\n",
       "      <th>k = 4000</th>\n",
       "      <td>0.706230</td>\n",
       "      <td>0.637463</td>\n",
       "      <td>0.801013</td>\n",
       "      <td>0.820700</td>\n",
       "    </tr>\n",
       "    <tr>\n",
       "      <th>k = 4500</th>\n",
       "      <td>0.697370</td>\n",
       "      <td>0.633947</td>\n",
       "      <td>0.805513</td>\n",
       "      <td>0.820982</td>\n",
       "    </tr>\n",
       "  </tbody>\n",
       "</table>\n",
       "</div>"
      ],
      "text/plain": [
       "               GNB       KNN        RF       SVM\n",
       "k = 500   0.595837  0.640276  0.767262  0.763887\n",
       "k = 1000  0.643651  0.646885  0.791169  0.793137\n",
       "k = 1500  0.667839  0.662213  0.798059  0.808044\n",
       "k = 2000  0.698636  0.660667  0.798903  0.810013\n",
       "k = 2500  0.693151  0.653073  0.798200  0.811981\n",
       "k = 3000  0.693714  0.644635  0.800450  0.816482\n",
       "k = 3500  0.699761  0.641401  0.802841  0.821122\n",
       "k = 4000  0.706230  0.637463  0.801013  0.820700\n",
       "k = 4500  0.697370  0.633947  0.805513  0.820982"
      ]
     },
     "execution_count": 41,
     "metadata": {},
     "output_type": "execute_result"
    }
   ],
   "source": [
    "BenchMark = pd.DataFrame({\"GNB\":k_gnb,'KNN':k_nn,\"SVM\":k_svm,'RF':k_rf})\n",
    "BenchMark.index = [\"k = \"+ str(i) for i in range(500,5500,500)]\n",
    "BenchMark"
   ]
  },
  {
   "cell_type": "code",
   "execution_count": 63,
   "metadata": {
    "collapsed": false
   },
   "outputs": [
    {
     "data": {
      "text/plain": [
       "<matplotlib.text.Text at 0x10dd0f490>"
      ]
     },
     "execution_count": 63,
     "metadata": {},
     "output_type": "execute_result"
    },
    {
     "data": {
      "image/png": "[encoded data removed]",
      "text/plain": [
       "<matplotlib.figure.Figure at 0x10cf07990>"
      ]
     },
     "metadata": {},
     "output_type": "display_data"
    }
   ],
   "source": [
    "sns.plt.figure(figsize = (10,7))\n",
    "sns.plt.plot(BenchMark[\"GNB\"].values)\n",
    "sns.plt.plot(BenchMark[\"KNN\"].values)\n",
    "sns.plt.plot(BenchMark[\"SVM\"].values)\n",
    "sns.plt.plot(BenchMark[\"RF\"].values)\n",
    "sns.plt.xticks(range(0,9),range(1000,5500,500))\n",
    "#sns.plt.legend(['GNB','KNN','SVM','RF'])\n",
    "plt.legend(['GNB','KNN','SVM','RF'],bbox_to_anchor=(1.05, 1), loc=2, borderaxespad=0.)\n",
    "\n",
    "sns.plt.xlabel(\"Number of Features K\")\n",
    "sns.plt.ylabel(\"Accuaracy rate 2:1 train-test split\")\n",
    "sns.plt.title(\"Benchmark for differents classifiers against number of features (K)\")"
   ]
  },
  {
   "cell_type": "code",
   "execution_count": null,
   "metadata": {
    "collapsed": true
   },
   "outputs": [],
   "source": []
  },
  {
   "cell_type": "markdown",
   "metadata": {},
   "source": [
    "# MLP"
   ]
  },
  {
   "cell_type": "code",
   "execution_count": 64,
   "metadata": {
    "collapsed": false
   },
   "outputs": [
    {
     "name": "stdout",
     "output_type": "stream",
     "text": [
      "(21335, 10000)\n",
      "(21335, 10)\n"
     ]
    }
   ],
   "source": [
    "print train_data_features.shape\n",
    "label_mlp = pd.get_dummies(lable).values\n",
    "print label_mlp.shape"
   ]
  },
  {
   "cell_type": "code",
   "execution_count": null,
   "metadata": {
    "collapsed": false
   },
   "outputs": [],
   "source": [
    "from MyMLP import *\n",
    "nn = NeuralNetwork([train_data_features.shape[1],300,label_mlp.shape[1]], 'logistic')\n",
    "\n",
    "nn.fit(train_data_features[train_set], label_mlp[train_set],learning_rate=0.1,epochs = 400000)"
   ]
  },
  {
   "cell_type": "code",
   "execution_count": 55,
   "metadata": {
    "collapsed": false
   },
   "outputs": [
    {
     "name": "stdout",
     "output_type": "stream",
     "text": [
      "0.828856700886\n"
     ]
    }
   ],
   "source": [
    "c = 0\n",
    "feat_pred_mlp = [[] for i in range(21335)]\n",
    "\n",
    "for i in test_set:\n",
    "    prob_max= np.argmax(nn.predict(train_data_features[i]))\n",
    "    feat_pred_mlp[i]=np.zeros([label_mlp.shape[1]])\n",
    "    for j in range(label_mlp.shape[1]):\n",
    "        if j == prob_max:\n",
    "            feat_pred_mlp[i][j]= 1\n",
    "    if np.argmax(label_mlp[i]) == prob_max:\n",
    "        c+=1    \n",
    "print c/float(len(test_set))        "
   ]
  },
  {
   "cell_type": "code",
   "execution_count": 51,
   "metadata": {
    "collapsed": false
   },
   "outputs": [
    {
     "name": "stdout",
     "output_type": "stream",
     "text": [
      "[  1.01115395e-03   2.17292896e-03   1.97590067e-04   2.01415458e-02\n",
      "   2.14899684e-04   2.12635123e-02   4.49107510e-01   1.81608851e-03\n",
      "   5.25406556e-04   2.55468232e-05]\n",
      "[ 0.  0.  0.  0.  0.  1.  0.  0.  0.  0.]\n"
     ]
    }
   ],
   "source": [
    "id = 79\n",
    "print nn.predict(train_data_features[id])\n",
    "print label_mlp[id]"
   ]
  },
  {
   "cell_type": "code",
   "execution_count": null,
   "metadata": {
    "collapsed": true
   },
   "outputs": [],
   "source": []
  }
 ],
 "metadata": {
  "kernelspec": {
   "display_name": "Python 2",
   "language": "python",
   "name": "python2"
  },
  "language_info": {
   "codemirror_mode": {
    "name": "ipython",
    "version": 2
   },
   "file_extension": ".py",
   "mimetype": "text/x-python",
   "name": "python",
   "nbconvert_exporter": "python",
   "pygments_lexer": "ipython2",
   "version": "2.7.11"
  }
 },
 "nbformat": 4,
 "nbformat_minor": 0
}
