{
 "cells": [
  {
   "cell_type": "markdown",
   "metadata": {},
   "source": [
    "# Data Processing"
   ]
  },
  {
   "cell_type": "code",
   "execution_count": 1,
   "metadata": {
    "collapsed": false
   },
   "outputs": [],
   "source": [
    "import matplotlib.pyplot as plt\n",
    "%matplotlib inline\n",
    "import numpy as np\n",
    "import pandas as pd"
   ]
  },
  {
   "cell_type": "markdown",
   "metadata": {},
   "source": [
    "### Data Importing :\n",
    "The raw data is in a folder called rawdata.\n",
    "\n",
    "And the cleaned data is in another folder called cleaned data, which is cleaned by our \"TwitterDataCleaning.py\".\n"
   ]
  },
  {
   "cell_type": "code",
   "execution_count": 2,
   "metadata": {
    "collapsed": false
   },
   "outputs": [
    {
     "data": {
      "text/html": [
       "<div>\n",
       "<table border=\"1\" class=\"dataframe\">\n",
       "  <thead>\n",
       "    <tr style=\"text-align: right;\">\n",
       "      <th></th>\n",
       "      <th>hashtags</th>\n",
       "      <th>location</th>\n",
       "      <th>tweet</th>\n",
       "    </tr>\n",
       "  </thead>\n",
       "  <tbody>\n",
       "    <tr>\n",
       "      <th>0</th>\n",
       "      <td>NaN</td>\n",
       "      <td>NaN</td>\n",
       "      <td>actor morgan freeman unhurt plane forc land</td>\n",
       "    </tr>\n",
       "    <tr>\n",
       "      <th>1</th>\n",
       "      <td>youaintnomuslimbruv</td>\n",
       "      <td>NaN</td>\n",
       "      <td>london pride</td>\n",
       "    </tr>\n",
       "    <tr>\n",
       "      <th>2</th>\n",
       "      <td>youcandoitliam playliste1 cabasm</td>\n",
       "      <td>NaN</td>\n",
       "      <td>break newsth second messag the suprem leadersa...</td>\n",
       "    </tr>\n",
       "    <tr>\n",
       "      <th>3</th>\n",
       "      <td>mtvstars</td>\n",
       "      <td>NaN</td>\n",
       "      <td>one direct</td>\n",
       "    </tr>\n",
       "    <tr>\n",
       "      <th>4</th>\n",
       "      <td>indvssa</td>\n",
       "      <td>NaN</td>\n",
       "      <td>fascin watch amp even thoughenough variat bowler</td>\n",
       "    </tr>\n",
       "  </tbody>\n",
       "</table>\n",
       "</div>"
      ],
      "text/plain": [
       "                           hashtags  location  \\\n",
       "0                               NaN       NaN   \n",
       "1               youaintnomuslimbruv       NaN   \n",
       "2  youcandoitliam playliste1 cabasm       NaN   \n",
       "3                          mtvstars       NaN   \n",
       "4                           indvssa       NaN   \n",
       "\n",
       "                                               tweet  \n",
       "0        actor morgan freeman unhurt plane forc land  \n",
       "1                                       london pride  \n",
       "2  break newsth second messag the suprem leadersa...  \n",
       "3                                         one direct  \n",
       "4   fascin watch amp even thoughenough variat bowler  "
      ]
     },
     "execution_count": 2,
     "metadata": {},
     "output_type": "execute_result"
    }
   ],
   "source": [
    "NorthAmerica = pd.read_csv(\"predata/NorthAmerica_Trends_cleaned1206.csv\",sep = \",\", header = 0)\n",
    "TwitterData = NorthAmerica\n",
    "len(TwitterData)\n",
    "TwitterData.head()"
   ]
  },
  {
   "cell_type": "markdown",
   "metadata": {},
   "source": [
    "## Target Hastags :\n",
    "\n",
    "we will build a data frame for the target hashtags.\n",
    "\n",
    "It could be counted directly or set up by the top trends data from the twitter api.\n",
    "\n",
    "### Counting."
   ]
  },
  {
   "cell_type": "code",
   "execution_count": 3,
   "metadata": {
    "collapsed": false
   },
   "outputs": [],
   "source": [
    "ListHashtags = TwitterData.hashtags.values\n",
    "listwords = []\n",
    "for tag in ListHashtags:\n",
    "    if type(tag) == str:\n",
    "        listwords +=tag.split(\" \")\n",
    "     "
   ]
  },
  {
   "cell_type": "code",
   "execution_count": 4,
   "metadata": {
    "collapsed": false
   },
   "outputs": [],
   "source": [
    "#d = {x:lista.count(x) for x in lista}\n",
    "from collections import Counter\n",
    "tags_count=Counter(listwords)"
   ]
  },
  {
   "cell_type": "code",
   "execution_count": 5,
   "metadata": {
    "collapsed": false
   },
   "outputs": [
    {
     "name": "stdout",
     "output_type": "stream",
     "text": [
      "[2915, 2560, 2058, 1535, 438, 356]\n"
     ]
    },
    {
     "data": {
      "text/html": [
       "<div>\n",
       "<table border=\"1\" class=\"dataframe\">\n",
       "  <thead>\n",
       "    <tr style=\"text-align: right;\">\n",
       "      <th></th>\n",
       "      <th>hashtag</th>\n",
       "      <th>number</th>\n",
       "    </tr>\n",
       "  </thead>\n",
       "  <tbody>\n",
       "    <tr>\n",
       "      <th>0</th>\n",
       "      <td></td>\n",
       "      <td>47</td>\n",
       "    </tr>\n",
       "    <tr>\n",
       "      <th>1</th>\n",
       "      <td>whoops</td>\n",
       "      <td>1</td>\n",
       "    </tr>\n",
       "    <tr>\n",
       "      <th>2</th>\n",
       "      <td>skynews</td>\n",
       "      <td>1</td>\n",
       "    </tr>\n",
       "    <tr>\n",
       "      <th>3</th>\n",
       "      <td>jihad</td>\n",
       "      <td>3</td>\n",
       "    </tr>\n",
       "    <tr>\n",
       "      <th>4</th>\n",
       "      <td>verybritishproblems</td>\n",
       "      <td>1</td>\n",
       "    </tr>\n",
       "  </tbody>\n",
       "</table>\n",
       "</div>"
      ],
      "text/plain": [
       "               hashtag  number\n",
       "0                           47\n",
       "1               whoops       1\n",
       "2              skynews       1\n",
       "3                jihad       3\n",
       "4  verybritishproblems       1"
      ]
     },
     "execution_count": 5,
     "metadata": {},
     "output_type": "execute_result"
    }
   ],
   "source": [
    "import heapq\n",
    "N = 6 # N is the number of most used hashtags.\n",
    "index_tag = heapq.nlargest(N, tags_count.values())\n",
    "print index_tag\n",
    "tags_dataframe = pd.DataFrame({'hashtag':tags_count.keys(),'number': np.array(tags_count.values())   })\n",
    "tags_dataframe.head()"
   ]
  },
  {
   "cell_type": "code",
   "execution_count": 6,
   "metadata": {
    "collapsed": false
   },
   "outputs": [],
   "source": [
    "TargetHashtags = tags_dataframe.iloc[np.where(tags_dataframe.number.values >=index_tag[-1])]\n",
    "TargetHashtags\n",
    "ListTargetHashtags = list(TargetHashtags['hashtag'])"
   ]
  },
  {
   "cell_type": "markdown",
   "metadata": {
    "collapsed": false
   },
   "source": [
    "## Top trends importing.\n",
    "\n",
    "Here we import the top trends obtained from the api of twitter.\n",
    "\n",
    "One for hashtags, and the other for keywords."
   ]
  },
  {
   "cell_type": "code",
   "execution_count": 7,
   "metadata": {
    "collapsed": false
   },
   "outputs": [],
   "source": [
    "HashtagsTop = pd.read_csv('predata/Hashtags_cleaned1206.csv', header = 0)\n",
    "KeywordsTop = pd.read_csv('predata/Keywords_cleaned1206.csv', header = 0)"
   ]
  },
  {
   "cell_type": "code",
   "execution_count": 8,
   "metadata": {
    "collapsed": false
   },
   "outputs": [],
   "source": [
    "#tags_dataframe.loc[tags_dataframe['hashtag'].isin(HashtagsTop['hashtag'])]"
   ]
  },
  {
   "cell_type": "markdown",
   "metadata": {
    "collapsed": false
   },
   "source": [
    "## Build up the train set.\n",
    "\n",
    "We extract the tweet associated with the hashtags we want to study.\n",
    "\n",
    "Fistly, we extract the tweets by the ListTargetHashtags"
   ]
  },
  {
   "cell_type": "code",
   "execution_count": 9,
   "metadata": {
    "collapsed": false
   },
   "outputs": [
    {
     "data": {
      "text/plain": [
       "['zaynsstill1daf',\n",
       " 'mtvstars',\n",
       " 'youcandoitliam',\n",
       " 'indvssa',\n",
       " 'wetmusic',\n",
       " 'youaintnomuslimbruv']"
      ]
     },
     "execution_count": 9,
     "metadata": {},
     "output_type": "execute_result"
    }
   ],
   "source": [
    "#ListTargetHashtags = ListTargetHashtags.remove(\"aldubrendezvous\")\n",
    "ListTargetHashtags"
   ]
  },
  {
   "cell_type": "code",
   "execution_count": 10,
   "metadata": {
    "collapsed": false
   },
   "outputs": [],
   "source": [
    "def tweets_extract(twitterdata,hashtag_list):\n",
    "    targetdata = twitterdata.loc[twitterdata['hashtags'].isin(hashtag_list)]\n",
    "    return targetdata"
   ]
  },
  {
   "cell_type": "code",
   "execution_count": 11,
   "metadata": {
    "collapsed": false
   },
   "outputs": [
    {
     "data": {
      "text/html": [
       "<div>\n",
       "<table border=\"1\" class=\"dataframe\">\n",
       "  <thead>\n",
       "    <tr style=\"text-align: right;\">\n",
       "      <th></th>\n",
       "      <th>hashtags</th>\n",
       "      <th>tweet</th>\n",
       "    </tr>\n",
       "  </thead>\n",
       "  <tbody>\n",
       "    <tr>\n",
       "      <th>1</th>\n",
       "      <td>youaintnomuslimbruv</td>\n",
       "      <td>london pride</td>\n",
       "    </tr>\n",
       "    <tr>\n",
       "      <th>3</th>\n",
       "      <td>mtvstars</td>\n",
       "      <td>one direct</td>\n",
       "    </tr>\n",
       "    <tr>\n",
       "      <th>4</th>\n",
       "      <td>indvssa</td>\n",
       "      <td>fascin watch amp even thoughenough variat bowler</td>\n",
       "    </tr>\n",
       "    <tr>\n",
       "      <th>5</th>\n",
       "      <td>zaynsstill1daf</td>\n",
       "      <td>i got warm feel zayn rt</td>\n",
       "    </tr>\n",
       "    <tr>\n",
       "      <th>8</th>\n",
       "      <td>youcandoitliam</td>\n",
       "      <td>_liam_payn well know easi youin good time bad ...</td>\n",
       "    </tr>\n",
       "  </tbody>\n",
       "</table>\n",
       "</div>"
      ],
      "text/plain": [
       "              hashtags                                              tweet\n",
       "1  youaintnomuslimbruv                                       london pride\n",
       "3             mtvstars                                         one direct\n",
       "4              indvssa   fascin watch amp even thoughenough variat bowler\n",
       "5       zaynsstill1daf                            i got warm feel zayn rt\n",
       "8       youcandoitliam  _liam_payn well know easi youin good time bad ..."
      ]
     },
     "execution_count": 11,
     "metadata": {},
     "output_type": "execute_result"
    }
   ],
   "source": [
    "TargetData = tweets_extract(TwitterData,ListTargetHashtags)\n",
    "TargetData = TargetData.drop('location',1)\n",
    "TargetData = TargetData.loc[TargetData['tweet'].notnull()]\n",
    "TargetData.head()"
   ]
  },
  {
   "cell_type": "code",
   "execution_count": 12,
   "metadata": {
    "collapsed": false
   },
   "outputs": [
    {
     "data": {
      "text/plain": [
       "6331"
      ]
     },
     "execution_count": 12,
     "metadata": {},
     "output_type": "execute_result"
    }
   ],
   "source": [
    "len(TargetData)"
   ]
  },
  {
   "cell_type": "markdown",
   "metadata": {},
   "source": [
    "## Bag of words"
   ]
  },
  {
   "cell_type": "code",
   "execution_count": 49,
   "metadata": {
    "collapsed": true
   },
   "outputs": [],
   "source": [
    "from sklearn.feature_extraction.text import CountVectorizer\n",
    "vectorizer = CountVectorizer(analyzer = \"word\",   \\\n",
    "                             tokenizer = None,    \\\n",
    "                             preprocessor = None, \\\n",
    "                             stop_words = None,   \\\n",
    "                             max_features = 5000) \n"
   ]
  },
  {
   "cell_type": "code",
   "execution_count": 50,
   "metadata": {
    "collapsed": false
   },
   "outputs": [],
   "source": [
    "data_features = vectorizer.fit_transform(TargetData.tweet.values).toarray()\n"
   ]
  },
  {
   "cell_type": "code",
   "execution_count": 51,
   "metadata": {
    "collapsed": false
   },
   "outputs": [],
   "source": [
    "data_features[0]\n",
    "lable = TargetData.hashtags.values"
   ]
  },
  {
   "cell_type": "markdown",
   "metadata": {},
   "source": [
    "### Features Selection"
   ]
  },
  {
   "cell_type": "code",
   "execution_count": 36,
   "metadata": {
    "collapsed": false
   },
   "outputs": [],
   "source": [
    "from sklearn.feature_selection import SelectKBest,f_classif,chi2\n",
    "Selec = SelectKBest(chi2, k = 10 )\n",
    "train_data_features = Selec.fit_transform(data_features, lable)\n",
    "#shape(train_data_features)"
   ]
  },
  {
   "cell_type": "markdown",
   "metadata": {},
   "source": [
    "### Gaussian NB"
   ]
  },
  {
   "cell_type": "code",
   "execution_count": 37,
   "metadata": {
    "collapsed": false
   },
   "outputs": [
    {
     "name": "stdout",
     "output_type": "stream",
     "text": [
      "0.739459971577\n"
     ]
    }
   ],
   "source": [
    "from sklearn.naive_bayes import GaussianNB \n",
    "\n",
    "N_sep = len(lable)*2/3\n",
    "\n",
    "gnb = GaussianNB()\n",
    "gnb.fit(train_data_features[0:N_sep], lable[0:N_sep])\n",
    "print gnb.score(train_data_features[N_sep:], lable[N_sep:])\n",
    "feat_pred_gnb = gnb.predict(train_data_features[N_sep:])"
   ]
  },
  {
   "cell_type": "code",
   "execution_count": 38,
   "metadata": {
    "collapsed": false
   },
   "outputs": [
    {
     "data": {
      "text/plain": [
       "array([[ 48,   0,   0,  40,   0,   0],\n",
       "       [  0, 166,   0,   7,   0,   0],\n",
       "       [  0,   0,   0,  68,   0,   0],\n",
       "       [  0,   0,   0, 776,   0,   1],\n",
       "       [  0,   2,   0, 201, 377,   2],\n",
       "       [  0,   6,   0, 222,   1, 194]])"
      ]
     },
     "execution_count": 38,
     "metadata": {},
     "output_type": "execute_result"
    },
    {
     "data": {
      "image/png": "[encoded data removed]",
      "text/plain": [
       "<matplotlib.figure.Figure at 0x10ae326d0>"
      ]
     },
     "metadata": {},
     "output_type": "display_data"
    }
   ],
   "source": [
    "from sklearn.metrics import confusion_matrix\n",
    "cm = confusion_matrix(lable[N_sep:],feat_pred_gnb)\n",
    "cm_normalized = cm.astype('float') / cm.sum(axis=1)[:, np.newaxis]\n",
    "plt.imshow(cm_normalized, interpolation='nearest',cmap = 'Blues')\n",
    "plt.colorbar()\n",
    "cm"
   ]
  },
  {
   "cell_type": "markdown",
   "metadata": {},
   "source": [
    "### KNN\n",
    "\n",
    "We set the n_neighbors = 4."
   ]
  },
  {
   "cell_type": "code",
   "execution_count": 19,
   "metadata": {
    "collapsed": false
   },
   "outputs": [
    {
     "name": "stdout",
     "output_type": "stream",
     "text": [
      "0.476077688299\n"
     ]
    }
   ],
   "source": [
    "from sklearn import neighbors\n",
    "nn = neighbors.KNeighborsClassifier(n_neighbors = 4, weights=\"uniform\")\n",
    "nn.fit(train_data_features[0:N_sep], lable[0:N_sep])\n",
    "print nn.score(train_data_features[N_sep:], lable[N_sep:])\n",
    "feat_pred_nn = nn.predict(train_data_features[N_sep:])"
   ]
  },
  {
   "cell_type": "code",
   "execution_count": 20,
   "metadata": {
    "collapsed": false
   },
   "outputs": [
    {
     "data": {
      "text/plain": [
       "array([[ 47,   0,   0,   1,  40,   0],\n",
       "       [  0, 166,   0,   1,   6,   0],\n",
       "       [  0,   0,   0,   1,  67,   0],\n",
       "       [  0,   0,   0,  27, 749,   1],\n",
       "       [  0,   2,   0,   6, 572,   2],\n",
       "       [  0,   6,   0,  10, 214, 193]])"
      ]
     },
     "execution_count": 20,
     "metadata": {},
     "output_type": "execute_result"
    },
    {
     "data": {
      "image/png": "[encoded data removed]",
      "text/plain": [
       "<matplotlib.figure.Figure at 0x108c6e5d0>"
      ]
     },
     "metadata": {},
     "output_type": "display_data"
    }
   ],
   "source": [
    "cm = confusion_matrix(lable[N_sep:],feat_pred_nn)\n",
    "cm_normalized = cm.astype('float') / cm.sum(axis=1)[:, np.newaxis]\n",
    "plt.imshow(cm_normalized, interpolation='nearest',cmap = 'Blues')\n",
    "plt.colorbar()\n",
    "cm"
   ]
  },
  {
   "cell_type": "markdown",
   "metadata": {},
   "source": [
    "### SVM\n",
    "\n",
    "We select the kernel linear."
   ]
  },
  {
   "cell_type": "code",
   "execution_count": 21,
   "metadata": {
    "collapsed": false
   },
   "outputs": [
    {
     "name": "stdout",
     "output_type": "stream",
     "text": [
      "0.738512553292\n"
     ]
    }
   ],
   "source": [
    "from sklearn import svm\n",
    "svm = svm.SVC(kernel='linear')#‘linear!!!’ or 'poly'\n",
    "svm.fit(train_data_features[0:N_sep], lable[0:N_sep])\n",
    "print svm.score(train_data_features[N_sep:], lable[N_sep:])\n",
    "feat_pred_svm = svm.predict(train_data_features[N_sep:])"
   ]
  },
  {
   "cell_type": "code",
   "execution_count": 22,
   "metadata": {
    "collapsed": false
   },
   "outputs": [
    {
     "data": {
      "text/plain": [
       "array([[ 48,   0,   0,  40,   0,   0],\n",
       "       [  0, 166,   0,   7,   0,   0],\n",
       "       [  0,   0,   0,  68,   0,   0],\n",
       "       [  0,   0,   0, 776,   0,   1],\n",
       "       [  0,   2,   0, 201, 377,   2],\n",
       "       [  0,   6,   0, 222,   1, 194]])"
      ]
     },
     "execution_count": 22,
     "metadata": {},
     "output_type": "execute_result"
    },
    {
     "data": {
      "image/png": "[encoded data removed]",
      "text/plain": [
       "<matplotlib.figure.Figure at 0x1095f08d0>"
      ]
     },
     "metadata": {},
     "output_type": "display_data"
    }
   ],
   "source": [
    "cm = confusion_matrix(lable[N_sep:],feat_pred_gnb)\n",
    "cm_normalized = cm.astype('float') / cm.sum(axis=1)[:, np.newaxis]\n",
    "plt.imshow(cm_normalized, interpolation='nearest',cmap = 'Blues')\n",
    "plt.colorbar()\n",
    "cm"
   ]
  },
  {
   "cell_type": "markdown",
   "metadata": {},
   "source": [
    "### Random Forest\n",
    "\n",
    "We set the n_estimetors = 100."
   ]
  },
  {
   "cell_type": "code",
   "execution_count": 23,
   "metadata": {
    "collapsed": false
   },
   "outputs": [
    {
     "name": "stdout",
     "output_type": "stream",
     "text": [
      "0.738512553292\n"
     ]
    }
   ],
   "source": [
    "from sklearn.ensemble import RandomForestClassifier\n",
    "RF = RandomForestClassifier(n_estimators=100)\n",
    "RF.fit(train_data_features[0:N_sep], lable[0:N_sep])\n",
    "print RF.score(train_data_features[N_sep:], lable[N_sep:])\n",
    "feat_pred_RF = RF.predict(train_data_features[N_sep:])\n"
   ]
  },
  {
   "cell_type": "code",
   "execution_count": 24,
   "metadata": {
    "collapsed": false
   },
   "outputs": [
    {
     "data": {
      "text/plain": [
       "array([[ 47,   0,   0,  41,   0,   0],\n",
       "       [  0, 166,   0,   7,   0,   0],\n",
       "       [  0,   0,   0,  68,   0,   0],\n",
       "       [  0,   0,   0, 776,   0,   1],\n",
       "       [  0,   0,   0, 201, 377,   4],\n",
       "       [  0,   6,   0, 222,   2, 193]])"
      ]
     },
     "execution_count": 24,
     "metadata": {},
     "output_type": "execute_result"
    },
    {
     "data": {
      "image/png": "[encoded data removed]",
      "text/plain": [
       "<matplotlib.figure.Figure at 0x10a9469d0>"
      ]
     },
     "metadata": {},
     "output_type": "display_data"
    }
   ],
   "source": [
    "cm = confusion_matrix(lable[N_sep:],feat_pred_RF)\n",
    "cm_normalized = cm.astype('float') / cm.sum(axis=1)[:, np.newaxis]\n",
    "plt.imshow(cm_normalized, interpolation='nearest',cmap = 'Blues')\n",
    "plt.colorbar()\n",
    "cm"
   ]
  },
  {
   "cell_type": "markdown",
   "metadata": {},
   "source": [
    "### Cross Validation for Gaussien NB"
   ]
  },
  {
   "cell_type": "code",
   "execution_count": 25,
   "metadata": {
    "collapsed": false
   },
   "outputs": [
    {
     "name": "stdout",
     "output_type": "stream",
     "text": [
      "[ 0.41102362  0.41417323  0.40472441  0.39527559  0.39527559  0.46214511\n",
      "  0.44620253  0.43581616  0.43809524  0.709062  ]\n",
      "0.451179348909\n"
     ]
    }
   ],
   "source": [
    "from sklearn import cross_validation\n",
    "scores  = cross_validation.cross_val_score(gnb, train_data_features, lable, cv=10)\n",
    "print(scores)\n",
    "print(np.mean(scores))"
   ]
  },
  {
   "cell_type": "markdown",
   "metadata": {},
   "source": [
    "### Cross Validation for KNN"
   ]
  },
  {
   "cell_type": "code",
   "execution_count": 26,
   "metadata": {
    "collapsed": false
   },
   "outputs": [
    {
     "name": "stdout",
     "output_type": "stream",
     "text": [
      "[ 0.6992126   0.70393701  0.69606299  0.67716535  0.68661417  0.49842271\n",
      "  0.45886076  0.47068146  0.47619048  0.49284579]\n",
      "0.585999331957\n"
     ]
    }
   ],
   "source": [
    "scores  = cross_validation.cross_val_score(nn, train_data_features, lable, cv=10)\n",
    "print(scores)\n",
    "print(np.mean(scores))"
   ]
  },
  {
   "cell_type": "markdown",
   "metadata": {},
   "source": [
    "### Cross Validation for SVM"
   ]
  },
  {
   "cell_type": "code",
   "execution_count": 27,
   "metadata": {
    "collapsed": false
   },
   "outputs": [
    {
     "name": "stdout",
     "output_type": "stream",
     "text": [
      "[ 0.6992126   0.70393701  0.69606299  0.68818898  0.68661417  0.75078864\n",
      "  0.74208861  0.73217116  0.73333333  0.709062  ]\n",
      "0.714145949257\n"
     ]
    }
   ],
   "source": [
    "scores  = cross_validation.cross_val_score(svm, train_data_features, lable, cv=10)\n",
    "print(scores)\n",
    "print(np.mean(scores))"
   ]
  },
  {
   "cell_type": "markdown",
   "metadata": {},
   "source": [
    "### Cross Validation for RF"
   ]
  },
  {
   "cell_type": "code",
   "execution_count": null,
   "metadata": {
    "collapsed": false
   },
   "outputs": [],
   "source": [
    "scores  = cross_validation.cross_val_score(RF, train_data_features, lable, cv=10)\n",
    "print(scores)\n",
    "print(np.mean(scores))"
   ]
  },
  {
   "cell_type": "code",
   "execution_count": null,
   "metadata": {
    "collapsed": false
   },
   "outputs": [],
   "source": []
  },
  {
   "cell_type": "code",
   "execution_count": null,
   "metadata": {
    "collapsed": false
   },
   "outputs": [],
   "source": []
  },
  {
   "cell_type": "code",
   "execution_count": 52,
   "metadata": {
    "collapsed": false
   },
   "outputs": [],
   "source": [
    "k_gnb = []\n",
    "k_nn = []\n",
    "k_svm = []\n",
    "k_rf = []\n",
    "\n",
    "for num_feature in range(100,2000,100):\n",
    "    Selec = SelectKBest(f_classif, k = num_feature )\n",
    "    train_data_features = Selec.fit_transform(data_features, lable)\n",
    "    \n",
    "    #GNB\n",
    "    gnb.fit(train_data_features[0:N_sep], lable[0:N_sep])\n",
    "    k_gnb.append(gnb.score(train_data_features[N_sep:], lable[N_sep:]))\n",
    "    \n",
    "    #KNN\n",
    "    nn.fit(train_data_features[0:N_sep], lable[0:N_sep])\n",
    "    k_nn.append(nn.score(train_data_features[N_sep:], lable[N_sep:]))\n",
    "    \n",
    "    #SVM  \n",
    "    svm.fit(train_data_features[0:N_sep], lable[0:N_sep])\n",
    "    k_svm.append(svm.score(train_data_features[N_sep:], lable[N_sep:]))\n",
    "    \n",
    "    #RF\n",
    "    RF.fit(train_data_features[0:N_sep], lable[0:N_sep])\n",
    "    k_rf.append(RF.score(train_data_features[N_sep:], lable[N_sep:]))\n",
    "    \n",
    "\n",
    "    "
   ]
  },
  {
   "cell_type": "code",
   "execution_count": 53,
   "metadata": {
    "collapsed": false
   },
   "outputs": [
    {
     "data": {
      "text/plain": [
       "[<matplotlib.lines.Line2D at 0x109393c50>]"
      ]
     },
     "execution_count": 53,
     "metadata": {},
     "output_type": "execute_result"
    },
    {
     "data": {
      "image/png": "[encoded data removed]",
      "text/plain": [
       "<matplotlib.figure.Figure at 0x1091c4d50>"
      ]
     },
     "metadata": {},
     "output_type": "display_data"
    }
   ],
   "source": [
    "plt.plot(k_gnb)"
   ]
  },
  {
   "cell_type": "code",
   "execution_count": 54,
   "metadata": {
    "collapsed": false
   },
   "outputs": [
    {
     "data": {
      "text/plain": [
       "[<matplotlib.lines.Line2D at 0x108d79a10>]"
      ]
     },
     "execution_count": 54,
     "metadata": {},
     "output_type": "execute_result"
    },
    {
     "data": {
      "image/png": "[encoded data removed]",
      "text/plain": [
       "<matplotlib.figure.Figure at 0x108e876d0>"
      ]
     },
     "metadata": {},
     "output_type": "display_data"
    }
   ],
   "source": [
    "plt.plot(k_nn)"
   ]
  },
  {
   "cell_type": "code",
   "execution_count": 55,
   "metadata": {
    "collapsed": false
   },
   "outputs": [
    {
     "data": {
      "text/plain": [
       "[<matplotlib.lines.Line2D at 0x10912ce50>]"
      ]
     },
     "execution_count": 55,
     "metadata": {},
     "output_type": "execute_result"
    },
    {
     "data": {
      "image/png": "[encoded data removed]",
      "text/plain": [
       "<matplotlib.figure.Figure at 0x108e9c150>"
      ]
     },
     "metadata": {},
     "output_type": "display_data"
    }
   ],
   "source": [
    "plt.plot(k_svm)"
   ]
  },
  {
   "cell_type": "code",
   "execution_count": 65,
   "metadata": {
    "collapsed": false
   },
   "outputs": [
    {
     "name": "stderr",
     "output_type": "stream",
     "text": [
      "/Users/mimi/anaconda/lib/python2.7/site-packages/matplotlib/axes/_axes.py:475: UserWarning: No labelled objects found. Use label='...' kwarg on individual plots.\n",
      "  warnings.warn(\"No labelled objects found. \"\n"
     ]
    },
    {
     "data": {
      "image/png": "[encoded data removed]",
      "text/plain": [
       "<matplotlib.figure.Figure at 0x10cd31e10>"
      ]
     },
     "metadata": {},
     "output_type": "display_data"
    }
   ],
   "source": []
  },
  {
   "cell_type": "code",
   "execution_count": 63,
   "metadata": {
    "collapsed": false
   },
   "outputs": [
    {
     "data": {
      "text/html": [
       "<div>\n",
       "<table border=\"1\" class=\"dataframe\">\n",
       "  <thead>\n",
       "    <tr style=\"text-align: right;\">\n",
       "      <th></th>\n",
       "      <th>GNB</th>\n",
       "      <th>KNN</th>\n",
       "      <th>RF</th>\n",
       "      <th>SVM</th>\n",
       "    </tr>\n",
       "  </thead>\n",
       "  <tbody>\n",
       "    <tr>\n",
       "      <th>k = 100</th>\n",
       "      <td>0.673614</td>\n",
       "      <td>0.724775</td>\n",
       "      <td>0.821412</td>\n",
       "      <td>0.816675</td>\n",
       "    </tr>\n",
       "    <tr>\n",
       "      <th>k = 200</th>\n",
       "      <td>0.696826</td>\n",
       "      <td>0.773567</td>\n",
       "      <td>0.847939</td>\n",
       "      <td>0.838939</td>\n",
       "    </tr>\n",
       "    <tr>\n",
       "      <th>k = 300</th>\n",
       "      <td>0.725249</td>\n",
       "      <td>0.779725</td>\n",
       "      <td>0.854098</td>\n",
       "      <td>0.855519</td>\n",
       "    </tr>\n",
       "    <tr>\n",
       "      <th>k = 400</th>\n",
       "      <td>0.744197</td>\n",
       "      <td>0.784462</td>\n",
       "      <td>0.855045</td>\n",
       "      <td>0.861677</td>\n",
       "    </tr>\n",
       "    <tr>\n",
       "      <th>k = 500</th>\n",
       "      <td>0.764093</td>\n",
       "      <td>0.791568</td>\n",
       "      <td>0.864045</td>\n",
       "      <td>0.867835</td>\n",
       "    </tr>\n",
       "    <tr>\n",
       "      <th>k = 600</th>\n",
       "      <td>0.779725</td>\n",
       "      <td>0.774514</td>\n",
       "      <td>0.861203</td>\n",
       "      <td>0.871151</td>\n",
       "    </tr>\n",
       "    <tr>\n",
       "      <th>k = 700</th>\n",
       "      <td>0.781620</td>\n",
       "      <td>0.773093</td>\n",
       "      <td>0.868309</td>\n",
       "      <td>0.869730</td>\n",
       "    </tr>\n",
       "    <tr>\n",
       "      <th>k = 800</th>\n",
       "      <td>0.780199</td>\n",
       "      <td>0.771198</td>\n",
       "      <td>0.868309</td>\n",
       "      <td>0.869256</td>\n",
       "    </tr>\n",
       "    <tr>\n",
       "      <th>k = 900</th>\n",
       "      <td>0.779725</td>\n",
       "      <td>0.771198</td>\n",
       "      <td>0.865940</td>\n",
       "      <td>0.869256</td>\n",
       "    </tr>\n",
       "    <tr>\n",
       "      <th>k = 1000</th>\n",
       "      <td>0.781146</td>\n",
       "      <td>0.756514</td>\n",
       "      <td>0.871151</td>\n",
       "      <td>0.867361</td>\n",
       "    </tr>\n",
       "    <tr>\n",
       "      <th>k = 1100</th>\n",
       "      <td>0.794410</td>\n",
       "      <td>0.763619</td>\n",
       "      <td>0.866888</td>\n",
       "      <td>0.868309</td>\n",
       "    </tr>\n",
       "    <tr>\n",
       "      <th>k = 1200</th>\n",
       "      <td>0.792042</td>\n",
       "      <td>0.767883</td>\n",
       "      <td>0.863572</td>\n",
       "      <td>0.869730</td>\n",
       "    </tr>\n",
       "    <tr>\n",
       "      <th>k = 1300</th>\n",
       "      <td>0.801990</td>\n",
       "      <td>0.767409</td>\n",
       "      <td>0.860730</td>\n",
       "      <td>0.865940</td>\n",
       "    </tr>\n",
       "    <tr>\n",
       "      <th>k = 1400</th>\n",
       "      <td>0.803411</td>\n",
       "      <td>0.768356</td>\n",
       "      <td>0.867835</td>\n",
       "      <td>0.871151</td>\n",
       "    </tr>\n",
       "    <tr>\n",
       "      <th>k = 1500</th>\n",
       "      <td>0.810043</td>\n",
       "      <td>0.767883</td>\n",
       "      <td>0.867361</td>\n",
       "      <td>0.870204</td>\n",
       "    </tr>\n",
       "    <tr>\n",
       "      <th>k = 1600</th>\n",
       "      <td>0.813359</td>\n",
       "      <td>0.767883</td>\n",
       "      <td>0.868309</td>\n",
       "      <td>0.873046</td>\n",
       "    </tr>\n",
       "    <tr>\n",
       "      <th>k = 1700</th>\n",
       "      <td>0.820938</td>\n",
       "      <td>0.758882</td>\n",
       "      <td>0.861677</td>\n",
       "      <td>0.873046</td>\n",
       "    </tr>\n",
       "    <tr>\n",
       "      <th>k = 1800</th>\n",
       "      <td>0.805779</td>\n",
       "      <td>0.753198</td>\n",
       "      <td>0.866888</td>\n",
       "      <td>0.872572</td>\n",
       "    </tr>\n",
       "    <tr>\n",
       "      <th>k = 1900</th>\n",
       "      <td>0.801990</td>\n",
       "      <td>0.746092</td>\n",
       "      <td>0.865940</td>\n",
       "      <td>0.874941</td>\n",
       "    </tr>\n",
       "  </tbody>\n",
       "</table>\n",
       "</div>"
      ],
      "text/plain": [
       "               GNB       KNN        RF       SVM\n",
       "k = 100   0.673614  0.724775  0.821412  0.816675\n",
       "k = 200   0.696826  0.773567  0.847939  0.838939\n",
       "k = 300   0.725249  0.779725  0.854098  0.855519\n",
       "k = 400   0.744197  0.784462  0.855045  0.861677\n",
       "k = 500   0.764093  0.791568  0.864045  0.867835\n",
       "k = 600   0.779725  0.774514  0.861203  0.871151\n",
       "k = 700   0.781620  0.773093  0.868309  0.869730\n",
       "k = 800   0.780199  0.771198  0.868309  0.869256\n",
       "k = 900   0.779725  0.771198  0.865940  0.869256\n",
       "k = 1000  0.781146  0.756514  0.871151  0.867361\n",
       "k = 1100  0.794410  0.763619  0.866888  0.868309\n",
       "k = 1200  0.792042  0.767883  0.863572  0.869730\n",
       "k = 1300  0.801990  0.767409  0.860730  0.865940\n",
       "k = 1400  0.803411  0.768356  0.867835  0.871151\n",
       "k = 1500  0.810043  0.767883  0.867361  0.870204\n",
       "k = 1600  0.813359  0.767883  0.868309  0.873046\n",
       "k = 1700  0.820938  0.758882  0.861677  0.873046\n",
       "k = 1800  0.805779  0.753198  0.866888  0.872572\n",
       "k = 1900  0.801990  0.746092  0.865940  0.874941"
      ]
     },
     "execution_count": 63,
     "metadata": {},
     "output_type": "execute_result"
    }
   ],
   "source": [
    "BenchMark = pd.DataFrame({\"GNB\":k_gnb,'KNN':k_nn,\"SVM\":k_svm,'RF':k_rf})\n",
    "BenchMark.index = [\"k = \"+ str(i) for i in range(100,2000,100)]\n",
    "BenchMark"
   ]
  },
  {
   "cell_type": "code",
   "execution_count": 78,
   "metadata": {
    "collapsed": false
   },
   "outputs": [
    {
     "data": {
      "text/plain": [
       "<matplotlib.text.Text at 0x110b45350>"
      ]
     },
     "execution_count": 78,
     "metadata": {},
     "output_type": "execute_result"
    },
    {
     "data": {
      "image/png": "[encoded data removed]",
      "text/plain": [
       "<matplotlib.figure.Figure at 0x110913790>"
      ]
     },
     "metadata": {},
     "output_type": "display_data"
    }
   ],
   "source": [
    "plt.figure(figsize = (10,7))\n",
    "plt.plot(BenchMark[\"GNB\"])\n",
    "plt.plot(BenchMark[\"KNN\"])\n",
    "plt.plot(BenchMark[\"SVM\"])\n",
    "plt.plot(BenchMark[\"RF\"])\n",
    "plt.xticks(range(0,19),range(100,2000,100))\n",
    "plt.legend(['GNB','KNN','SVM','RF'])\n",
    "plt.xlabel(\"Number of Features K\")\n",
    "plt.ylabel(\"Accuaracy rate 2:1 train-test split\")\n",
    "plt.title(\"Benchmark for differents classifiers against number of features (K)\")"
   ]
  },
  {
   "cell_type": "code",
   "execution_count": null,
   "metadata": {
    "collapsed": true
   },
   "outputs": [],
   "source": []
  }
 ],
 "metadata": {
  "kernelspec": {
   "display_name": "Python 2",
   "language": "python",
   "name": "python2"
  },
  "language_info": {
   "codemirror_mode": {
    "name": "ipython",
    "version": 2
   },
   "file_extension": ".py",
   "mimetype": "text/x-python",
   "name": "python",
   "nbconvert_exporter": "python",
   "pygments_lexer": "ipython2",
   "version": "2.7.10"
  }
 },
 "nbformat": 4,
 "nbformat_minor": 0
}
