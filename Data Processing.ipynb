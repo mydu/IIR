{
 "cells": [
  {
   "cell_type": "markdown",
   "metadata": {},
   "source": [
    "# Data Processing"
   ]
  },
  {
   "cell_type": "code",
   "execution_count": 1,
   "metadata": {
    "collapsed": false
   },
   "outputs": [],
   "source": [
    "import matplotlib.pyplot as plt\n",
    "%matplotlib inline\n",
    "import numpy as np\n",
    "import pandas as pd"
   ]
  },
  {
   "cell_type": "markdown",
   "metadata": {},
   "source": [
    "### Data Importing :\n",
    "The raw data is in a folder called rawdata.\n",
    "\n",
    "And the cleaned data is in another folder called cleaned data, which is cleaned by our \"TwitterDataCleaning.py\".\n"
   ]
  },
  {
   "cell_type": "code",
   "execution_count": 2,
   "metadata": {
    "collapsed": false
   },
   "outputs": [
    {
     "data": {
      "text/html": [
       "<div>\n",
       "<table border=\"1\" class=\"dataframe\">\n",
       "  <thead>\n",
       "    <tr style=\"text-align: right;\">\n",
       "      <th></th>\n",
       "      <th>hashtags</th>\n",
       "      <th>location</th>\n",
       "      <th>tweet</th>\n",
       "    </tr>\n",
       "  </thead>\n",
       "  <tbody>\n",
       "    <tr>\n",
       "      <th>0</th>\n",
       "      <td>NaN</td>\n",
       "      <td>NaN</td>\n",
       "      <td>zack greink ink 6 year deal with arizonadiamon...</td>\n",
       "    </tr>\n",
       "    <tr>\n",
       "      <th>1</th>\n",
       "      <td>NaN</td>\n",
       "      <td>NaN</td>\n",
       "      <td>report allow home shoot suspect media crew got...</td>\n",
       "    </tr>\n",
       "    <tr>\n",
       "      <th>2</th>\n",
       "      <td>NaN</td>\n",
       "      <td>NaN</td>\n",
       "      <td>imessag autocorrect greink grinch first time e...</td>\n",
       "    </tr>\n",
       "    <tr>\n",
       "      <th>3</th>\n",
       "      <td>NaN</td>\n",
       "      <td>NaN</td>\n",
       "      <td>i might person doesnt care scott weiland die</td>\n",
       "    </tr>\n",
       "    <tr>\n",
       "      <th>4</th>\n",
       "      <td>NaN</td>\n",
       "      <td>NaN</td>\n",
       "      <td>killer deserv respect</td>\n",
       "    </tr>\n",
       "  </tbody>\n",
       "</table>\n",
       "</div>"
      ],
      "text/plain": [
       "  hashtags location                                              tweet\n",
       "0      NaN      NaN  zack greink ink 6 year deal with arizonadiamon...\n",
       "1      NaN      NaN  report allow home shoot suspect media crew got...\n",
       "2      NaN      NaN  imessag autocorrect greink grinch first time e...\n",
       "3      NaN      NaN       i might person doesnt care scott weiland die\n",
       "4      NaN      NaN                              killer deserv respect"
      ]
     },
     "execution_count": 2,
     "metadata": {},
     "output_type": "execute_result"
    }
   ],
   "source": [
    "NorthAmerica = pd.read_csv(\"cleaned data/NorthAmerica_Trends_cleaned.csv\",sep = \",\", header = 0)\n",
    "TwitterData = NorthAmerica\n",
    "len(TwitterData)\n",
    "TwitterData.head()"
   ]
  },
  {
   "cell_type": "markdown",
   "metadata": {},
   "source": [
    "## Target Hastags :\n",
    "\n",
    "we will build a data frame for the target hashtags.\n",
    "\n",
    "It could be counted directly or set up by the top trends data from the twitter api.\n",
    "\n",
    "### Counting."
   ]
  },
  {
   "cell_type": "code",
   "execution_count": 3,
   "metadata": {
    "collapsed": false
   },
   "outputs": [],
   "source": [
    "ListHashtags = TwitterData.hashtags.values\n",
    "listwords = []\n",
    "for tag in ListHashtags:\n",
    "    if type(tag) == str:\n",
    "        listwords +=tag.split(\" \")\n",
    "     "
   ]
  },
  {
   "cell_type": "code",
   "execution_count": 4,
   "metadata": {
    "collapsed": false
   },
   "outputs": [],
   "source": [
    "#d = {x:lista.count(x) for x in lista}\n",
    "from collections import Counter\n",
    "tags_count=Counter(listwords)"
   ]
  },
  {
   "cell_type": "code",
   "execution_count": 5,
   "metadata": {
    "collapsed": false
   },
   "outputs": [
    {
     "name": "stdout",
     "output_type": "stream",
     "text": [
      "[6535, 1135, 977, 656, 630, 606, 508, 502, 426, 422]\n"
     ]
    },
    {
     "data": {
      "text/html": [
       "<div>\n",
       "<table border=\"1\" class=\"dataframe\">\n",
       "  <thead>\n",
       "    <tr style=\"text-align: right;\">\n",
       "      <th></th>\n",
       "      <th>hashtag</th>\n",
       "      <th>number</th>\n",
       "    </tr>\n",
       "  </thead>\n",
       "  <tbody>\n",
       "    <tr>\n",
       "      <th>0</th>\n",
       "      <td></td>\n",
       "      <td>1</td>\n",
       "    </tr>\n",
       "    <tr>\n",
       "      <th>1</th>\n",
       "      <td>samething</td>\n",
       "      <td>1</td>\n",
       "    </tr>\n",
       "    <tr>\n",
       "      <th>2</th>\n",
       "      <td>dbacksinworldseries2016</td>\n",
       "      <td>2</td>\n",
       "    </tr>\n",
       "    <tr>\n",
       "      <th>3</th>\n",
       "      <td>gocoug</td>\n",
       "      <td>1</td>\n",
       "    </tr>\n",
       "    <tr>\n",
       "      <th>4</th>\n",
       "      <td>justsayin</td>\n",
       "      <td>2</td>\n",
       "    </tr>\n",
       "  </tbody>\n",
       "</table>\n",
       "</div>"
      ],
      "text/plain": [
       "                   hashtag  number\n",
       "0                                1\n",
       "1                samething       1\n",
       "2  dbacksinworldseries2016       2\n",
       "3                   gocoug       1\n",
       "4                justsayin       2"
      ]
     },
     "execution_count": 5,
     "metadata": {},
     "output_type": "execute_result"
    }
   ],
   "source": [
    "import heapq\n",
    "N = 10 # N is the number of most used hashtags.\n",
    "index_tag = heapq.nlargest(N, tags_count.values())\n",
    "print index_tag\n",
    "tags_dataframe = pd.DataFrame({'hashtag':tags_count.keys(),'number': np.array(tags_count.values())   })\n",
    "tags_dataframe.head()"
   ]
  },
  {
   "cell_type": "code",
   "execution_count": 6,
   "metadata": {
    "collapsed": false
   },
   "outputs": [],
   "source": [
    "TargetHashtags = tags_dataframe.iloc[np.where(tags_dataframe.number.values >=index_tag[-1])]\n",
    "TargetHashtags\n",
    "ListTargetHashtags = list(TargetHashtags['hashtag'])"
   ]
  },
  {
   "cell_type": "markdown",
   "metadata": {
    "collapsed": false
   },
   "source": [
    "## Top trends importing.\n",
    "\n",
    "Here we import the top trends obtained from the api of twitter.\n",
    "\n",
    "One for hashtags, and the other for keywords."
   ]
  },
  {
   "cell_type": "code",
   "execution_count": 7,
   "metadata": {
    "collapsed": false
   },
   "outputs": [],
   "source": [
    "HashtagsTop = pd.read_csv('cleaned data/Hashtags_cleaned1205.csv', header = 0)\n",
    "KeywordsTop = pd.read_csv('cleaned data/Keywords_cleaned1205.csv', header = 0)"
   ]
  },
  {
   "cell_type": "code",
   "execution_count": 8,
   "metadata": {
    "collapsed": false
   },
   "outputs": [],
   "source": [
    "#tags_dataframe.loc[tags_dataframe['hashtag'].isin(HashtagsTop['hashtag'])]"
   ]
  },
  {
   "cell_type": "markdown",
   "metadata": {
    "collapsed": false
   },
   "source": [
    "## Build up the train set.\n",
    "\n",
    "We extract the tweet associated with the hashtags we want to study.\n",
    "\n",
    "Fistly, we extract the tweets by the ListTargetHashtags"
   ]
  },
  {
   "cell_type": "code",
   "execution_count": 25,
   "metadata": {
    "collapsed": false
   },
   "outputs": [
    {
     "data": {
      "text/plain": [
       "['nationalcookieday',\n",
       " 'antm',\n",
       " 'theexperience10',\n",
       " 'grimm',\n",
       " 'muslimapartment',\n",
       " 'kiisjingleball',\n",
       " 'kathnielchristmasloveduets',\n",
       " 'twitterawakens',\n",
       " 'rdfamilyholiday']"
      ]
     },
     "execution_count": 25,
     "metadata": {},
     "output_type": "execute_result"
    }
   ],
   "source": [
    "#ListTargetHashtags = ListTargetHashtags.remove(\"aldubrendezvous\")\n",
    "ListTargetHashtags"
   ]
  },
  {
   "cell_type": "code",
   "execution_count": 26,
   "metadata": {
    "collapsed": false
   },
   "outputs": [],
   "source": [
    "def tweets_extract(twitterdata,hashtag_list):\n",
    "    targetdata = twitterdata.loc[twitterdata['hashtags'].isin(hashtag_list)]\n",
    "    return targetdata"
   ]
  },
  {
   "cell_type": "code",
   "execution_count": 27,
   "metadata": {
    "collapsed": false
   },
   "outputs": [
    {
     "data": {
      "text/html": [
       "<div>\n",
       "<table border=\"1\" class=\"dataframe\">\n",
       "  <thead>\n",
       "    <tr style=\"text-align: right;\">\n",
       "      <th></th>\n",
       "      <th>hashtags</th>\n",
       "      <th>tweet</th>\n",
       "    </tr>\n",
       "  </thead>\n",
       "  <tbody>\n",
       "    <tr>\n",
       "      <th>8</th>\n",
       "      <td>theexperience10</td>\n",
       "      <td>this lord wow</td>\n",
       "    </tr>\n",
       "    <tr>\n",
       "      <th>14</th>\n",
       "      <td>twitterawakens</td>\n",
       "      <td>a lot peopl say new movi antiprequel will see ...</td>\n",
       "    </tr>\n",
       "    <tr>\n",
       "      <th>92</th>\n",
       "      <td>kiisjingleball</td>\n",
       "      <td>anyon wanna upgrad seat</td>\n",
       "    </tr>\n",
       "    <tr>\n",
       "      <th>96</th>\n",
       "      <td>muslimapartment</td>\n",
       "      <td>ohhh ikea terrifi inde</td>\n",
       "    </tr>\n",
       "    <tr>\n",
       "      <th>116</th>\n",
       "      <td>kiisjingleball</td>\n",
       "      <td>so ask want meet amp i start cri point scream cri</td>\n",
       "    </tr>\n",
       "  </tbody>\n",
       "</table>\n",
       "</div>"
      ],
      "text/plain": [
       "            hashtags                                              tweet\n",
       "8    theexperience10                                      this lord wow\n",
       "14    twitterawakens  a lot peopl say new movi antiprequel will see ...\n",
       "92    kiisjingleball                            anyon wanna upgrad seat\n",
       "96   muslimapartment                             ohhh ikea terrifi inde\n",
       "116   kiisjingleball  so ask want meet amp i start cri point scream cri"
      ]
     },
     "execution_count": 27,
     "metadata": {},
     "output_type": "execute_result"
    }
   ],
   "source": [
    "TargetData = tweets_extract(TwitterData,ListTargetHashtags)\n",
    "TargetData = TargetData.drop('location',1)\n",
    "TargetData = TargetData.loc[TargetData['tweet'].notnull()]\n",
    "TargetData.head()"
   ]
  },
  {
   "cell_type": "code",
   "execution_count": 28,
   "metadata": {
    "collapsed": false
   },
   "outputs": [
    {
     "data": {
      "text/plain": [
       "4597"
      ]
     },
     "execution_count": 28,
     "metadata": {},
     "output_type": "execute_result"
    }
   ],
   "source": [
    "len(TargetData)"
   ]
  },
  {
   "cell_type": "markdown",
   "metadata": {},
   "source": [
    "## Bag of words"
   ]
  },
  {
   "cell_type": "code",
   "execution_count": 29,
   "metadata": {
    "collapsed": true
   },
   "outputs": [],
   "source": [
    "from sklearn.feature_extraction.text import CountVectorizer\n",
    "vectorizer = CountVectorizer(analyzer = \"word\",   \\\n",
    "                             tokenizer = None,    \\\n",
    "                             preprocessor = None, \\\n",
    "                             stop_words = None,   \\\n",
    "                             max_features = 5000) \n"
   ]
  },
  {
   "cell_type": "code",
   "execution_count": 30,
   "metadata": {
    "collapsed": false
   },
   "outputs": [],
   "source": [
    "train_data_features = vectorizer.fit_transform(TargetData.tweet.values).toarray()\n"
   ]
  },
  {
   "cell_type": "code",
   "execution_count": 31,
   "metadata": {
    "collapsed": false
   },
   "outputs": [],
   "source": [
    "train_data_features[0]\n",
    "lable = TargetData.hashtags.values"
   ]
  },
  {
   "cell_type": "code",
   "execution_count": 32,
   "metadata": {
    "collapsed": false
   },
   "outputs": [],
   "source": [
    "from sklearn.feature_selection import SelectKBest,f_classif\n",
    "Selec = SelectKBest(f_classif, k = 1000 )\n",
    "train_data_features = Selec.fit_transform(train_data_features, lable)\n",
    "#shape(train_data_features)"
   ]
  },
  {
   "cell_type": "code",
   "execution_count": 33,
   "metadata": {
    "collapsed": false
   },
   "outputs": [
    {
     "name": "stdout",
     "output_type": "stream",
     "text": [
      "0.671232876712\n"
     ]
    }
   ],
   "source": [
    "from sklearn.ensemble import RandomForestClassifier\n",
    "N_sep = len(lable)*2/3\n",
    "RF = RandomForestClassifier(n_estimators=50)\n",
    "RF.fit(train_data_features[0:N_sep], lable[0:N_sep])\n",
    "print RF.score(train_data_features[N_sep:], lable[N_sep:])\n",
    "\n"
   ]
  },
  {
   "cell_type": "code",
   "execution_count": 34,
   "metadata": {
    "collapsed": false
   },
   "outputs": [
    {
     "data": {
      "text/plain": [
       "array([[142,   6,   8,   3,   1,   4,  36,   6,   3],\n",
       "       [ 14, 173,  28,   3,  10,   3,  48,   5,   7],\n",
       "       [  4,   1, 239,   0,   1,   6,  22,   3,   2],\n",
       "       [  4,   2,  10,  60,   4,   1,  25,   5,   3],\n",
       "       [ 10,   0,  22,   3,  53,   1,  25,   1,   7],\n",
       "       [  2,   0,   6,   0,   7,  66,  12,   0,   2],\n",
       "       [  3,   1,   7,   5,   1,   1, 106,   0,   4],\n",
       "       [  9,   3,  17,   5,   4,   5,  41, 139,   1],\n",
       "       [  3,   2,   5,   3,   0,   0,   6,   2,  51]])"
      ]
     },
     "execution_count": 34,
     "metadata": {},
     "output_type": "execute_result"
    },
    {
     "data": {
      "image/png": "[encoded data removed]",
      "text/plain": [
       "<matplotlib.figure.Figure at 0x10d58fc90>"
      ]
     },
     "metadata": {},
     "output_type": "display_data"
    }
   ],
   "source": [
    "from sklearn.metrics import confusion_matrix\n",
    "feat_pred_RF = RF.predict(train_data_features[N_sep:])\n",
    "cm = confusion_matrix(lable[N_sep:],feat_pred_RF)\n",
    "cm_normalized = cm.astype('float') / cm.sum(axis=1)[:, np.newaxis]\n",
    "plt.imshow(cm_normalized, interpolation='nearest',cmap = 'Blues')\n",
    "plt.colorbar()\n",
    "cm"
   ]
  },
  {
   "cell_type": "markdown",
   "metadata": {},
   "source": [
    "## Cross Validation for RF"
   ]
  },
  {
   "cell_type": "code",
   "execution_count": 38,
   "metadata": {
    "collapsed": false
   },
   "outputs": [
    {
     "name": "stdout",
     "output_type": "stream",
     "text": [
      "[ 0.74082073  0.71922246  0.76190476  0.78138528  0.75217391  0.77608696\n",
      "  0.80174292  0.75273523  0.79385965  0.76043956]\n",
      "0.764037146811\n"
     ]
    }
   ],
   "source": [
    "from sklearn import cross_validation\n",
    "RF = RandomForestClassifier(n_estimators=50)\n",
    "scores  = cross_validation.cross_val_score(RF, train_data_features, lable, cv=10)\n",
    "print(scores)\n",
    "print(np.mean(scores))"
   ]
  },
  {
   "cell_type": "code",
   "execution_count": 22,
   "metadata": {
    "collapsed": false
   },
   "outputs": [],
   "source": [
    "# k_correction = []\n",
    "# for n in range(100,1500,100):\n",
    "#     Selec = SelectKBest(f_classif, k =1000 )\n",
    "#     train_data_features = Selec.fit_transform(train_data_features, lable)\n",
    "#     RF.fit(train_data_features[0:N_sep], lable[0:N_sep])\n",
    "#     k_correction.append(RF.score(train_data_features[N_sep:], lable[N_sep:]))\n"
   ]
  },
  {
   "cell_type": "code",
   "execution_count": null,
   "metadata": {
    "collapsed": false
   },
   "outputs": [],
   "source": [
    "# plt.plot(k_correction)"
   ]
  },
  {
   "cell_type": "code",
   "execution_count": null,
   "metadata": {
    "collapsed": false
   },
   "outputs": [],
   "source": []
  },
  {
   "cell_type": "code",
   "execution_count": null,
   "metadata": {
    "collapsed": false
   },
   "outputs": [],
   "source": []
  },
  {
   "cell_type": "code",
   "execution_count": null,
   "metadata": {
    "collapsed": true
   },
   "outputs": [],
   "source": []
  }
 ],
 "metadata": {
  "kernelspec": {
   "display_name": "Python 2",
   "language": "python",
   "name": "python2"
  },
  "language_info": {
   "codemirror_mode": {
    "name": "ipython",
    "version": 2
   },
   "file_extension": ".py",
   "mimetype": "text/x-python",
   "name": "python",
   "nbconvert_exporter": "python",
   "pygments_lexer": "ipython2",
   "version": "2.7.10"
  }
 },
 "nbformat": 4,
 "nbformat_minor": 0
}
