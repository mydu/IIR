{
 "cells": [
  {
   "cell_type": "code",
   "execution_count": 68,
   "metadata": {
    "collapsed": true
   },
   "outputs": [],
   "source": [
    "import numpy as np\n",
    "import pandas as pd\n",
    "from nltk.corpus import stopwords\n",
    "import nltk\n",
    "import re\n",
    "import lda\n",
    "from gensim import corpora, models"
   ]
  },
  {
   "cell_type": "code",
   "execution_count": 69,
   "metadata": {
    "collapsed": false
   },
   "outputs": [],
   "source": [
    "#import nltk\n",
    "#nltk.download()"
   ]
  },
  {
   "cell_type": "markdown",
   "metadata": {},
   "source": [
    "### Stop words / Function words removing.\n",
    "\n",
    "Data input :"
   ]
  },
  {
   "cell_type": "code",
   "execution_count": 70,
   "metadata": {
    "collapsed": false
   },
   "outputs": [
    {
     "name": "stdout",
     "output_type": "stream",
     "text": [
      "9677\n",
      "7591\n"
     ]
    },
    {
     "data": {
      "text/html": [
       "<div>\n",
       "<table border=\"1\" class=\"dataframe\">\n",
       "  <thead>\n",
       "    <tr style=\"text-align: right;\">\n",
       "      <th></th>\n",
       "      <th>time</th>\n",
       "      <th>tweet</th>\n",
       "      <th>hashtags</th>\n",
       "      <th>zone</th>\n",
       "      <th>location</th>\n",
       "    </tr>\n",
       "  </thead>\n",
       "  <tbody>\n",
       "    <tr>\n",
       "      <th>2</th>\n",
       "      <td>2015-11-14 23:59:13</td>\n",
       "      <td>Mood @ Paris, France https://t.co/LSTYpnhqMm</td>\n",
       "      <td>[]</td>\n",
       "      <td>Paris, Ile-de-France,France</td>\n",
       "      <td>Paris</td>\n",
       "    </tr>\n",
       "    <tr>\n",
       "      <th>4</th>\n",
       "      <td>2015-11-14 23:58:43</td>\n",
       "      <td>Our thoughts are with you #paris #prayforparis...</td>\n",
       "      <td>['paris', 'prayforparis', 'france', 'franceund...</td>\n",
       "      <td>Paris, Ile-de-France,France</td>\n",
       "      <td>London and Singapore</td>\n",
       "    </tr>\n",
       "    <tr>\n",
       "      <th>5</th>\n",
       "      <td>2015-11-14 23:58:40</td>\n",
       "      <td>Best bar name in Paris 👌🏻 @ Place Pigalle ht...</td>\n",
       "      <td>[]</td>\n",
       "      <td>Paris, Ile-de-France,France</td>\n",
       "      <td>Twyford</td>\n",
       "    </tr>\n",
       "    <tr>\n",
       "      <th>6</th>\n",
       "      <td>2015-11-14 23:58:30</td>\n",
       "      <td>It seems that the saying Pray for Paris is jus...</td>\n",
       "      <td>[]</td>\n",
       "      <td>Paris, Ile-de-France,France</td>\n",
       "      <td>Mainz, Rheinland-Pfalz</td>\n",
       "    </tr>\n",
       "    <tr>\n",
       "      <th>7</th>\n",
       "      <td>2015-11-14 23:58:29</td>\n",
       "      <td>Le Bataclan. R.I.P #lebataclan #ParisAttacks #...</td>\n",
       "      <td>['lebataclan', 'ParisAttacks', 'paris']</td>\n",
       "      <td>Paris, Ile-de-France,France</td>\n",
       "      <td>NaN</td>\n",
       "    </tr>\n",
       "  </tbody>\n",
       "</table>\n",
       "</div>"
      ],
      "text/plain": [
       "                  time                                              tweet  \\\n",
       "2  2015-11-14 23:59:13       Mood @ Paris, France https://t.co/LSTYpnhqMm   \n",
       "4  2015-11-14 23:58:43  Our thoughts are with you #paris #prayforparis...   \n",
       "5  2015-11-14 23:58:40  Best bar name in Paris 👌🏻 @ Place Pigalle ht...   \n",
       "6  2015-11-14 23:58:30  It seems that the saying Pray for Paris is jus...   \n",
       "7  2015-11-14 23:58:29  Le Bataclan. R.I.P #lebataclan #ParisAttacks #...   \n",
       "\n",
       "                                            hashtags  \\\n",
       "2                                                 []   \n",
       "4  ['paris', 'prayforparis', 'france', 'franceund...   \n",
       "5                                                 []   \n",
       "6                                                 []   \n",
       "7            ['lebataclan', 'ParisAttacks', 'paris']   \n",
       "\n",
       "                          zone                location  \n",
       "2  Paris, Ile-de-France,France                   Paris  \n",
       "4  Paris, Ile-de-France,France   London and Singapore   \n",
       "5  Paris, Ile-de-France,France                 Twyford  \n",
       "6  Paris, Ile-de-France,France  Mainz, Rheinland-Pfalz  \n",
       "7  Paris, Ile-de-France,France                     NaN  "
      ]
     },
     "execution_count": 70,
     "metadata": {},
     "output_type": "execute_result"
    }
   ],
   "source": [
    "paris13en = pd.read_csv(\"rawdata/paris14en.csv\",sep = \",\", header = None)\n",
    "\n",
    "paris13en.columns = ['time','tweet','hashtags','zone','location']\n",
    "print len(paris13en.index)\n",
    "paris13en = paris13en.drop_duplicates(cols='tweet',take_last = True) #remove the duplicate tweets\n",
    "print len(paris13en.index)\n",
    "\n",
    "\n",
    "TwitterData = paris13en\n",
    "TwitterData.head()\n"
   ]
  },
  {
   "cell_type": "markdown",
   "metadata": {},
   "source": [
    "Remove stopwords :\n",
    "\n",
    "we define a function for cleaning the tweets."
   ]
  },
  {
   "cell_type": "code",
   "execution_count": 71,
   "metadata": {
    "collapsed": false
   },
   "outputs": [],
   "source": [
    "def filter_tweet (sample):\n",
    "        \n",
    "    filtered_sample = [re.sub(r'(^https?:\\/\\/.*[\\r\\n]*)|(@[A-Za-z0-9]+)|(#[A-Za-z0-9]+)|(\\n)|([^\\w])|(RT)',\n",
    "                '', word, flags=re.MULTILINE) for word in sample.split(\" \") if word not in stopwords.words('english')]\n",
    "\n",
    "    filtered_sample = filter(None,filtered_sample)\n",
    "    return filtered_sample\n"
   ]
  },
  {
   "cell_type": "markdown",
   "metadata": {},
   "source": [
    "### Build the List of tweets :"
   ]
  },
  {
   "cell_type": "code",
   "execution_count": 72,
   "metadata": {
    "collapsed": false
   },
   "outputs": [
    {
     "name": "stderr",
     "output_type": "stream",
     "text": [
      "/Users/mimi/anaconda/lib/python2.7/site-packages/ipykernel/__main__.py:4: UnicodeWarning: Unicode equal comparison failed to convert both arguments to Unicode - interpreting them as being unequal\n"
     ]
    }
   ],
   "source": [
    "ListTweets = [filter_tweet(tweet) for tweet in TwitterData.tweet.values]"
   ]
  },
  {
   "cell_type": "markdown",
   "metadata": {},
   "source": [
    "### Test by sampling :"
   ]
  },
  {
   "cell_type": "code",
   "execution_count": 73,
   "metadata": {
    "collapsed": false
   },
   "outputs": [
    {
     "name": "stdout",
     "output_type": "stream",
     "text": [
      "For Paris. For the world.\n",
      "••••••••••••••••••••••••••••••••\n",
      "4th of August, 2015\n",
      "Place du Trocadéro,… https://t.co/hasWi2tfLn\n",
      "\n",
      "\n",
      "['For', 'Paris', 'For', 'world4th', 'August', '2015Place', 'du', 'Trocadro']\n"
     ]
    }
   ],
   "source": [
    "#sample\n",
    "sample_index = 19\n",
    "print TwitterData.tweet.values[sample_index]+\"\\n\\n\"\n",
    "print ListTweets[sample_index]"
   ]
  },
  {
   "cell_type": "code",
   "execution_count": 74,
   "metadata": {
    "collapsed": false
   },
   "outputs": [],
   "source": [
    "ListHashtags = [(re.sub(r'(\\])|(\\[)|(\\')',\"\", hashtag).split(' ')) for hashtag in TwitterData.hashtags.values]"
   ]
  },
  {
   "cell_type": "code",
   "execution_count": 75,
   "metadata": {
    "collapsed": false
   },
   "outputs": [
    {
     "name": "stdout",
     "output_type": "stream",
     "text": [
      "['PrayForPeace,', 'PeaceForParis,', 'NotAfraid']\n",
      "7591\n",
      "7591\n",
      "['Best', 'bar', 'name', 'Paris', 'Place', 'Pigalle']\n"
     ]
    }
   ],
   "source": [
    "#test\n",
    "print ListHashtags[8]\n",
    "print len(ListHashtags)\n",
    "print len(ListTweets)\n",
    "\n",
    "print ListTweets[2]"
   ]
  },
  {
   "cell_type": "code",
   "execution_count": null,
   "metadata": {
    "collapsed": false
   },
   "outputs": [],
   "source": []
  },
  {
   "cell_type": "code",
   "execution_count": 87,
   "metadata": {
    "collapsed": false
   },
   "outputs": [],
   "source": [
    "dictionary = corpora.Dictionary(ListTweets[1:1000])\n",
    "corpus = [dictionary.doc2bow(text) for text in ListTweets]"
   ]
  },
  {
   "cell_type": "code",
   "execution_count": 88,
   "metadata": {
    "collapsed": false
   },
   "outputs": [
    {
     "name": "stderr",
     "output_type": "stream",
     "text": [
      "WARNING:gensim.models.ldamodel:too few updates, training might not converge; consider increasing the number of passes or iterations to improve accuracy\n"
     ]
    }
   ],
   "source": [
    "ldamodel = models.ldamodel.LdaModel(corpus, num_topics=100, id2word = dictionary, passes=2)"
   ]
  },
  {
   "cell_type": "code",
   "execution_count": 92,
   "metadata": {
    "collapsed": true
   },
   "outputs": [],
   "source": [
    "a = ldamodel.print_topics(num_topics=5, num_words=5)"
   ]
  },
  {
   "cell_type": "code",
   "execution_count": 93,
   "metadata": {
    "collapsed": false
   },
   "outputs": [
    {
     "name": "stdout",
     "output_type": "stream",
     "text": [
      "0.272*pray + 0.152*taken + 0.126*Paris + 0.075*France + 0.071*Tonight\n",
      "\n",
      "\n",
      "0.317*Sad + 0.140*Photo + 0.096*Paris + 0.053*Home + 0.042*Effeil\n",
      "\n",
      "\n",
      "0.165*terrorist + 0.077*R + 0.071*P + 0.066*A + 0.051*attack\n",
      "\n",
      "\n",
      "0.169*the + 0.162*back + 0.086*Be + 0.073*again + 0.061*Paris\n",
      "\n",
      "\n",
      "0.146*months + 0.116*ago + 0.081*This + 0.075*is + 0.060*week\n",
      "\n",
      "\n"
     ]
    }
   ],
   "source": [
    "for i in a:\n",
    "    print i\n",
    "    print \"\\n\""
   ]
  },
  {
   "cell_type": "code",
   "execution_count": 91,
   "metadata": {
    "collapsed": false
   },
   "outputs": [
    {
     "name": "stdout",
     "output_type": "stream",
     "text": [
      "[['Our', 'thoughts', 'Paris', 'France'], ['Best', 'bar', 'name', 'Paris', 'Place', 'Pigalle'], ['It', 'seems', 'saying', 'Pray', 'Paris', 'developing', 'sad', 'medial', 'phrase', 'During', 'the'], ['Le', 'Bataclan', 'RIP'], ['I', 'saddened', 'amp', 'sickened', 'attacks', 'Paris', 'Franceone', 'my'], ['The', 'dusk', 'Jardin', 'du', 'PalaisRoyal'], ['This', 'image', 'Paris', 'blood', 'shed', 'To', 'stranded', 'Paris', 'last', 'night', 'a'], ['We', 'love', 'you', 'Place', 'de', 'la', 'Republique'], ['almost', 'everything', 'world']]\n"
     ]
    }
   ],
   "source": [
    "print ListTweets[1:10]"
   ]
  },
  {
   "cell_type": "code",
   "execution_count": null,
   "metadata": {
    "collapsed": true
   },
   "outputs": [],
   "source": []
  },
  {
   "cell_type": "code",
   "execution_count": null,
   "metadata": {
    "collapsed": true
   },
   "outputs": [],
   "source": []
  }
 ],
 "metadata": {
  "kernelspec": {
   "display_name": "Python 2",
   "language": "python",
   "name": "python2"
  },
  "language_info": {
   "codemirror_mode": {
    "name": "ipython",
    "version": 2
   },
   "file_extension": ".py",
   "mimetype": "text/x-python",
   "name": "python",
   "nbconvert_exporter": "python",
   "pygments_lexer": "ipython2",
   "version": "2.7.10"
  }
 },
 "nbformat": 4,
 "nbformat_minor": 0
}
