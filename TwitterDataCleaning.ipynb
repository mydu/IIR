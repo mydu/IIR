{
 "cells": [
  {
   "cell_type": "code",
   "execution_count": 2,
   "metadata": {
    "collapsed": true
   },
   "outputs": [],
   "source": [
    "import numpy as np\n",
    "import pandas as pd\n",
    "from nltk.corpus import stopwords\n",
    "import nltk\n",
    "import re"
   ]
  },
  {
   "cell_type": "code",
   "execution_count": 3,
   "metadata": {
    "collapsed": false
   },
   "outputs": [],
   "source": [
    "# import nltk\n",
    "# nltk.download()"
   ]
  },
  {
   "cell_type": "markdown",
   "metadata": {},
   "source": [
    "### Stop words / Function words removing.\n",
    "\n",
    "Data input :"
   ]
  },
  {
   "cell_type": "code",
   "execution_count": 4,
   "metadata": {
    "collapsed": false
   },
   "outputs": [
    {
     "name": "stdout",
     "output_type": "stream",
     "text": [
      "257813\n",
      "126125\n"
     ]
    },
    {
     "data": {
      "text/html": [
       "<div>\n",
       "<table border=\"1\" class=\"dataframe\">\n",
       "  <thead>\n",
       "    <tr style=\"text-align: right;\">\n",
       "      <th></th>\n",
       "      <th>time</th>\n",
       "      <th>tweet</th>\n",
       "      <th>hashtags</th>\n",
       "      <th>location</th>\n",
       "    </tr>\n",
       "  </thead>\n",
       "  <tbody>\n",
       "    <tr>\n",
       "      <th>0</th>\n",
       "      <td>Tue Dec 29 23:16:42 +0000 2015</td>\n",
       "      <td>Do you have a favorite color?\\r\\n#KidQuestions...</td>\n",
       "      <td>KidQuestionsForHillary</td>\n",
       "      <td>NaN</td>\n",
       "    </tr>\n",
       "    <tr>\n",
       "      <th>1</th>\n",
       "      <td>Tue Dec 29 23:16:42 +0000 2015</td>\n",
       "      <td>Michigan Tech wins 3-2 in OT! Brent Baltus the...</td>\n",
       "      <td>GLI51</td>\n",
       "      <td>NaN</td>\n",
       "    </tr>\n",
       "    <tr>\n",
       "      <th>2</th>\n",
       "      <td>Tue Dec 29 23:16:42 +0000 2015</td>\n",
       "      <td>#MessageForMyCrush love you preeto</td>\n",
       "      <td>MessageForMyCrush</td>\n",
       "      <td>NaN</td>\n",
       "    </tr>\n",
       "    <tr>\n",
       "      <th>3</th>\n",
       "      <td>Tue Dec 29 23:16:42 +0000 2015</td>\n",
       "      <td>Stop  https://t.co/g3dGd37ZMd</td>\n",
       "      <td>NaN</td>\n",
       "      <td>NaN</td>\n",
       "    </tr>\n",
       "    <tr>\n",
       "      <th>4</th>\n",
       "      <td>Tue Dec 29 23:16:42 +0000 2015</td>\n",
       "      <td>#MessageForMyCrush I've picked out my wedding ...</td>\n",
       "      <td>MessageForMyCrush</td>\n",
       "      <td>NaN</td>\n",
       "    </tr>\n",
       "  </tbody>\n",
       "</table>\n",
       "</div>"
      ],
      "text/plain": [
       "                             time  \\\n",
       "0  Tue Dec 29 23:16:42 +0000 2015   \n",
       "1  Tue Dec 29 23:16:42 +0000 2015   \n",
       "2  Tue Dec 29 23:16:42 +0000 2015   \n",
       "3  Tue Dec 29 23:16:42 +0000 2015   \n",
       "4  Tue Dec 29 23:16:42 +0000 2015   \n",
       "\n",
       "                                               tweet                hashtags  \\\n",
       "0  Do you have a favorite color?\\r\\n#KidQuestions...  KidQuestionsForHillary   \n",
       "1  Michigan Tech wins 3-2 in OT! Brent Baltus the...                   GLI51   \n",
       "2                #MessageForMyCrush love you preeto        MessageForMyCrush   \n",
       "3                      Stop  https://t.co/g3dGd37ZMd                     NaN   \n",
       "4  #MessageForMyCrush I've picked out my wedding ...       MessageForMyCrush   \n",
       "\n",
       "  location  \n",
       "0      NaN  \n",
       "1      NaN  \n",
       "2      NaN  \n",
       "3      NaN  \n",
       "4      NaN  "
      ]
     },
     "execution_count": 4,
     "metadata": {},
     "output_type": "execute_result"
    }
   ],
   "source": [
    "NorthAmerica = pd.read_csv(\"rawdata/trends/1230/NorthAmerica_Trends1230.csv\",sep = \",\", header = 0)\n",
    "\n",
    "NorthAmerica.columns = ['time','tweet','hashtags','location']\n",
    "# NorthAmerica.columns = ['time','tweet','hashtags','place', 'location']\n",
    "print len(NorthAmerica.index)\n",
    "NorthAmerica = NorthAmerica.drop_duplicates(subset='tweet',keep='last') #remove the duplicate tweets\n",
    "print len(NorthAmerica.index)\n",
    "\n",
    "TwitterData = NorthAmerica\n",
    "TwitterData.head()"
   ]
  },
  {
   "cell_type": "markdown",
   "metadata": {},
   "source": [
    "### Cleaning, Tokenization and Stemming"
   ]
  },
  {
   "cell_type": "markdown",
   "metadata": {},
   "source": [
    "Remove stopwords :\n",
    "\n",
    "we define a function for cleaning the tweets."
   ]
  },
  {
   "cell_type": "code",
   "execution_count": 5,
   "metadata": {
    "collapsed": false
   },
   "outputs": [],
   "source": [
    "#stemming\n",
    "from nltk.stem.snowball import SnowballStemmer\n",
    "#from __future__ import print_function, unicode_literals\n",
    "# Create p_stemmer of class PorterStemmer\n",
    "s_stemmer = SnowballStemmer(\"english\")\n",
    "\n",
    "def filter_tweet (sample):\n",
    "    stopped_tokens = [re.sub(r'(^https?:\\/\\/.*[\\r\\n]*)|(@[A-Za-z0-9]+)|(#[A-Za-z0-9]+)|(\\n)|([^\\w])|(RT)',\n",
    "                '', word, flags=re.MULTILINE) for word in str(sample).split(\" \")] \n",
    "#     stopped_tokens = [re.sub(r'(^https?:\\/\\/.*[\\r\\n]*)|(@[A-Za-z0-9]+)|(#[A-Za-z0-9]+)|(\\n)|([^\\w])|(RT)',\n",
    "#                 '', word, flags=re.MULTILINE) for word in str(sample).split(\" \") if word not in stopwords.words('english')] \n",
    "    filtered_sample = filter(None,stopped_tokens)\n",
    "#     filtered_sample = [s_stemmer.stem(i).lower() for i in filtered_sample] \n",
    "    #filtered_sample = [s_stemmer(i.lower()) for i in filtered_sample]\n",
    "    filtered_sample = \" \".join(filtered_sample)\n",
    "    return filtered_sample"
   ]
  },
  {
   "cell_type": "markdown",
   "metadata": {},
   "source": [
    "### Build the List of tweets :"
   ]
  },
  {
   "cell_type": "code",
   "execution_count": 6,
   "metadata": {
    "collapsed": false
   },
   "outputs": [],
   "source": [
    "ListTweets = [filter_tweet(tweet) for tweet in TwitterData.tweet.values]"
   ]
  },
  {
   "cell_type": "markdown",
   "metadata": {},
   "source": [
    "### Test by sampling :"
   ]
  },
  {
   "cell_type": "code",
   "execution_count": 7,
   "metadata": {
    "collapsed": false
   },
   "outputs": [
    {
     "name": "stdout",
     "output_type": "stream",
     "text": [
      "@Spidiemma the bigger they are the harder they fall eh!!!! https://t.co/IYR1im9toh\n",
      "\n",
      "\n",
      "the bigger they are the harder they fall eh\n"
     ]
    }
   ],
   "source": [
    "#sample\n",
    "sample_index = 5\n",
    "print TwitterData.tweet.values[sample_index]+\"\\n\\n\"\n",
    "print ListTweets[sample_index]"
   ]
  },
  {
   "cell_type": "code",
   "execution_count": 8,
   "metadata": {
    "collapsed": false
   },
   "outputs": [
    {
     "name": "stdout",
     "output_type": "stream",
     "text": [
      "Used to telegraph me from your stagecoach\n",
      "RT @justinjayubo: Used to telegraph me from your stagecoach..  #OldWestPickupLines\n"
     ]
    }
   ],
   "source": [
    "print filter_tweet(TwitterData.tweet.values[15])\n",
    "print TwitterData.tweet.values[15]"
   ]
  },
  {
   "cell_type": "code",
   "execution_count": 9,
   "metadata": {
    "collapsed": false
   },
   "outputs": [],
   "source": [
    "#lower for hashtags\n",
    "ListHashtags =[str(hashtag).lower() for hashtag in TwitterData.hashtags.values]  "
   ]
  },
  {
   "cell_type": "markdown",
   "metadata": {},
   "source": [
    "### Save the cleaned data to a data frame"
   ]
  },
  {
   "cell_type": "code",
   "execution_count": 10,
   "metadata": {
    "collapsed": false
   },
   "outputs": [],
   "source": [
    "TwitterData_cleaned = pd.DataFrame({\"tweet\": ListTweets, \n",
    "                                   \"hashtags\": ListHashtags,\n",
    "                                   \"location\": TwitterData.location})"
   ]
  },
  {
   "cell_type": "code",
   "execution_count": 11,
   "metadata": {
    "collapsed": false
   },
   "outputs": [],
   "source": [
    "TwitterData_cleaned.to_csv(\"predata/NorthAmerica_Trends_cleaned1230_nostop.csv\", sep = \",\", header = True, index = False)"
   ]
  },
  {
   "cell_type": "code",
   "execution_count": 12,
   "metadata": {
    "collapsed": false
   },
   "outputs": [
    {
     "data": {
      "text/html": [
       "<div>\n",
       "<table border=\"1\" class=\"dataframe\">\n",
       "  <thead>\n",
       "    <tr style=\"text-align: right;\">\n",
       "      <th></th>\n",
       "      <th>hashtags</th>\n",
       "      <th>location</th>\n",
       "      <th>tweet</th>\n",
       "    </tr>\n",
       "  </thead>\n",
       "  <tbody>\n",
       "    <tr>\n",
       "      <th>0</th>\n",
       "      <td>kidquestionsforhillary</td>\n",
       "      <td>NaN</td>\n",
       "      <td>Do you have a favorite color</td>\n",
       "    </tr>\n",
       "    <tr>\n",
       "      <th>1</th>\n",
       "      <td>gli51</td>\n",
       "      <td>NaN</td>\n",
       "      <td>Michigan Tech wins 32 in OT Brent Baltus the h...</td>\n",
       "    </tr>\n",
       "    <tr>\n",
       "      <th>2</th>\n",
       "      <td>messageformycrush</td>\n",
       "      <td>NaN</td>\n",
       "      <td>love you preeto</td>\n",
       "    </tr>\n",
       "    <tr>\n",
       "      <th>3</th>\n",
       "      <td>nan</td>\n",
       "      <td>NaN</td>\n",
       "      <td>Stop</td>\n",
       "    </tr>\n",
       "    <tr>\n",
       "      <th>4</th>\n",
       "      <td>messageformycrush</td>\n",
       "      <td>NaN</td>\n",
       "      <td>Ive picked out my wedding dress your tux and a...</td>\n",
       "    </tr>\n",
       "    <tr>\n",
       "      <th>5</th>\n",
       "      <td>nan</td>\n",
       "      <td>Northern Ireland, United Kingdom</td>\n",
       "      <td>the bigger they are the harder they fall eh</td>\n",
       "    </tr>\n",
       "    <tr>\n",
       "      <th>8</th>\n",
       "      <td>nan</td>\n",
       "      <td>NaN</td>\n",
       "      <td>Early round draft prospects to keep an eye on ...</td>\n",
       "    </tr>\n",
       "    <tr>\n",
       "      <th>11</th>\n",
       "      <td>pataki</td>\n",
       "      <td>NaN</td>\n",
       "      <td>First time has trended Irony</td>\n",
       "    </tr>\n",
       "    <tr>\n",
       "      <th>13</th>\n",
       "      <td>happyvday2015</td>\n",
       "      <td>NaN</td>\n",
       "      <td>GORGEOUS JUST FUCKING GORGEOUS</td>\n",
       "    </tr>\n",
       "    <tr>\n",
       "      <th>16</th>\n",
       "      <td>ncaaffr</td>\n",
       "      <td>NaN</td>\n",
       "      <td>Russell Athletic Bowl 1er TD pour les Tar Heel...</td>\n",
       "    </tr>\n",
       "  </tbody>\n",
       "</table>\n",
       "</div>"
      ],
      "text/plain": [
       "                  hashtags                          location  \\\n",
       "0   kidquestionsforhillary                               NaN   \n",
       "1                    gli51                               NaN   \n",
       "2        messageformycrush                               NaN   \n",
       "3                      nan                               NaN   \n",
       "4        messageformycrush                               NaN   \n",
       "5                      nan  Northern Ireland, United Kingdom   \n",
       "8                      nan                               NaN   \n",
       "11                  pataki                               NaN   \n",
       "13           happyvday2015                               NaN   \n",
       "16                 ncaaffr                               NaN   \n",
       "\n",
       "                                                tweet  \n",
       "0                        Do you have a favorite color  \n",
       "1   Michigan Tech wins 32 in OT Brent Baltus the h...  \n",
       "2                                     love you preeto  \n",
       "3                                                Stop  \n",
       "4   Ive picked out my wedding dress your tux and a...  \n",
       "5         the bigger they are the harder they fall eh  \n",
       "8   Early round draft prospects to keep an eye on ...  \n",
       "11                       First time has trended Irony  \n",
       "13                     GORGEOUS JUST FUCKING GORGEOUS  \n",
       "16  Russell Athletic Bowl 1er TD pour les Tar Heel...  "
      ]
     },
     "execution_count": 12,
     "metadata": {},
     "output_type": "execute_result"
    }
   ],
   "source": [
    "TwitterData_cleaned[0:10]"
   ]
  },
  {
   "cell_type": "markdown",
   "metadata": {
    "collapsed": false
   },
   "source": [
    "# Trends Pre-processing \n",
    "\n",
    "We will save two pandas.dataframe to store the 'keywords' and 'hashtags' seprately."
   ]
  },
  {
   "cell_type": "code",
   "execution_count": 13,
   "metadata": {
    "collapsed": false
   },
   "outputs": [
    {
     "data": {
      "text/html": [
       "<div>\n",
       "<table border=\"1\" class=\"dataframe\">\n",
       "  <thead>\n",
       "    <tr style=\"text-align: right;\">\n",
       "      <th></th>\n",
       "      <th>create</th>\n",
       "      <th>trend</th>\n",
       "    </tr>\n",
       "  </thead>\n",
       "  <tbody>\n",
       "    <tr>\n",
       "      <th>0</th>\n",
       "      <td>2015-12-29T23:15:02Z</td>\n",
       "      <td>Edwin Burgos</td>\n",
       "    </tr>\n",
       "    <tr>\n",
       "      <th>1</th>\n",
       "      <td>2015-12-29T23:15:02Z</td>\n",
       "      <td>#OldWestPickupLines</td>\n",
       "    </tr>\n",
       "    <tr>\n",
       "      <th>2</th>\n",
       "      <td>2015-12-29T23:15:02Z</td>\n",
       "      <td>#MessageForMyCrush</td>\n",
       "    </tr>\n",
       "    <tr>\n",
       "      <th>3</th>\n",
       "      <td>2015-12-29T23:15:02Z</td>\n",
       "      <td>#KidQuestionsForHillary</td>\n",
       "    </tr>\n",
       "    <tr>\n",
       "      <th>4</th>\n",
       "      <td>2015-12-29T23:15:02Z</td>\n",
       "      <td>#HelpAllySEE</td>\n",
       "    </tr>\n",
       "  </tbody>\n",
       "</table>\n",
       "</div>"
      ],
      "text/plain": [
       "                 create                    trend\n",
       "0  2015-12-29T23:15:02Z             Edwin Burgos\n",
       "1  2015-12-29T23:15:02Z      #OldWestPickupLines\n",
       "2  2015-12-29T23:15:02Z       #MessageForMyCrush\n",
       "3  2015-12-29T23:15:02Z  #KidQuestionsForHillary\n",
       "4  2015-12-29T23:15:02Z             #HelpAllySEE"
      ]
     },
     "execution_count": 13,
     "metadata": {},
     "output_type": "execute_result"
    }
   ],
   "source": [
    "Trends = pd.read_csv(\"rawdata/trends/1230/Trends1230.csv\",sep = \",\", header = 0)\n",
    "\n",
    "Trends.head()"
   ]
  },
  {
   "cell_type": "code",
   "execution_count": 14,
   "metadata": {
    "collapsed": false
   },
   "outputs": [
    {
     "data": {
      "text/plain": [
       "['edwin burgos',\n",
       " '#oldwestpickuplines',\n",
       " '#messageformycrush',\n",
       " '#kidquestionsforhillary',\n",
       " '#helpallysee',\n",
       " 'mike tyson',\n",
       " 'jared goff',\n",
       " '#tyleroakleythankyoufor',\n",
       " 'baylor',\n",
       " 'george pataki']"
      ]
     },
     "execution_count": 14,
     "metadata": {},
     "output_type": "execute_result"
    }
   ],
   "source": [
    "ListTrends =[str(hashtag).lower() for hashtag in Trends.trend.values]\n",
    "ListTrends[0:10]"
   ]
  },
  {
   "cell_type": "code",
   "execution_count": 15,
   "metadata": {
    "collapsed": false
   },
   "outputs": [
    {
     "name": "stdout",
     "output_type": "stream",
     "text": [
      "49\n"
     ]
    },
    {
     "data": {
      "text/html": [
       "<div>\n",
       "<table border=\"1\" class=\"dataframe\">\n",
       "  <thead>\n",
       "    <tr style=\"text-align: right;\">\n",
       "      <th></th>\n",
       "      <th>hashtag</th>\n",
       "    </tr>\n",
       "  </thead>\n",
       "  <tbody>\n",
       "    <tr>\n",
       "      <th>0</th>\n",
       "      <td>oldwestpickuplines</td>\n",
       "    </tr>\n",
       "    <tr>\n",
       "      <th>2</th>\n",
       "      <td>kidquestionsforhillary</td>\n",
       "    </tr>\n",
       "    <tr>\n",
       "      <th>3</th>\n",
       "      <td>helpallysee</td>\n",
       "    </tr>\n",
       "    <tr>\n",
       "      <th>4</th>\n",
       "      <td>tyleroakleythankyoufor</td>\n",
       "    </tr>\n",
       "    <tr>\n",
       "      <th>5</th>\n",
       "      <td>nicksnewvideo</td>\n",
       "    </tr>\n",
       "  </tbody>\n",
       "</table>\n",
       "</div>"
      ],
      "text/plain": [
       "                  hashtag\n",
       "0      oldwestpickuplines\n",
       "2  kidquestionsforhillary\n",
       "3             helpallysee\n",
       "4  tyleroakleythankyoufor\n",
       "5           nicksnewvideo"
      ]
     },
     "execution_count": 15,
     "metadata": {},
     "output_type": "execute_result"
    }
   ],
   "source": [
    "Hashtags_cleaned = pd.DataFrame({\"hashtag\": [word[1:] for word in ListTrends if \"#\" in word]})\n",
    "Hashtags_cleaned = Hashtags_cleaned.drop_duplicates(subset='hashtag',keep='last')\n",
    "print len(Hashtags_cleaned)\n",
    "Hashtags_cleaned.head()"
   ]
  },
  {
   "cell_type": "code",
   "execution_count": 16,
   "metadata": {
    "collapsed": false
   },
   "outputs": [
    {
     "name": "stdout",
     "output_type": "stream",
     "text": [
      "50\n"
     ]
    },
    {
     "data": {
      "text/html": [
       "<div>\n",
       "<table border=\"1\" class=\"dataframe\">\n",
       "  <thead>\n",
       "    <tr style=\"text-align: right;\">\n",
       "      <th></th>\n",
       "      <th>keyword</th>\n",
       "    </tr>\n",
       "  </thead>\n",
       "  <tbody>\n",
       "    <tr>\n",
       "      <th>0</th>\n",
       "      <td>edwin burgos</td>\n",
       "    </tr>\n",
       "    <tr>\n",
       "      <th>1</th>\n",
       "      <td>mike tyson</td>\n",
       "    </tr>\n",
       "    <tr>\n",
       "      <th>2</th>\n",
       "      <td>jared goff</td>\n",
       "    </tr>\n",
       "    <tr>\n",
       "      <th>3</th>\n",
       "      <td>baylor</td>\n",
       "    </tr>\n",
       "    <tr>\n",
       "      <th>4</th>\n",
       "      <td>george pataki</td>\n",
       "    </tr>\n",
       "  </tbody>\n",
       "</table>\n",
       "</div>"
      ],
      "text/plain": [
       "         keyword\n",
       "0   edwin burgos\n",
       "1     mike tyson\n",
       "2     jared goff\n",
       "3         baylor\n",
       "4  george pataki"
      ]
     },
     "execution_count": 16,
     "metadata": {},
     "output_type": "execute_result"
    }
   ],
   "source": [
    "Keywords_cleaned = pd.DataFrame({\"keyword\": [word for word in ListTrends if \"#\" not in word]})\n",
    "Keywords_cleaned = Keywords_cleaned.drop_duplicates(subset='keyword',keep='last')\n",
    "print len(Keywords_cleaned)\n",
    "Keywords_cleaned.head()"
   ]
  },
  {
   "cell_type": "code",
   "execution_count": 17,
   "metadata": {
    "collapsed": true
   },
   "outputs": [],
   "source": [
    "Hashtags_cleaned.to_csv(\"predata/Hashtags_cleaned1230.csv\", sep = \",\", header = True, index = False)\n",
    "Keywords_cleaned.to_csv(\"predata/Keywords_cleaned1230.csv\", sep = \",\", header = True, index = False)"
   ]
  },
  {
   "cell_type": "code",
   "execution_count": null,
   "metadata": {
    "collapsed": true
   },
   "outputs": [],
   "source": []
  },
  {
   "cell_type": "code",
   "execution_count": null,
   "metadata": {
    "collapsed": true
   },
   "outputs": [],
   "source": []
  }
 ],
 "metadata": {
  "kernelspec": {
   "display_name": "Python 2",
   "language": "python",
   "name": "python2"
  },
  "language_info": {
   "codemirror_mode": {
    "name": "ipython",
    "version": 2
   },
   "file_extension": ".py",
   "mimetype": "text/x-python",
   "name": "python",
   "nbconvert_exporter": "python",
   "pygments_lexer": "ipython2",
   "version": "2.7.11"
  }
 },
 "nbformat": 4,
 "nbformat_minor": 0
}
