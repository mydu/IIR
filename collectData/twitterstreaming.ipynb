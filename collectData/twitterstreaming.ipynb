{
 "cells": [
  {
   "cell_type": "markdown",
   "metadata": {},
   "source": [
    "### Import the necessary methods from tweepy library :"
   ]
  },
  {
   "cell_type": "code",
   "execution_count": null,
   "metadata": {
    "collapsed": false
   },
   "outputs": [],
   "source": [
    "from tweepy.streaming import StreamListener\n",
    "from tweepy import OAuthHandler\n",
    "from tweepy import Stream\n",
    "import json\n",
    "import csv"
   ]
  },
  {
   "cell_type": "markdown",
   "metadata": {},
   "source": [
    "### Variables that contains the user credentials to access Twitter API :"
   ]
  },
  {
   "cell_type": "code",
   "execution_count": null,
   "metadata": {
    "collapsed": true
   },
   "outputs": [],
   "source": [
    "consumer_key = \"SK5OItiv1BWWPka2yDLzRzijw\"\n",
    "consumer_secret = \"maZDODe1X7UqpeF2DiHZY3SEHkKEO0q1qNrmCESmksPrC5DB9H\"\n",
    "access_token = \"264393411-5pf360OD2MrAdNy4ttsiYI0CkbzMdUp3ubhKSWJK\"\n",
    "access_token_secret = \"9ySEEIhpyHx4snHLHD3tMnDPyj7TipDknss1N8CBQtVyF\"\n",
    "GEOBOX_WORLD = [-180,-90,180,90]\n",
    "GEOBOX_PARIS = [2.225193,48.815573,2.469921,48.902145]\n",
    "GEOBOX_FRANCE=[-5.14,41.34,9.56,51.09]\n",
    "GEOBOX_EUROPE =[-31.5,34.5,74.4,82.2]\n",
    "GEOBOX_NAmerica=[-169.72,25.05,-48.6,71.16]"
   ]
  },
  {
   "cell_type": "markdown",
   "metadata": {},
   "source": [
    "### This is a basic listener that just prints received tweets to stdout :"
   ]
  },
  {
   "cell_type": "code",
   "execution_count": null,
   "metadata": {
    "collapsed": false,
    "scrolled": true
   },
   "outputs": [],
   "source": [
    "writer=csv.writer(open('NorthAmerica.csv','a'))\n",
    "# writer.writerow([\"time\",\"text\",\"hashtag\",\"place\",\"geobox\"])\n",
    "class StdOutListener(StreamListener):\n",
    "    def on_data(self, data):\n",
    "        try:\n",
    "            tweet = json.loads(data)\n",
    "            time=tweet[\"created_at\"]\n",
    "            text=tweet[\"text\"].encode('ascii', 'ignore')\n",
    "            hashtag=\" \".join([i[\"text\"].encode('ascii', 'ignore') for i in tweet['entities']['hashtags']])\n",
    "            place=tweet['place']['full_name'].encode('ascii', 'ignore')\n",
    "#             geobox=tweet['place']['bounding_box']['coordinates']\n",
    "            writer.writerow([time,text,hashtag,place])\n",
    "            # writer.writerow([status[\"created_at\"], status[\"text\"].encode('ascii', 'ignore')])\n",
    "            print tweet[\"created_at\"]\n",
    "            # print status['text'].encode('ascii', 'ignore')\n",
    "            return True\n",
    "        except BaseException as e:\n",
    "            print(\"Error on_data: %s\" % str(e))\n",
    "            pass\n",
    "        return True\n",
    " \n",
    "    def on_error(self, status):\n",
    "        print(status)\n",
    "        return True\n",
    "\n",
    "\n",
    "if __name__ == '__main__':\n",
    "\n",
    "    #This handles Twitter authetification and the connection to Twitter Streaming API\n",
    "    l = StdOutListener()\n",
    "    auth = OAuthHandler(consumer_key, consumer_secret)\n",
    "    auth.set_access_token(access_token, access_token_secret)\n",
    "    stream = Stream(auth, l)\n",
    "    \n",
    "    stream.filter(locations=GEOBOX_NAmerica,languages = ['en'],stall_warnings=True)"
   ]
  },
  {
   "cell_type": "code",
   "execution_count": null,
   "metadata": {
    "collapsed": false
   },
   "outputs": [],
   "source": [
    "print type(str('asdfa'))\n",
    "print type(None)"
   ]
  },
  {
   "cell_type": "code",
   "execution_count": null,
   "metadata": {
    "collapsed": true
   },
   "outputs": [],
   "source": []
  }
 ],
 "metadata": {
  "kernelspec": {
   "display_name": "Python 2",
   "language": "python",
   "name": "python2"
  },
  "language_info": {
   "codemirror_mode": {
    "name": "ipython",
    "version": 2
   },
   "file_extension": ".py",
   "mimetype": "text/x-python",
   "name": "python",
   "nbconvert_exporter": "python",
   "pygments_lexer": "ipython2",
   "version": "2.7.10"
  }
 },
 "nbformat": 4,
 "nbformat_minor": 0
}
