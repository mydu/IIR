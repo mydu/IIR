{
 "cells": [
  {
   "cell_type": "code",
   "execution_count": 12,
   "metadata": {
    "collapsed": true
   },
   "outputs": [],
   "source": [
    "import tweepy\n",
    "import time\n",
    "import threading\n",
    "import csv"
   ]
  },
  {
   "cell_type": "code",
   "execution_count": 13,
   "metadata": {
    "collapsed": true
   },
   "outputs": [],
   "source": [
    "consumer_key = \"yb0bQnBPcbTePsmbOFGV18EJh\"\n",
    "consumer_secret = \"C8ZwIfWlNzZWvpR2SRxzjVv8tXxomB4j20ujHvKMKuhxf6iz8F\"\n",
    "access_token = \"3368932433-euKdZbbRqNmj1hdEWY4BzeDf80u1HifhhBRu1zR\"\n",
    "access_token_secret = \"MH9OGdX0rMWS0IngSdWEixYAlwi9UpKLw13n02UtIetaV\""
   ]
  },
  {
   "cell_type": "code",
   "execution_count": 14,
   "metadata": {
    "collapsed": true
   },
   "outputs": [],
   "source": [
    "auth = tweepy.OAuthHandler(consumer_key, consumer_secret)\n",
    "auth.set_access_token(access_token, access_token_secret)\n",
    "api = tweepy.API(auth,wait_on_rate_limit=True,wait_on_rate_limit_notify=True)"
   ]
  },
  {
   "cell_type": "code",
   "execution_count": null,
   "metadata": {
    "collapsed": true
   },
   "outputs": [],
   "source": [
    "europe_woeid=[23424757,23424796,23424803,23424819,23424829,23424833,23424853,23424909,23424910,23424925,23424950,23424954,23424957,23424969,23424975]\n",
    "namerica_woeid=[23424775,23424977]"
   ]
  },
  {
   "cell_type": "code",
   "execution_count": null,
   "metadata": {
    "collapsed": false
   },
   "outputs": [],
   "source": [
    "writer=csv.writer(open('Trends1205.csv','a'))\n",
    "# writer.writerow([\"createdAt\",\"trend\"])\n",
    "\n",
    "def fetchTrends():\n",
    "    trends=api.trends_place(23424977)\n",
    "    create=trends[0][\"created_at\"]\n",
    "    print create\n",
    "    # for placeid in namerica_woeid:\n",
    "    #     trends=api.trends_place(placeid)\n",
    "    for i in trends[0][\"trends\"]:\n",
    "        print i[\"name\"]\n",
    "        writer.writerow([create,i[\"name\"]])\n",
    "while True:\n",
    "    fetchTrends()\n",
    "    time.sleep(600)"
   ]
  },
  {
   "cell_type": "code",
   "execution_count": null,
   "metadata": {
    "collapsed": true
   },
   "outputs": [],
   "source": []
  }
 ],
 "metadata": {
  "kernelspec": {
   "display_name": "Python 2",
   "language": "python",
   "name": "python2"
  },
  "language_info": {
   "codemirror_mode": {
    "name": "ipython",
    "version": 2
   },
   "file_extension": ".py",
   "mimetype": "text/x-python",
   "name": "python",
   "nbconvert_exporter": "python",
   "pygments_lexer": "ipython2",
   "version": "2.7.10"
  }
 },
 "nbformat": 4,
 "nbformat_minor": 0
}
