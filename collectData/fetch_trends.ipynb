{
 "cells": [
  {
   "cell_type": "code",
   "execution_count": 1,
   "metadata": {
    "collapsed": true
   },
   "outputs": [],
   "source": [
    "import tweepy\n",
    "import time\n",
    "import threading\n",
    "import csv"
   ]
  },
  {
   "cell_type": "code",
   "execution_count": 2,
   "metadata": {
    "collapsed": true
   },
   "outputs": [],
   "source": [
    "consumer_key = \"yb0bQnBPcbTePsmbOFGV18EJh\"\n",
    "consumer_secret = \"C8ZwIfWlNzZWvpR2SRxzjVv8tXxomB4j20ujHvKMKuhxf6iz8F\"\n",
    "access_token = \"3368932433-euKdZbbRqNmj1hdEWY4BzeDf80u1HifhhBRu1zR\"\n",
    "access_token_secret = \"MH9OGdX0rMWS0IngSdWEixYAlwi9UpKLw13n02UtIetaV\""
   ]
  },
  {
   "cell_type": "code",
   "execution_count": 3,
   "metadata": {
    "collapsed": true
   },
   "outputs": [],
   "source": [
    "auth = tweepy.OAuthHandler(consumer_key, consumer_secret)\n",
    "auth.set_access_token(access_token, access_token_secret)\n",
    "api = tweepy.API(auth,wait_on_rate_limit=True,wait_on_rate_limit_notify=True)"
   ]
  },
  {
   "cell_type": "code",
   "execution_count": 4,
   "metadata": {
    "collapsed": true
   },
   "outputs": [],
   "source": [
    "europe_woeid=[23424757,23424796,23424803,23424819,23424829,23424833,23424853,23424909,23424910,23424925,23424950,23424954,23424957,23424969,23424975]\n",
    "namerica_woeid=[23424775,23424977]"
   ]
  },
  {
   "cell_type": "code",
   "execution_count": 5,
   "metadata": {
    "collapsed": false
   },
   "outputs": [
    {
     "name": "stdout",
     "output_type": "stream",
     "text": [
      "2015-12-29T19:26:27Z\n",
      "#MessageForMyCrush\n",
      "mark salling\n",
      "#TravelTuesday\n",
      "#happyvday2015\n",
      "#EthanCouch\n",
      "#ConnorFrantaTwitterMeetup\n",
      "The Outfield\n",
      "Puck\n",
      "Joe Mixon\n",
      "For the Wealthiest\n",
      "looking for love\n",
      "Yeezys\n",
      "Eric Bledsoe\n",
      "steelhammer\n",
      "john bradbury\n",
      "Media Day\n",
      "Sam Gagner\n",
      "Laquan McDonald\n",
      "Pete Wells\n",
      "Steffy\n",
      "Jerry Lewis\n",
      "Pat Fitzgerald\n",
      "Eric Striker\n",
      "Buster Douglas\n",
      "West Alton\n",
      "Kevin Punter\n",
      "Charity Hospital\n",
      "#ArmedForcesBowl\n",
      "#TWDMarathon\n",
      "#HillaryInNH\n",
      "#O2LForeverParty\n",
      "#GolpeAlVoto\n",
      "#IsItIllusionOrReality\n",
      "#RedLightsRemixByMahone\n",
      "#letmefemsplain\n",
      "#TWUG\n",
      "#iHeartCageTheElephant\n",
      "#Midlands53\n",
      "#traditiontalk\n",
      "#NYPDGrad\n",
      "#ElChefDeLasCocinas\n",
      "#AskGH\n",
      "#WreckLSU\n",
      "#Daredevil\n",
      "#WoundedKnee\n",
      "#CelebsGoneGood\n",
      "#nathansykes2015\n",
      "#MightyQuinn\n",
      "#prayersforCraig\n",
      "#Ujamaa\n"
     ]
    },
    {
     "ename": "KeyboardInterrupt",
     "evalue": "",
     "output_type": "error",
     "traceback": [
      "\u001b[0;31m---------------------------------------------------------------------------\u001b[0m",
      "\u001b[0;31mKeyboardInterrupt\u001b[0m                         Traceback (most recent call last)",
      "\u001b[0;32m<ipython-input-5-474e3917bfc6>\u001b[0m in \u001b[0;36m<module>\u001b[0;34m()\u001b[0m\n\u001b[1;32m     14\u001b[0m \u001b[0;32mwhile\u001b[0m \u001b[0mTrue\u001b[0m\u001b[0;34m:\u001b[0m\u001b[0;34m\u001b[0m\u001b[0m\n\u001b[1;32m     15\u001b[0m     \u001b[0mfetchTrends\u001b[0m\u001b[0;34m(\u001b[0m\u001b[0;34m)\u001b[0m\u001b[0;34m\u001b[0m\u001b[0m\n\u001b[0;32m---> 16\u001b[0;31m     \u001b[0mtime\u001b[0m\u001b[0;34m.\u001b[0m\u001b[0msleep\u001b[0m\u001b[0;34m(\u001b[0m\u001b[0;36m600\u001b[0m\u001b[0;34m)\u001b[0m\u001b[0;34m\u001b[0m\u001b[0m\n\u001b[0m",
      "\u001b[0;31mKeyboardInterrupt\u001b[0m: "
     ]
    }
   ],
   "source": [
    "writer=csv.writer(open('Trends1229.csv','a'))\n",
    "# writer.writerow([\"createdAt\",\"trend\"])\n",
    "\n",
    "def fetchTrends():\n",
    "    trends=api.trends_place(23424977)\n",
    "    create=trends[0][\"created_at\"]\n",
    "    print create\n",
    "    # for placeid in namerica_woeid:\n",
    "    #     trends=api.trends_place(placeid)\n",
    "    for i in trends[0][\"trends\"]:\n",
    "        trend=i[\"name\"].encode('ascii', 'ignore')\n",
    "        print trend\n",
    "        writer.writerow([create,trend])\n",
    "while True:\n",
    "    fetchTrends()\n",
    "    time.sleep(600)"
   ]
  },
  {
   "cell_type": "code",
   "execution_count": null,
   "metadata": {
    "collapsed": true
   },
   "outputs": [],
   "source": []
  }
 ],
 "metadata": {
  "kernelspec": {
   "display_name": "Python 2",
   "language": "python",
   "name": "python2"
  },
  "language_info": {
   "codemirror_mode": {
    "name": "ipython",
    "version": 2
   },
   "file_extension": ".py",
   "mimetype": "text/x-python",
   "name": "python",
   "nbconvert_exporter": "python",
   "pygments_lexer": "ipython2",
   "version": "2.7.10"
  }
 },
 "nbformat": 4,
 "nbformat_minor": 0
}
